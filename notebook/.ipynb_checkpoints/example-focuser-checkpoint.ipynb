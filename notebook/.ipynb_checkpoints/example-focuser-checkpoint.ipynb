{
 "cells": [
  {
   "cell_type": "markdown",
   "id": "e2d92e30-be8b-4398-afba-8654fd4f4db7",
   "metadata": {},
   "source": [
    "## Examples EAFpy Focuser"
   ]
  },
  {
   "cell_type": "code",
   "execution_count": 1,
   "id": "85dea2e9-e1cc-4229-8d17-23c7ff75695d",
   "metadata": {},
   "outputs": [],
   "source": [
    "from ciboulette.indiclient import indiEAFpy"
   ]
  },
  {
   "cell_type": "markdown",
   "id": "240e8570-a523-4733-891a-e625b3643681",
   "metadata": {},
   "source": [
    "- Citation & contact"
   ]
  },
  {
   "cell_type": "code",
   "execution_count": 2,
   "id": "792acf0f-da11-4778-a31a-9b3696b5d959",
   "metadata": {},
   "outputs": [
    {
     "name": "stdout",
     "output_type": "stream",
     "text": [
      "('dtouzan@gmail.com', 'https://github.com/dtouzan/ciboulette')\n"
     ]
    }
   ],
   "source": [
    "print(indiEAFpy.__contact__)"
   ]
  },
  {
   "cell_type": "markdown",
   "id": "4cdec908-ae24-49a7-a571-7b68c4e68ac2",
   "metadata": {},
   "source": [
    "- Create EAFpy"
   ]
  },
  {
   "cell_type": "code",
   "execution_count": 16,
   "id": "7b9355cd-3da8-42be-9b15-64b5fc04eebe",
   "metadata": {},
   "outputs": [],
   "source": [
    "focus = indiEAFpy.EAFpy('192.168.1.196',7624)"
   ]
  },
  {
   "cell_type": "markdown",
   "id": "503255df-41bc-43be-aeb3-d330365354d9",
   "metadata": {},
   "source": [
    "- Go to 30 step"
   ]
  },
  {
   "cell_type": "code",
   "execution_count": 21,
   "id": "733a1b98-d961-494a-8bab-3d6edec9ee2c",
   "metadata": {},
   "outputs": [],
   "source": [
    "focus.ticks = 30"
   ]
  },
  {
   "cell_type": "markdown",
   "id": "1054bbbf-1e83-4bfc-8474-74058ef99d39",
   "metadata": {},
   "source": [
    "- Initialized number of steps"
   ]
  },
  {
   "cell_type": "code",
   "execution_count": 12,
   "id": "ab5e0457-4577-4d9b-b866-5645dc5219cd",
   "metadata": {},
   "outputs": [
    {
     "data": {
      "text/plain": [
       "30"
      ]
     },
     "execution_count": 12,
     "metadata": {},
     "output_type": "execute_result"
    }
   ],
   "source": [
    "focus.ticks"
   ]
  },
  {
   "cell_type": "markdown",
   "id": "26f297f8-1b64-4aa2-82a8-b506d31e3cd7",
   "metadata": {},
   "source": [
    "- Moving outward"
   ]
  },
  {
   "cell_type": "code",
   "execution_count": 18,
   "id": "0981631b-9503-4f74-8dfb-ea20fb60a456",
   "metadata": {},
   "outputs": [],
   "source": [
    "focus.outward"
   ]
  },
  {
   "cell_type": "markdown",
   "id": "66edc1fb-5378-463d-834b-56a28476ba9b",
   "metadata": {},
   "source": [
    "- Moving inward"
   ]
  },
  {
   "cell_type": "code",
   "execution_count": 14,
   "id": "bae057dd-f6b7-4253-8f85-1e4f3a019137",
   "metadata": {},
   "outputs": [],
   "source": [
    "focus.inward"
   ]
  },
  {
   "cell_type": "markdown",
   "id": "5d2205c3-52be-41e2-9394-b8b37adec602",
   "metadata": {},
   "source": [
    "- Focus direction (inward, outward)"
   ]
  },
  {
   "cell_type": "code",
   "execution_count": 13,
   "id": "ed5d408d-af9d-4f3b-a116-36d8e1a40405",
   "metadata": {},
   "outputs": [
    {
     "data": {
      "text/plain": [
       "('On', 'Off')"
      ]
     },
     "execution_count": 13,
     "metadata": {},
     "output_type": "execute_result"
    }
   ],
   "source": [
    "focus.direction"
   ]
  },
  {
   "cell_type": "markdown",
   "id": "8281bf57-3c8c-476b-8e5d-297e636e4552",
   "metadata": {},
   "source": [
    "- Initialized focus delay"
   ]
  },
  {
   "cell_type": "code",
   "execution_count": 8,
   "id": "cfdceb6a-be64-47d3-9a24-eca17400d1ca",
   "metadata": {},
   "outputs": [],
   "source": [
    "focus.delay = 5"
   ]
  },
  {
   "cell_type": "markdown",
   "id": "9c151aa9-83d4-4dd9-accf-4a4a20cb263a",
   "metadata": {},
   "source": [
    "- Focus delay "
   ]
  },
  {
   "cell_type": "code",
   "execution_count": 9,
   "id": "2f238cff-6c9e-4580-8577-1e61345e1b36",
   "metadata": {},
   "outputs": [
    {
     "data": {
      "text/plain": [
       "5.0"
      ]
     },
     "execution_count": 9,
     "metadata": {},
     "output_type": "execute_result"
    }
   ],
   "source": [
    "focus.delay"
   ]
  },
  {
   "cell_type": "markdown",
   "id": "eede3f62-b1b5-40da-8c77-494351133f52",
   "metadata": {},
   "source": [
    "- Initialized speed 1"
   ]
  },
  {
   "cell_type": "code",
   "execution_count": 16,
   "id": "5d2251a9-75d4-43e8-9269-7e3a162fccb6",
   "metadata": {},
   "outputs": [],
   "source": [
    "focus.speed1"
   ]
  },
  {
   "cell_type": "markdown",
   "id": "c76a72c7-a799-4e9f-ab37-0302cb4fb252",
   "metadata": {},
   "source": [
    "- Initialized speed 2"
   ]
  },
  {
   "cell_type": "code",
   "execution_count": 14,
   "id": "177df56e-c08b-4fd5-9ab7-6a16e6a72b87",
   "metadata": {},
   "outputs": [],
   "source": [
    "focus.speed2"
   ]
  },
  {
   "cell_type": "markdown",
   "id": "192cb81d-6a51-4022-8100-16efc0b90180",
   "metadata": {},
   "source": [
    "- Speed (speed 1, speed 2)"
   ]
  },
  {
   "cell_type": "code",
   "execution_count": 13,
   "id": "bd6dfb80-a364-4cee-8b0b-66e1b738fde6",
   "metadata": {},
   "outputs": [
    {
     "data": {
      "text/plain": [
       "('On', 'Off')"
      ]
     },
     "execution_count": 13,
     "metadata": {},
     "output_type": "execute_result"
    }
   ],
   "source": [
    "focus.speed"
   ]
  }
 ],
 "metadata": {
  "kernelspec": {
   "display_name": "Python 3 (ipykernel)",
   "language": "python",
   "name": "python3"
  },
  "language_info": {
   "codemirror_mode": {
    "name": "ipython",
    "version": 3
   },
   "file_extension": ".py",
   "mimetype": "text/x-python",
   "name": "python",
   "nbconvert_exporter": "python",
   "pygments_lexer": "ipython3",
   "version": "3.13.5"
  }
 },
 "nbformat": 4,
 "nbformat_minor": 5
}
