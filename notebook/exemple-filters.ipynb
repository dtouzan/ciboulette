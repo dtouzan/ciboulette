{
 "cells": [
  {
   "cell_type": "markdown",
   "id": "818be279-16a6-4b63-a702-e227beb1da66",
   "metadata": {},
   "source": [
    "## Examples filters class"
   ]
  },
  {
   "cell_type": "code",
   "execution_count": 2,
   "id": "9ba6194e-623d-4041-85fc-6365bcffa2d1",
   "metadata": {},
   "outputs": [],
   "source": [
    "from ciboulette.filtering import filters"
   ]
  },
  {
   "cell_type": "markdown",
   "id": "677e7b29-596d-4c08-b7b1-fc612230d053",
   "metadata": {},
   "source": [
    "### Existing filter\n",
    "\n",
    "- SDSS : SDSS_sloan_g, SDSS_sloan_r, sdss_sloan_u, SDSS_sloan_i, SDSS_sloan_z_s, -SDSS_sloan_y\n",
    "- BESSEL : BESSEL_v, BESSEL_b, BESSEL_r, BESSEL_u, BESSEL_i\n",
    "- RGB : RGB_r, RGB_g, RGB_b\n",
    "- H$\\alpha$ : HA35nm\n",
    "- CLS : CLS_ccd\n",
    "- OIII : OIII12nm"
   ]
  },
  {
   "cell_type": "code",
   "execution_count": 3,
   "id": "4b2588e7-0be9-40fe-aa73-b612eb01f86c",
   "metadata": {},
   "outputs": [],
   "source": [
    "f = filters.Filters(filters.OIII12nm)"
   ]
  },
  {
   "cell_type": "code",
   "execution_count": 4,
   "id": "d9858f65-9a51-470f-8c92-abfd3a073c6b",
   "metadata": {},
   "outputs": [
    {
     "data": {
      "text/plain": [
       "('Astronomik OIII CCD 12nm', 'OIII', 'teal')"
      ]
     },
     "execution_count": 4,
     "metadata": {},
     "output_type": "execute_result"
    }
   ],
   "source": [
    "f.name, f.label, f.color"
   ]
  },
  {
   "cell_type": "code",
   "execution_count": 5,
   "id": "0fde39a3-4e52-41c5-9363-34ebc9f1ef8a",
   "metadata": {},
   "outputs": [
    {
     "data": {
      "text/plain": [
       "([4850, 4900, 4950, 5000, 5050, 5100, 5150],\n",
       " [0, 0.35, 0.85, 0.96, 0.6, 0.2, 0])"
      ]
     },
     "execution_count": 5,
     "metadata": {},
     "output_type": "execute_result"
    }
   ],
   "source": [
    "f.spectral_axis, f.flux"
   ]
  },
  {
   "cell_type": "code",
   "execution_count": 6,
   "id": "7881dc4a-d181-4cd4-a96d-d737ddce1222",
   "metadata": {},
   "outputs": [
    {
     "data": {
      "text/plain": [
       "('Astronomik OIII CCD 12nm', 'Astronomik OIII CCD 12nm')"
      ]
     },
     "execution_count": 6,
     "metadata": {},
     "output_type": "execute_result"
    }
   ],
   "source": [
    "getattr(f,'name'), f.name"
   ]
  },
  {
   "cell_type": "code",
   "execution_count": 7,
   "id": "8a64b7e7-308b-495b-8610-910980f51c22",
   "metadata": {},
   "outputs": [
    {
     "data": {
      "text/plain": [
       "0.96"
      ]
     },
     "execution_count": 7,
     "metadata": {},
     "output_type": "execute_result"
    }
   ],
   "source": [
    "f.max_flux"
   ]
  },
  {
   "cell_type": "code",
   "execution_count": 8,
   "id": "68ebd102-e2f8-4f78-b4bf-cfde2b2e90ab",
   "metadata": {},
   "outputs": [
    {
     "data": {
      "text/plain": [
       "5150"
      ]
     },
     "execution_count": 8,
     "metadata": {},
     "output_type": "execute_result"
    }
   ],
   "source": [
    "f.max_spectral_axis"
   ]
  },
  {
   "cell_type": "markdown",
   "id": "9bcbedf6-caf2-423d-bea9-69ccbb09decb",
   "metadata": {},
   "source": [
    "- Header variable "
   ]
  },
  {
   "cell_type": "code",
   "execution_count": 9,
   "id": "2a2188d0-39cc-4963-8c96-fa389853a417",
   "metadata": {},
   "outputs": [
    {
     "data": {
      "text/plain": [
       "dict_keys(['x', 'y', 'name', 'label', 'color', 'spectral_axis', 'flux'])"
      ]
     },
     "execution_count": 9,
     "metadata": {},
     "output_type": "execute_result"
    }
   ],
   "source": [
    "vars(f).keys()"
   ]
  },
  {
   "cell_type": "markdown",
   "id": "817f3c75-dfc5-4c6b-af69-32ce9da30fe0",
   "metadata": {},
   "source": [
    "- Filters constant"
   ]
  },
  {
   "cell_type": "code",
   "execution_count": 10,
   "id": "5aefb111-51db-4b8e-a12f-f4b840610d48",
   "metadata": {},
   "outputs": [
    {
     "data": {
      "text/plain": [
       "\"Baader SLOAN/SDSS r' photometric\""
      ]
     },
     "execution_count": 10,
     "metadata": {},
     "output_type": "execute_result"
    }
   ],
   "source": [
    "filters.SDSS_sloan_r['name']"
   ]
  },
  {
   "cell_type": "code",
   "execution_count": 11,
   "id": "68148aae-e6a1-4b39-bfe3-d63d46501fd7",
   "metadata": {},
   "outputs": [
    {
     "data": {
      "text/plain": [
       "[0, 0.7, 0.95, 0.85, 0]"
      ]
     },
     "execution_count": 11,
     "metadata": {},
     "output_type": "execute_result"
    }
   ],
   "source": [
    "filters.HA35nm['flux']"
   ]
  },
  {
   "cell_type": "markdown",
   "id": "dadf53cd-2bfd-48d2-a072-0e677b0ed95d",
   "metadata": {},
   "source": [
    "- Dictionary example"
   ]
  },
  {
   "cell_type": "code",
   "execution_count": 12,
   "id": "7a478702-657a-49e7-bc4c-7061233c8d75",
   "metadata": {},
   "outputs": [],
   "source": [
    "filters_dict = {'sdssG': filters.SDSS_sloan_g, 'sdssR': filters.SDSS_sloan_r, 3: f}"
   ]
  },
  {
   "cell_type": "code",
   "execution_count": 13,
   "id": "18c087b6-9664-4b58-9353-efd691939035",
   "metadata": {},
   "outputs": [
    {
     "data": {
      "text/plain": [
       "('Astronomik OIII CCD 12nm', 'OIII')"
      ]
     },
     "execution_count": 13,
     "metadata": {},
     "output_type": "execute_result"
    }
   ],
   "source": [
    "getattr(filters_dict[3], 'name'), filters_dict[3].label"
   ]
  },
  {
   "cell_type": "code",
   "execution_count": 14,
   "id": "f33c5642-38ca-4ba0-af54-be1c6ee5be63",
   "metadata": {},
   "outputs": [
    {
     "data": {
      "text/plain": [
       "[0, 1, 1, 0]"
      ]
     },
     "execution_count": 14,
     "metadata": {},
     "output_type": "execute_result"
    }
   ],
   "source": [
    "filters_dict['sdssR']['flux']"
   ]
  },
  {
   "cell_type": "markdown",
   "id": "619faeeb-488e-4f8b-b88a-eca66f0030e3",
   "metadata": {},
   "source": [
    "- Plot filter"
   ]
  },
  {
   "cell_type": "code",
   "execution_count": 15,
   "id": "f1a23a22-82b1-4046-a73e-63c8e83bafd1",
   "metadata": {},
   "outputs": [],
   "source": [
    "from matplotlib import pyplot as plt"
   ]
  },
  {
   "cell_type": "code",
   "execution_count": 16,
   "id": "421ca2c0-5dd8-4e2d-a5e2-043eadac09b3",
   "metadata": {},
   "outputs": [],
   "source": [
    "OIII = filters.Filters(filters.OIII12nm)\n",
    "Ha = filters.Filters(filters.HA35nm)\n",
    "CLS = filters.Filters(filters.CLS_ccd)\n",
    "Bessel_v = filters.Filters(filters.BESSEL_v)"
   ]
  },
  {
   "cell_type": "code",
   "execution_count": 17,
   "id": "44779331-628c-4428-82de-05a81eebb85f",
   "metadata": {},
   "outputs": [
    {
     "data": {
      "image/png": "[encoded data removed]",
      "text/plain": [
       "<Figure size 1000x300 with 1 Axes>"
      ]
     },
     "metadata": {},
     "output_type": "display_data"
    }
   ],
   "source": [
    "figure = plt.figure(figsize=(10, 3))\n",
    "axis = figure.subplots(1, 1)\n",
    "OIII.axis = Ha.axis = CLS.axis = Bessel_v.axis = axis\n",
    "OIII.plot()\n",
    "Ha.plot()\n",
    "CLS.plot()\n",
    "Bessel_v.plot()\n"
   ]
  },
  {
   "cell_type": "code",
   "execution_count": 18,
   "id": "be3d70c6-e6bf-4b6c-8995-6abc6fae4769",
   "metadata": {},
   "outputs": [
    {
     "data": {
      "text/plain": [
       "dict_keys(['x', 'y', 'name', 'label', 'color', 'spectral_axis', 'flux', 'axis'])"
      ]
     },
     "execution_count": 18,
     "metadata": {},
     "output_type": "execute_result"
    }
   ],
   "source": [
    "vars(OIII).keys()"
   ]
  },
  {
   "cell_type": "code",
   "execution_count": null,
   "id": "2e5c995c-b43d-4a6e-96b7-31f6af51f0b6",
   "metadata": {},
   "outputs": [],
   "source": []
  }
 ],
 "metadata": {
  "kernelspec": {
   "display_name": "Python 3 (ipykernel)",
   "language": "python",
   "name": "python3"
  },
  "language_info": {
   "codemirror_mode": {
    "name": "ipython",
    "version": 3
   },
   "file_extension": ".py",
   "mimetype": "text/x-python",
   "name": "python",
   "nbconvert_exporter": "python",
   "pygments_lexer": "ipython3",
   "version": "3.10.12"
  }
 },
 "nbformat": 4,
 "nbformat_minor": 5
}
