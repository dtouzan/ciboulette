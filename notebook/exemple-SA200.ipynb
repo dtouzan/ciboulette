{
 "cells": [
  {
   "cell_type": "markdown",
   "id": "ab80cd7d-3aac-41c1-8d2f-cca852e0900b",
   "metadata": {},
   "source": [
    "## Example SA200 class\n",
    "\n",
    "- Load and edit spectrum header (Isis 6.1.1 software)"
   ]
  },
  {
   "cell_type": "code",
   "execution_count": 2,
   "id": "15ce921e-5563-4958-98bb-959cec317fd5",
   "metadata": {},
   "outputs": [],
   "source": [
    "from ciboulette.spectrum import sa200"
   ]
  },
  {
   "cell_type": "code",
   "execution_count": 3,
   "id": "8f7eff8d-a994-4e9e-91f8-82d81f86faf6",
   "metadata": {},
   "outputs": [
    {
     "name": "stderr",
     "output_type": "stream",
     "text": [
      "WARNING: FITSFixedWarning: 'datfix' made the change 'Set MJD-OBS to 60225.836111 from DATE-OBS'. [astropy.wcs.wcs]\n"
     ]
    }
   ],
   "source": [
    "sa = sa200.SA200('ciboulette\\\\spectrum\\\\Pn_R_hd8538_20231008_836.fits')"
   ]
  },
  {
   "cell_type": "code",
   "execution_count": 12,
   "id": "bce0bde7-6ae9-4bcc-807f-10263a92a469",
   "metadata": {},
   "outputs": [
    {
     "data": {
      "text/plain": [
       "(0.7509797, 1.3296956)"
      ]
     },
     "execution_count": 12,
     "metadata": {},
     "output_type": "execute_result"
    }
   ],
   "source": [
    "min(sa.flux.value),max(sa.flux.value)"
   ]
  },
  {
   "cell_type": "code",
   "execution_count": 11,
   "id": "8c9960fa-131a-446f-a593-9eb95cc07ceb",
   "metadata": {},
   "outputs": [
    {
     "data": {
      "text/plain": [
       "array([1.3224888 , 1.3251009 , 1.32455   , 1.320809  , 1.3169827 ,\n",
       "       1.3166871 , 1.3199356 , 1.3212094 , 1.3161924 , 1.3048341 ,\n",
       "       1.2969803 , 1.2944801 , 1.2973586 , 1.2990687 , 1.3011322 ,\n",
       "       1.3035475 , 1.3105701 , 1.3192823 , 1.3296956 , 1.3259152 ,\n",
       "       1.3170657 , 1.3030859 , 1.2981992 , 1.29647   , 1.2978997 ,\n",
       "       1.2861992 , 1.2765602 , 1.2689818 , 1.2704906 , 1.2713432 ,\n",
       "       1.2715392 , 1.2786382 , 1.2829313 , 1.2844243 , 1.2841979 ,\n",
       "       1.284256  , 1.2846235 , 1.2764065 , 1.2726341 , 1.2733473 ,\n",
       "       1.2791811 , 1.2824203 , 1.2830659 , 1.2782336 , 1.2751114 ,\n",
       "       1.2737094 , 1.2710229 , 1.2686783 , 1.2666674 , 1.2566098 ,\n",
       "       1.2468758 , 1.2374585 , 1.239683  , 1.2423168 , 1.2453666 ,\n",
       "       1.2449226 , 1.2416521 , 1.235531  , 1.2294824 , 1.2271751 ,\n",
       "       1.228637  , 1.2275939 , 1.2220323 , 1.2118989 , 1.2104564 ,\n",
       "       1.2126116 , 1.2183946 , 1.2223432 , 1.2227666 , 1.2196325 ,\n",
       "       1.2287754 , 1.2326099 , 1.2310843 , 1.2256907 , 1.2246844 ,\n",
       "       1.2280952 , 1.2293829 , 1.2271045 , 1.221215  , 1.2190125 ,\n",
       "       1.2174244 , 1.2164419 , 1.2184659 , 1.2142905 , 1.2038562 ,\n",
       "       1.203314  , 1.2023365 , 1.2009195 , 1.1980848 , 1.1969752 ,\n",
       "       1.1976134 , 1.1937965 , 1.1954451 , 1.2026091 , 1.2180327 ,\n",
       "       1.2232519 , 1.2182527 , 1.2124244 , 1.2040021 , 1.1929793 ,\n",
       "       1.1877027 , 1.1844728 , 1.1832937 , 1.1803062 , 1.17724   ,\n",
       "       1.1740896 , 1.177883  , 1.1805247 , 1.182016  , 1.1791512 ,\n",
       "       1.1783286 , 1.1795703 , 1.1795752 , 1.1780368 , 1.1749536 ,\n",
       "       1.1669346 , 1.158452  , 1.1494944 , 1.1502986 , 1.1537309 ,\n",
       "       1.1598002 , 1.1647218 , 1.1645565 , 1.1592559 , 1.1584606 ,\n",
       "       1.1569741 , 1.1547791 , 1.1540496 , 1.1556501 , 1.1595876 ,\n",
       "       1.1652485 , 1.1631358 , 1.1531794 , 1.1434689 , 1.1393411 ,\n",
       "       1.140817  , 1.1395531 , 1.138659  , 1.1381322 , 1.1426286 ,\n",
       "       1.1429391 , 1.139051  , 1.1352522 , 1.1326387 , 1.1312208 ,\n",
       "       1.1376578 , 1.1385906 , 1.134025  , 1.1316235 , 1.1328791 ,\n",
       "       1.137821  , 1.1467932 , 1.147659  , 1.140434  , 1.1335516 ,\n",
       "       1.1308264 , 1.132272  , 1.1361207 , 1.1358038 , 1.1313138 ,\n",
       "       1.1215513 , 1.1147997 , 1.1110628 , 1.1130776 , 1.1144387 ,\n",
       "       1.1151545 , 1.1177392 , 1.1185315 , 1.1175451 , 1.1274132 ,\n",
       "       1.1328677 , 1.1339015 , 1.1346616 , 1.1290598 , 1.1170335 ,\n",
       "       1.1058571 , 1.0982544 , 1.0942243 , 1.0902356 , 1.0862635 ,\n",
       "       1.0822824 , 1.0813646 , 1.0799289 , 1.077959  , 1.0742538 ,\n",
       "       1.0732807 , 1.0750693 , 1.0829525 , 1.0884949 , 1.0916792 ,\n",
       "       1.0863562 , 1.0813805 , 1.07675   , 1.0726341 , 1.0696266 ,\n",
       "       1.0677326 , 1.0655913 , 1.0631499 , 1.0604074 , 1.0619836 ,\n",
       "       1.0644377 , 1.0677817 , 1.06184   , 1.0618879 , 1.0679657 ,\n",
       "       1.0627804 , 1.0563203 , 1.0485536 , 1.0437604 , 1.0376309 ,\n",
       "       1.0301375 , 1.0241977 , 1.0226132 , 1.0253963 , 1.0241486 ,\n",
       "       1.0144446 , 0.9962527 , 0.9687644 , 0.9446611 , 0.923977  ,\n",
       "       0.90630317, 0.8894267 , 0.8734095 , 0.85479623, 0.83639175,\n",
       "       0.81827986, 0.8015334 , 0.79460806, 0.7976076 , 0.8123628 ,\n",
       "       0.8282801 , 0.84539   , 0.8550081 , 0.86179   , 0.86562383,\n",
       "       0.8748418 , 0.887325  , 0.9030587 , 0.9198699 , 0.93552786,\n",
       "       0.9499638 , 0.9638553 , 0.9780761 , 0.9926033 , 1.0013386 ,\n",
       "       1.0058872 , 1.0061677 , 1.0081451 , 1.0099375 , 1.0115374 ,\n",
       "       1.0209361 , 1.02246   , 1.0160067 , 1.0159233 , 1.0200343 ,\n",
       "       1.028391  , 1.0176364 , 1.0092012 , 1.0031219 , 1.0066255 ,\n",
       "       1.0080358 , 1.0073555 , 1.0122291 , 1.0205531 , 1.0323793 ,\n",
       "       1.0257894 , 1.017878  , 1.0086569 , 1.0119357 , 1.014249  ,\n",
       "       1.0156094 , 1.0123276 , 1.0145878 , 1.0224507 , 1.0199467 ,\n",
       "       1.0171818 , 1.0141523 , 1.0146867 , 1.0115389 , 1.004656  ,\n",
       "       1.0017395 , 0.99677116, 0.9897131 , 0.98891777, 0.9953673 ,\n",
       "       1.0091523 , 1.0220773 , 1.0264994 , 1.0222998 , 1.0044799 ,\n",
       "       0.9910824 , 0.98214954, 0.97488254, 0.9699577 , 0.9673991 ,\n",
       "       0.9678466 , 0.9748495 , 0.9885043 , 1.0005722 , 1.0045239 ,\n",
       "       1.0002518 , 0.9925595 , 0.98734033, 0.984628  , 0.97468925,\n",
       "       0.9701074 , 0.9709607 , 0.9760875 , 0.9802226 , 0.98335797,\n",
       "       0.9912096 , 0.9930175 , 0.9886926 , 0.9793001 , 0.9735991 ,\n",
       "       0.9716361 , 0.97398055, 0.9720316 , 0.96571827, 0.96642995,\n",
       "       0.96938264, 0.97461057, 0.97136277, 0.9682016 , 0.9651325 ,\n",
       "       0.9724977 , 0.97711146, 0.9789435 , 0.97599196, 0.973773  ,\n",
       "       0.97231364, 0.9707795 , 0.9720578 , 0.9762157 , 0.9790675 ,\n",
       "       0.97798616, 0.97291225, 0.9728735 , 0.97820216, 0.989006  ,\n",
       "       0.98693943, 0.9841164 , 0.980496  , 0.985872  , 0.9819523 ,\n",
       "       0.9684814 , 0.9542657 , 0.9449901 , 0.9407336 , 0.9397883 ,\n",
       "       0.9394398 , 0.9396676 , 0.9318092 , 0.93087107, 0.93697184,\n",
       "       0.939236  , 0.93833375, 0.93418527, 0.9285281 , 0.92172736,\n",
       "       0.91376764, 0.9088892 , 0.9059488 , 0.90498865, 0.9200613 ,\n",
       "       0.9288468 , 0.93132424, 0.90982765, 0.9052198 , 0.91760975,\n",
       "       0.9355196 , 0.9437805 , 0.9423893 , 0.9380534 , 0.9391313 ,\n",
       "       0.9456393 , 0.94920117, 0.9491884 , 0.94559604, 0.93249416,\n",
       "       0.9195309 , 0.9067019 , 0.9072316 , 0.91258305, 0.92275625,\n",
       "       0.9187179 , 0.9143913 , 0.90980256, 0.9253134 , 0.93969065,\n",
       "       0.9529741 , 0.9524409 , 0.94961166, 0.9445027 , 0.9346363 ,\n",
       "       0.92127013, 0.9043894 , 0.8878169 , 0.88499206, 0.8959015 ,\n",
       "       0.9029999 , 0.9040176 , 0.8989499 , 0.89669806, 0.89433783,\n",
       "       0.89186347, 0.8886968 , 0.88266766, 0.87376094, 0.86328804,\n",
       "       0.86267567, 0.8719252 , 0.87787676, 0.8802567 , 0.8790693 ,\n",
       "       0.87587625, 0.8775152 , 0.8839984 , 0.8897767 , 0.89184886,\n",
       "       0.89022297, 0.8899083 , 0.88899153, 0.8874741 , 0.88225687,\n",
       "       0.87799585, 0.87469476, 0.8766489 , 0.8795108 , 0.88329464,\n",
       "       0.88890016, 0.8920138 , 0.8926388 , 0.8884902 , 0.88385195,\n",
       "       0.8787215 , 0.8703729 , 0.8658783 , 0.86525804, 0.8703794 ,\n",
       "       0.8723039 , 0.87101555, 0.85937446, 0.85229814, 0.84982246,\n",
       "       0.8540052 , 0.8543343 , 0.8507766 , 0.8538703 , 0.8611758 ,\n",
       "       0.87275743, 0.8776831 , 0.8838738 , 0.8913533 , 0.8888664 ,\n",
       "       0.882074  , 0.8708773 , 0.86990666, 0.863731  , 0.85221624,\n",
       "       0.8491071 , 0.8540402 , 0.8671368 , 0.873689  , 0.87295586,\n",
       "       0.8647716 , 0.85973537, 0.85795707, 0.85947293, 0.8535997 ,\n",
       "       0.8410772 , 0.8217976 , 0.8117636 , 0.8117318 , 0.8218326 ,\n",
       "       0.8204101 , 0.8168626 , 0.81117934, 0.8034458 , 0.78919035,\n",
       "       0.7683778 , 0.76837647, 0.78003895, 0.80343634, 0.7985768 ,\n",
       "       0.79345596, 0.7880963 , 0.81101626, 0.8225065 , 0.8225647 ,\n",
       "       0.8267491 , 0.833956  , 0.84421843, 0.83531624, 0.8272733 ,\n",
       "       0.82011133, 0.81587946, 0.8157848 , 0.8198667 , 0.8275007 ,\n",
       "       0.836186  , 0.84594935, 0.8283994 , 0.80875146, 0.7869569 ,\n",
       "       0.7988289 , 0.8099778 , 0.82038325, 0.8044819 , 0.79045355,\n",
       "       0.778288  , 0.7895374 , 0.8022844 , 0.8165315 , 0.8003268 ,\n",
       "       0.7872957 , 0.7774536 , 0.7727284 , 0.77678233, 0.7897049 ,\n",
       "       0.79310143, 0.7852083 , 0.7659131 , 0.7762883 , 0.7916435 ,\n",
       "       0.8120408 , 0.8311197 , 0.83277214, 0.81686044, 0.8035494 ,\n",
       "       0.79560375, 0.7930557 , 0.7846134 , 0.78000003, 0.7792347 ,\n",
       "       0.78173107, 0.7884135 , 0.7993111 , 0.7920629 , 0.79157495,\n",
       "       0.79789287, 0.80218667, 0.8062206 , 0.80999535, 0.8149004 ,\n",
       "       0.80708003, 0.7864662 , 0.76440513, 0.75256866, 0.7509797 ,\n",
       "       0.7552829 , 0.75989324, 0.7648236 , 0.7760182 , 0.79069585,\n",
       "       0.8088833 , 0.80625635, 0.79929334, 0.78800476, 0.78021675],\n",
       "      dtype=float32)"
      ]
     },
     "execution_count": 11,
     "metadata": {},
     "output_type": "execute_result"
    }
   ],
   "source": [
    "sa.flux.value"
   ]
  },
  {
   "cell_type": "code",
   "execution_count": 10,
   "id": "dbd902e7-7f40-4695-9bfc-6179fa007fb2",
   "metadata": {},
   "outputs": [
    {
     "data": {
      "text/plain": [
       "(5991.161814412, 7389.556140065)"
      ]
     },
     "execution_count": 10,
     "metadata": {},
     "output_type": "execute_result"
    }
   ],
   "source": [
    "min(sa.spectral_axis.value),max(sa.spectral_axis.value)"
   ]
  },
  {
   "cell_type": "code",
   "execution_count": 9,
   "id": "c6135b84-c4c5-47f1-9149-073a8baff980",
   "metadata": {},
   "outputs": [
    {
     "data": {
      "text/plain": [
       "array([5991.16181441, 5993.66341428, 5996.16501415, 5998.66661401,\n",
       "       6001.16821388, 6003.66981375, 6006.17141361, 6008.67301348,\n",
       "       6011.17461335, 6013.67621322, 6016.17781308, 6018.67941295,\n",
       "       6021.18101282, 6023.68261268, 6026.18421255, 6028.68581242,\n",
       "       6031.18741228, 6033.68901215, 6036.19061202, 6038.69221189,\n",
       "       6041.19381175, 6043.69541162, 6046.19701149, 6048.69861135,\n",
       "       6051.20021122, 6053.70181109, 6056.20341095, 6058.70501082,\n",
       "       6061.20661069, 6063.70821055, 6066.20981042, 6068.71141029,\n",
       "       6071.21301016, 6073.71461002, 6076.21620989, 6078.71780976,\n",
       "       6081.21940962, 6083.72100949, 6086.22260936, 6088.72420922,\n",
       "       6091.22580909, 6093.72740896, 6096.22900883, 6098.73060869,\n",
       "       6101.23220856, 6103.73380843, 6106.23540829, 6108.73700816,\n",
       "       6111.23860803, 6113.74020789, 6116.24180776, 6118.74340763,\n",
       "       6121.2450075 , 6123.74660736, 6126.24820723, 6128.7498071 ,\n",
       "       6131.25140696, 6133.75300683, 6136.2546067 , 6138.75620656,\n",
       "       6141.25780643, 6143.7594063 , 6146.26100617, 6148.76260603,\n",
       "       6151.2642059 , 6153.76580577, 6156.26740563, 6158.7690055 ,\n",
       "       6161.27060537, 6163.77220524, 6166.2738051 , 6168.77540497,\n",
       "       6171.27700484, 6173.7786047 , 6176.28020457, 6178.78180444,\n",
       "       6181.2834043 , 6183.78500417, 6186.28660404, 6188.78820391,\n",
       "       6191.28980377, 6193.79140364, 6196.29300351, 6198.79460337,\n",
       "       6201.29620324, 6203.79780311, 6206.29940297, 6208.80100284,\n",
       "       6211.30260271, 6213.80420258, 6216.30580244, 6218.80740231,\n",
       "       6221.30900218, 6223.81060204, 6226.31220191, 6228.81380178,\n",
       "       6231.31540164, 6233.81700151, 6236.31860138, 6238.82020125,\n",
       "       6241.32180111, 6243.82340098, 6246.32500085, 6248.82660071,\n",
       "       6251.32820058, 6253.82980045, 6256.33140031, 6258.83300018,\n",
       "       6261.33460005, 6263.83619992, 6266.33779978, 6268.83939965,\n",
       "       6271.34099952, 6273.84259938, 6276.34419925, 6278.84579912,\n",
       "       6281.34739898, 6283.84899885, 6286.35059872, 6288.85219859,\n",
       "       6291.35379845, 6293.85539832, 6296.35699819, 6298.85859805,\n",
       "       6301.36019792, 6303.86179779, 6306.36339765, 6308.86499752,\n",
       "       6311.36659739, 6313.86819726, 6316.36979712, 6318.87139699,\n",
       "       6321.37299686, 6323.87459672, 6326.37619659, 6328.87779646,\n",
       "       6331.37939632, 6333.88099619, 6336.38259606, 6338.88419593,\n",
       "       6341.38579579, 6343.88739566, 6346.38899553, 6348.89059539,\n",
       "       6351.39219526, 6353.89379513, 6356.39539499, 6358.89699486,\n",
       "       6361.39859473, 6363.9001946 , 6366.40179446, 6368.90339433,\n",
       "       6371.4049942 , 6373.90659406, 6376.40819393, 6378.9097938 ,\n",
       "       6381.41139366, 6383.91299353, 6386.4145934 , 6388.91619327,\n",
       "       6391.41779313, 6393.919393  , 6396.42099287, 6398.92259273,\n",
       "       6401.4241926 , 6403.92579247, 6406.42739233, 6408.9289922 ,\n",
       "       6411.43059207, 6413.93219194, 6416.4337918 , 6418.93539167,\n",
       "       6421.43699154, 6423.9385914 , 6426.44019127, 6428.94179114,\n",
       "       6431.443391  , 6433.94499087, 6436.44659074, 6438.94819061,\n",
       "       6441.44979047, 6443.95139034, 6446.45299021, 6448.95459007,\n",
       "       6451.45618994, 6453.95778981, 6456.45938967, 6458.96098954,\n",
       "       6461.46258941, 6463.96418928, 6466.46578914, 6468.96738901,\n",
       "       6471.46898888, 6473.97058874, 6476.47218861, 6478.97378848,\n",
       "       6481.47538834, 6483.97698821, 6486.47858808, 6488.98018795,\n",
       "       6491.48178781, 6493.98338768, 6496.48498755, 6498.98658741,\n",
       "       6501.48818728, 6503.98978715, 6506.49138701, 6508.99298688,\n",
       "       6511.49458675, 6513.99618662, 6516.49778648, 6518.99938635,\n",
       "       6521.50098622, 6524.00258608, 6526.50418595, 6529.00578582,\n",
       "       6531.50738568, 6534.00898555, 6536.51058542, 6539.01218529,\n",
       "       6541.51378515, 6544.01538502, 6546.51698489, 6549.01858475,\n",
       "       6551.52018462, 6554.02178449, 6556.52338435, 6559.02498422,\n",
       "       6561.52658409, 6564.02818396, 6566.52978382, 6569.03138369,\n",
       "       6571.53298356, 6574.03458342, 6576.53618329, 6579.03778316,\n",
       "       6581.53938302, 6584.04098289, 6586.54258276, 6589.04418262,\n",
       "       6591.54578249, 6594.04738236, 6596.54898223, 6599.05058209,\n",
       "       6601.55218196, 6604.05378183, 6606.55538169, 6609.05698156,\n",
       "       6611.55858143, 6614.06018129, 6616.56178116, 6619.06338103,\n",
       "       6621.5649809 , 6624.06658076, 6626.56818063, 6629.0697805 ,\n",
       "       6631.57138036, 6634.07298023, 6636.5745801 , 6639.07617996,\n",
       "       6641.57777983, 6644.0793797 , 6646.58097957, 6649.08257943,\n",
       "       6651.5841793 , 6654.08577917, 6656.58737903, 6659.0889789 ,\n",
       "       6661.59057877, 6664.09217863, 6666.5937785 , 6669.09537837,\n",
       "       6671.59697824, 6674.0985781 , 6676.60017797, 6679.10177784,\n",
       "       6681.6033777 , 6684.10497757, 6686.60657744, 6689.10817731,\n",
       "       6691.60977717, 6694.11137704, 6696.61297691, 6699.11457677,\n",
       "       6701.61617664, 6704.11777651, 6706.61937637, 6709.12097624,\n",
       "       6711.62257611, 6714.12417598, 6716.62577584, 6719.12737571,\n",
       "       6721.62897558, 6724.13057544, 6726.63217531, 6729.13377518,\n",
       "       6731.63537504, 6734.13697491, 6736.63857478, 6739.14017465,\n",
       "       6741.64177451, 6744.14337438, 6746.64497425, 6749.14657411,\n",
       "       6751.64817398, 6754.14977385, 6756.65137371, 6759.15297358,\n",
       "       6761.65457345, 6764.15617332, 6766.65777318, 6769.15937305,\n",
       "       6771.66097292, 6774.16257278, 6776.66417265, 6779.16577252,\n",
       "       6781.66737238, 6784.16897225, 6786.67057212, 6789.17217199,\n",
       "       6791.67377185, 6794.17537172, 6796.67697159, 6799.17857145,\n",
       "       6801.68017132, 6804.18177119, 6806.68337105, 6809.18497092,\n",
       "       6811.68657079, 6814.18817066, 6816.68977052, 6819.19137039,\n",
       "       6821.69297026, 6824.19457012, 6826.69616999, 6829.19776986,\n",
       "       6831.69936972, 6834.20096959, 6836.70256946, 6839.20416933,\n",
       "       6841.70576919, 6844.20736906, 6846.70896893, 6849.21056879,\n",
       "       6851.71216866, 6854.21376853, 6856.71536839, 6859.21696826,\n",
       "       6861.71856813, 6864.220168  , 6866.72176786, 6869.22336773,\n",
       "       6871.7249676 , 6874.22656746, 6876.72816733, 6879.2297672 ,\n",
       "       6881.73136706, 6884.23296693, 6886.7345668 , 6889.23616667,\n",
       "       6891.73776653, 6894.2393664 , 6896.74096627, 6899.24256613,\n",
       "       6901.744166  , 6904.24576587, 6906.74736573, 6909.2489656 ,\n",
       "       6911.75056547, 6914.25216534, 6916.7537652 , 6919.25536507,\n",
       "       6921.75696494, 6924.2585648 , 6926.76016467, 6929.26176454,\n",
       "       6931.7633644 , 6934.26496427, 6936.76656414, 6939.26816401,\n",
       "       6941.76976387, 6944.27136374, 6946.77296361, 6949.27456347,\n",
       "       6951.77616334, 6954.27776321, 6956.77936307, 6959.28096294,\n",
       "       6961.78256281, 6964.28416268, 6966.78576254, 6969.28736241,\n",
       "       6971.78896228, 6974.29056214, 6976.79216201, 6979.29376188,\n",
       "       6981.79536174, 6984.29696161, 6986.79856148, 6989.30016135,\n",
       "       6991.80176121, 6994.30336108, 6996.80496095, 6999.30656081,\n",
       "       7001.80816068, 7004.30976055, 7006.81136041, 7009.31296028,\n",
       "       7011.81456015, 7014.31616002, 7016.81775988, 7019.31935975,\n",
       "       7021.82095962, 7024.32255948, 7026.82415935, 7029.32575922,\n",
       "       7031.82735908, 7034.32895895, 7036.83055882, 7039.33215868,\n",
       "       7041.83375855, 7044.33535842, 7046.83695829, 7049.33855815,\n",
       "       7051.84015802, 7054.34175789, 7056.84335775, 7059.34495762,\n",
       "       7061.84655749, 7064.34815735, 7066.84975722, 7069.35135709,\n",
       "       7071.85295696, 7074.35455682, 7076.85615669, 7079.35775656,\n",
       "       7081.85935642, 7084.36095629, 7086.86255616, 7089.36415602,\n",
       "       7091.86575589, 7094.36735576, 7096.86895563, 7099.37055549,\n",
       "       7101.87215536, 7104.37375523, 7106.87535509, 7109.37695496,\n",
       "       7111.87855483, 7114.38015469, 7116.88175456, 7119.38335443,\n",
       "       7121.8849543 , 7124.38655416, 7126.88815403, 7129.3897539 ,\n",
       "       7131.89135376, 7134.39295363, 7136.8945535 , 7139.39615336,\n",
       "       7141.89775323, 7144.3993531 , 7146.90095297, 7149.40255283,\n",
       "       7151.9041527 , 7154.40575257, 7156.90735243, 7159.4089523 ,\n",
       "       7161.91055217, 7164.41215203, 7166.9137519 , 7169.41535177,\n",
       "       7171.91695164, 7174.4185515 , 7176.92015137, 7179.42175124,\n",
       "       7181.9233511 , 7184.42495097, 7186.92655084, 7189.42815071,\n",
       "       7191.92975057, 7194.43135044, 7196.93295031, 7199.43455017,\n",
       "       7201.93615004, 7204.43774991, 7206.93934977, 7209.44094964,\n",
       "       7211.94254951, 7214.44414938, 7216.94574924, 7219.44734911,\n",
       "       7221.94894898, 7224.45054884, 7226.95214871, 7229.45374858,\n",
       "       7231.95534844, 7234.45694831, 7236.95854818, 7239.46014805,\n",
       "       7241.96174791, 7244.46334778, 7246.96494765, 7249.46654751,\n",
       "       7251.96814738, 7254.46974725, 7256.97134711, 7259.47294698,\n",
       "       7261.97454685, 7264.47614672, 7266.97774658, 7269.47934645,\n",
       "       7271.98094632, 7274.48254618, 7276.98414605, 7279.48574592,\n",
       "       7281.98734578, 7284.48894565, 7286.99054552, 7289.49214539,\n",
       "       7291.99374525, 7294.49534512, 7296.99694499, 7299.49854485,\n",
       "       7302.00014472, 7304.50174459, 7307.00334445, 7309.50494432,\n",
       "       7312.00654419, 7314.50814406, 7317.00974392, 7319.51134379,\n",
       "       7322.01294366, 7324.51454352, 7327.01614339, 7329.51774326,\n",
       "       7332.01934312, 7334.52094299, 7337.02254286, 7339.52414273,\n",
       "       7342.02574259, 7344.52734246, 7347.02894233, 7349.53054219,\n",
       "       7352.03214206, 7354.53374193, 7357.03534179, 7359.53694166,\n",
       "       7362.03854153, 7364.5401414 , 7367.04174126, 7369.54334113,\n",
       "       7372.044941  , 7374.54654086, 7377.04814073, 7379.5497406 ,\n",
       "       7382.05134046, 7384.55294033, 7387.0545402 , 7389.55614007])"
      ]
     },
     "execution_count": 9,
     "metadata": {},
     "output_type": "execute_result"
    }
   ],
   "source": [
    "sa.spectral_axis.value"
   ]
  },
  {
   "cell_type": "code",
   "execution_count": 6,
   "id": "4d9e483e-c930-4263-9fcf-030cd45ca425",
   "metadata": {},
   "outputs": [
    {
     "data": {
      "text/plain": [
       "600"
      ]
     },
     "execution_count": 6,
     "metadata": {},
     "output_type": "execute_result"
    }
   ],
   "source": [
    "sa.exposure"
   ]
  },
  {
   "cell_type": "code",
   "execution_count": 18,
   "id": "b6817789-ff6c-4a7c-bd22-ad7bb51165d3",
   "metadata": {},
   "outputs": [
    {
     "data": {
      "text/plain": [
       "'HD8538 - 2023-10-08T20:04:00 - R: 200 / A5V'"
      ]
     },
     "execution_count": 18,
     "metadata": {},
     "output_type": "execute_result"
    }
   ],
   "source": [
    "sa.title"
   ]
  },
  {
   "cell_type": "code",
   "execution_count": 21,
   "id": "d981cbb0-4f6f-46d1-b0bc-3b8442b581c4",
   "metadata": {},
   "outputs": [
    {
     "data": {
      "text/plain": [
       "(2460226.336111111, '2023-10-08T20:04:00', 'O85mmF6_SA200_R_imx219')"
      ]
     },
     "execution_count": 21,
     "metadata": {},
     "output_type": "execute_result"
    }
   ],
   "source": [
    "sa.JD, sa.date, sa.instrument"
   ]
  },
  {
   "cell_type": "code",
   "execution_count": 13,
   "id": "e63b7869-f176-40b9-bdba-a19838985bb3",
   "metadata": {},
   "outputs": [
    {
     "data": {
      "text/plain": [
       "dict_keys(['s1d', 'resolution', 'header'])"
      ]
     },
     "execution_count": 13,
     "metadata": {},
     "output_type": "execute_result"
    }
   ],
   "source": [
    "vars(sa).keys()"
   ]
  },
  {
   "cell_type": "code",
   "execution_count": 24,
   "id": "5cbabf2a-fdd4-4db8-b1d0-7d627a2e8cff",
   "metadata": {},
   "outputs": [
    {
     "data": {
      "text/plain": [
       "SIMPLE  =                    T / File does conform to FITS standard             \n",
       "BITPIX  =                  -32 / Number of bits per data pixel                  \n",
       "NAXIS   =                    1 / Number of data axes                            \n",
       "NAXIS1  =                  560 / Length of data axis 1                          \n",
       "CRVAL1  =       5991.161814412 / Coordinate at reference pixel                  \n",
       "CDELT1  =          2.501599867 / Coordinate increment                           \n",
       "VERSION = 'ISIS V6.1.1'        / Software version                               \n",
       "OBJNAME = 'HD8538  '           / Current name of the object                     \n",
       "DATE-OBS= '2023-10-08T20:04:00' / Date of observation start                     \n",
       "EXPTIME =                  600 / [s] Total time of exposure                     \n",
       "EXPTIME2= '60x10s  '           / Exposure decomposition                         \n",
       "BSS_INST= 'O85mmF6_SA200_R_imx219' / Instrument                                 \n",
       "BSS_SITE= 'UT1     '           / Observation site                               \n",
       "OBSERVER= 'dtouzan@gmail.com'                                                   \n",
       "CUNIT1  = 'Angstrom'           / Wavelength unit                                \n",
       "CTYPE1  = 'Wavelength'         / Axis type                                      \n",
       "O_CAL   = 'A5V     '           / Calibration object                             \n",
       "Q_CAL   = '0       '           / Quality flag 4-excellent                       \n",
       "CRPIX1  =                    1 / Reference pixel                                \n",
       "BSS_VHEL=                    0 / [km/s] Heliocentric speed                      \n",
       "BSS_COSM= '        '                                                            \n",
       "BSS_TELL= '        '                                                            \n",
       "BSS_NORM= '        '                                                            \n",
       "SPE_RPOW=                  200 / Spectral resolution power                      \n",
       "JD-OBS  =        2460226.33819 / JD start observation                           \n",
       "JD-MID  =                    0 / JD mid observation                             \n",
       "JD-HEL  =                    0 / JD heliocentric mid-obs                        \n",
       "GEO_LONG=                    0 / Obs. geographic longitude                      \n",
       "GEO_LAT =                    0 / Obs. geographic latitude                       \n",
       "GEO_ELEV=                    0 / Obs. geographic elevation                      "
      ]
     },
     "execution_count": 24,
     "metadata": {},
     "output_type": "execute_result"
    }
   ],
   "source": [
    "sa.header"
   ]
  },
  {
   "cell_type": "code",
   "execution_count": 25,
   "id": "62d2dc19-1361-4a17-a779-6f80de98f70f",
   "metadata": {},
   "outputs": [
    {
     "data": {
      "text/plain": [
       "(2.501599867, 2.501599867)"
      ]
     },
     "execution_count": 25,
     "metadata": {},
     "output_type": "execute_result"
    }
   ],
   "source": [
    "sa.header['CDELT1'],sa.unit"
   ]
  },
  {
   "cell_type": "markdown",
   "id": "6050dcc4-220a-4721-bd66-3c3373132e97",
   "metadata": {},
   "source": [
    "- Plot spectrum"
   ]
  },
  {
   "cell_type": "code",
   "execution_count": 17,
   "id": "64e4c102-741c-47d1-b193-efc1ad4d4c48",
   "metadata": {},
   "outputs": [],
   "source": [
    "from matplotlib import pyplot as plt"
   ]
  },
  {
   "cell_type": "code",
   "execution_count": 22,
   "id": "3619d536-d6e7-4f19-900d-e74bce3f537c",
   "metadata": {},
   "outputs": [
    {
     "data": {
      "image/png": "[encoded data removed]",
      "text/plain": [
       "<Figure size 1000x300 with 1 Axes>"
      ]
     },
     "metadata": {},
     "output_type": "display_data"
    }
   ],
   "source": [
    "figure = plt.figure(figsize=(10, 3))\n",
    "axis = figure.subplots(1, 1)\n",
    "sa.axis = axis\n",
    "sa.plot()"
   ]
  },
  {
   "cell_type": "code",
   "execution_count": 23,
   "id": "b3d41329-2685-456e-bb57-c190019157d2",
   "metadata": {},
   "outputs": [
    {
     "data": {
      "text/plain": [
       "dict_keys(['s1d', 'resolution', 'header', 'axis'])"
      ]
     },
     "execution_count": 23,
     "metadata": {},
     "output_type": "execute_result"
    }
   ],
   "source": [
    "vars(sa).keys()"
   ]
  },
  {
   "cell_type": "code",
   "execution_count": null,
   "id": "ddcbb209-8972-45e5-8781-e049aed280ad",
   "metadata": {},
   "outputs": [],
   "source": []
  }
 ],
 "metadata": {
  "kernelspec": {
   "display_name": "Python 3 (ipykernel)",
   "language": "python",
   "name": "python3"
  },
  "language_info": {
   "codemirror_mode": {
    "name": "ipython",
    "version": 3
   },
   "file_extension": ".py",
   "mimetype": "text/x-python",
   "name": "python",
   "nbconvert_exporter": "python",
   "pygments_lexer": "ipython3",
   "version": "3.10.12"
  }
 },
 "nbformat": 4,
 "nbformat_minor": 5
}
