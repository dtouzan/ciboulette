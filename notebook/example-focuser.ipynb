{
 "cells": [
  {
   "cell_type": "markdown",
   "id": "e2d92e30-be8b-4398-afba-8654fd4f4db7",
   "metadata": {},
   "source": [
    "## Examples EAFpy Focuser"
   ]
  },
  {
   "cell_type": "code",
   "execution_count": 1,
   "id": "85dea2e9-e1cc-4229-8d17-23c7ff75695d",
   "metadata": {},
   "outputs": [],
   "source": [
    "from ciboulette.indiclient import indiEAFpy"
   ]
  },
  {
   "cell_type": "code",
   "execution_count": 2,
   "id": "792acf0f-da11-4778-a31a-9b3696b5d959",
   "metadata": {},
   "outputs": [
    {
     "name": "stdout",
     "output_type": "stream",
     "text": [
      "('dtouzan@gmail.com', 'https://github.com/dtouzan/ciboulette')\n"
     ]
    }
   ],
   "source": [
    "print(indiEAFpy.__contact__)"
   ]
  },
  {
   "cell_type": "code",
   "execution_count": 3,
   "id": "7b9355cd-3da8-42be-9b15-64b5fc04eebe",
   "metadata": {},
   "outputs": [],
   "source": [
    "focus = indiEAFpy.EAFpy('192.168.1.141',7624)"
   ]
  },
  {
   "cell_type": "code",
   "execution_count": 4,
   "id": "733a1b98-d961-494a-8bab-3d6edec9ee2c",
   "metadata": {},
   "outputs": [],
   "source": [
    "focus.ticks = 5"
   ]
  },
  {
   "cell_type": "code",
   "execution_count": 5,
   "id": "2f238cff-6c9e-4580-8577-1e61345e1b36",
   "metadata": {},
   "outputs": [
    {
     "data": {
      "text/plain": [
       "25.0"
      ]
     },
     "execution_count": 5,
     "metadata": {},
     "output_type": "execute_result"
    }
   ],
   "source": [
    "focus.delay"
   ]
  },
  {
   "cell_type": "code",
   "execution_count": 6,
   "id": "cfdceb6a-be64-47d3-9a24-eca17400d1ca",
   "metadata": {},
   "outputs": [],
   "source": [
    "focus.delay = 40"
   ]
  },
  {
   "cell_type": "code",
   "execution_count": 13,
   "id": "ed5d408d-af9d-4f3b-a116-36d8e1a40405",
   "metadata": {},
   "outputs": [
    {
     "data": {
      "text/plain": [
       "('On', 'Off')"
      ]
     },
     "execution_count": 13,
     "metadata": {},
     "output_type": "execute_result"
    }
   ],
   "source": [
    "focus.direction"
   ]
  },
  {
   "cell_type": "code",
   "execution_count": 8,
   "id": "ab5e0457-4577-4d9b-b866-5645dc5219cd",
   "metadata": {},
   "outputs": [
    {
     "data": {
      "text/plain": [
       "5"
      ]
     },
     "execution_count": 8,
     "metadata": {},
     "output_type": "execute_result"
    }
   ],
   "source": [
    "focus.ticks"
   ]
  },
  {
   "cell_type": "code",
   "execution_count": 17,
   "id": "bd6dfb80-a364-4cee-8b0b-66e1b738fde6",
   "metadata": {},
   "outputs": [
    {
     "data": {
      "text/plain": [
       "('On', 'Off')"
      ]
     },
     "execution_count": 17,
     "metadata": {},
     "output_type": "execute_result"
    }
   ],
   "source": [
    "focus.speed"
   ]
  },
  {
   "cell_type": "code",
   "execution_count": 10,
   "id": "0981631b-9503-4f74-8dfb-ea20fb60a456",
   "metadata": {},
   "outputs": [],
   "source": [
    "focus.outward"
   ]
  },
  {
   "cell_type": "code",
   "execution_count": 12,
   "id": "bae057dd-f6b7-4253-8f85-1e4f3a019137",
   "metadata": {},
   "outputs": [],
   "source": [
    "focus.inward"
   ]
  },
  {
   "cell_type": "code",
   "execution_count": 14,
   "id": "177df56e-c08b-4fd5-9ab7-6a16e6a72b87",
   "metadata": {},
   "outputs": [],
   "source": [
    "focus.speed2"
   ]
  },
  {
   "cell_type": "code",
   "execution_count": 16,
   "id": "5d2251a9-75d4-43e8-9269-7e3a162fccb6",
   "metadata": {},
   "outputs": [],
   "source": [
    "focus.speed1"
   ]
  },
  {
   "cell_type": "code",
   "execution_count": null,
   "id": "c54215cd-f150-45f2-8bd7-eb1adca6615e",
   "metadata": {},
   "outputs": [],
   "source": []
  }
 ],
 "metadata": {
  "kernelspec": {
   "display_name": "Python 3 (ipykernel)",
   "language": "python",
   "name": "python3"
  },
  "language_info": {
   "codemirror_mode": {
    "name": "ipython",
    "version": 3
   },
   "file_extension": ".py",
   "mimetype": "text/x-python",
   "name": "python",
   "nbconvert_exporter": "python",
   "pygments_lexer": "ipython3",
   "version": "3.13.5"
  }
 },
 "nbformat": 4,
 "nbformat_minor": 5
}
