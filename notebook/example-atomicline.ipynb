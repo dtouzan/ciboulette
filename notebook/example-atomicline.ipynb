{
 "cells": [
  {
   "cell_type": "markdown",
   "id": "8da9a29b-4331-43b3-8d79-9e0ea2b91744",
   "metadata": {},
   "source": [
    "## Examples Atomic lines class"
   ]
  },
  {
   "cell_type": "code",
   "execution_count": 1,
   "id": "8c24d731-2a04-4ce6-8539-b469ef5432bb",
   "metadata": {},
   "outputs": [],
   "source": [
    "from ciboulette.spectrum import atomiclines\n",
    "from ciboulette.filtering import filters"
   ]
  },
  {
   "cell_type": "markdown",
   "id": "f29b2643-dff6-485b-a3f2-29ebea706055",
   "metadata": {},
   "source": [
    "- Citation"
   ]
  },
  {
   "cell_type": "code",
   "execution_count": 2,
   "id": "400e23c9-8a72-4269-b29a-7f91a1aa2bfa",
   "metadata": {},
   "outputs": [
    {
     "name": "stdout",
     "output_type": "stream",
     "text": [
      "Kramida, A., Ralchenko, Yu., Reader, J. and NIST ASD Team (2022) ]. Available: https://physics.nist.gov/PhysRefData/ASD/index.html#Team.\n",
      "NIST Atomic Spectra Database (version 5.10), [Online]. Available: https://physics.nist.gov/asd [Thu Nov 09 2023].\n",
      "National Institute of Standards and Technology, Gaithersburg, MD. DOI: https://doi.org/10.18434/T4W30F\n"
     ]
    }
   ],
   "source": [
    "print(atomiclines.__citation__)"
   ]
  },
  {
   "cell_type": "markdown",
   "id": "c43d6744-829c-4f81-8579-7400994e6f1e",
   "metadata": {},
   "source": [
    "- Create Atomic lines "
   ]
  },
  {
   "cell_type": "code",
   "execution_count": 3,
   "id": "f40cf411-70cc-49b7-88c4-ccd12cffc5cf",
   "metadata": {},
   "outputs": [],
   "source": [
    "Atomiclines = atomiclines.atomic_lines()\n",
    "Atomiclines.H_I"
   ]
  },
  {
   "cell_type": "code",
   "execution_count": 4,
   "id": "b1a9616e-5c5b-42ab-9d8e-de056d34d64a",
   "metadata": {},
   "outputs": [],
   "source": [
    "# Reverse for example\n",
    "Atomiclines.lambda_min = 657\n",
    "Atomiclines.lambda_max = 555.28"
   ]
  },
  {
   "cell_type": "markdown",
   "id": "ccc9790b-68f2-42f6-8545-e7531cdba4a9",
   "metadata": {},
   "source": [
    "- between thicks"
   ]
  },
  {
   "cell_type": "code",
   "execution_count": 5,
   "id": "9ac68008-24b2-4654-b22a-3c050b021060",
   "metadata": {},
   "outputs": [
    {
     "name": "stdout",
     "output_type": "stream",
     "text": [
      "Wavelength  Rel      Aki     Acc               Ei - Ek               L Conf L Term L J U Conf U Term U J gi - gk Type   TP    Line   col15\n",
      "---------- ------ ---------- --- ----------------------------------- ------ ------ --- ------ ------ --- ------- ---- ----- -------- -----\n",
      " 656.27097     -- 53877000.0 AAA 82258.9191133     -    97492.319433     2p    2P* 1/2     3d     2D 3/2   2 - 4   -- T7771    L2752    --\n",
      "656.272483     -- 22448000.0 AAA 82258.9543992821  -    97492.319611     2s     2S 1/2     3p    2P* 3/2   2 - 4   -- T7771 L6891c38    --\n",
      "656.277153     -- 22449000.0 AAA 82258.9543992821  -    97492.211200     2s     2S 1/2     3p    2P* 1/2   2 - 2   -- T7771 L6891c38    --\n",
      "   656.279 500000 44101000.0 AAA    82259.158         -    97492.304      2     --  --      3     --  --  8 - 18   -- T8637 L7400c29    --\n",
      "656.285175     -- 64651000.0 AAA 82259.2850014     -    97492.355566     2p    2P* 3/2     3d     2D 5/2   4 - 6   -- T7771    L2752    --\n"
     ]
    }
   ],
   "source": [
    "Atomiclines.request.pprint(max_width=255)"
   ]
  },
  {
   "cell_type": "code",
   "execution_count": 6,
   "id": "5208a3e9-2b0c-4234-b1ff-94d877e90f32",
   "metadata": {},
   "outputs": [
    {
     "data": {
      "text/plain": [
       "(555.28, 657)"
      ]
     },
     "execution_count": 6,
     "metadata": {},
     "output_type": "execute_result"
    }
   ],
   "source": [
    "Atomiclines.lambda_min, Atomiclines.lambda_max"
   ]
  },
  {
   "cell_type": "code",
   "execution_count": 7,
   "id": "b9404f83-6dfa-4d7d-abae-b30d360dd163",
   "metadata": {},
   "outputs": [
    {
     "data": {
      "text/plain": [
       "'H I'"
      ]
     },
     "execution_count": 7,
     "metadata": {},
     "output_type": "execute_result"
    }
   ],
   "source": [
    "Atomiclines.spectrum"
   ]
  },
  {
   "cell_type": "code",
   "execution_count": 8,
   "id": "db0f7d7b-c329-4f37-b4f4-5f081b674113",
   "metadata": {},
   "outputs": [
    {
     "data": {
      "text/html": [
       "<div><i>Table length=51</i>\n",
       "<table id=\"table1977415165376\" class=\"table-striped table-bordered table-condensed\">\n",
       "<thead><tr><th>Wavelength</th><th>Rel</th><th>Aki</th><th>Acc</th><th>Ei - Ek</th><th>L Conf</th><th>L Term</th><th>L J</th><th>U Conf</th><th>U Term</th><th>U J</th><th>gi - gk</th><th>Type</th><th>TP</th><th>Line</th><th>col15</th></tr></thead>\n",
       "<thead><tr><th>float64</th><th>str6</th><th>float64</th><th>str3</th><th>str37</th><th>str2</th><th>str3</th><th>str3</th><th>str3</th><th>str3</th><th>str3</th><th>str8</th><th>str2</th><th>str5</th><th>str8</th><th>int32</th></tr></thead>\n",
       "<tr><td>365.665</td><td>700</td><td>99.657</td><td>AAA</td><td>82259.158         -  [109598.6566]</td><td>2</td><td>--</td><td>--</td><td>37</td><td>--</td><td>--</td><td>8 - 2738</td><td>--</td><td>T8637</td><td>L7400c29</td><td>--</td></tr>\n",
       "<tr><td>365.725</td><td>700</td><td>114.3</td><td>AAA</td><td>82259.158         -  [109594.1439]</td><td>2</td><td>--</td><td>--</td><td>36</td><td>--</td><td>--</td><td>8 - 2592</td><td>--</td><td>T8637</td><td>L7400c29</td><td>--</td></tr>\n",
       "<tr><td>365.804</td><td>700bl</td><td>131.61</td><td>AAA</td><td>82259.158         -  [109589.2390]</td><td>2</td><td>--</td><td>--</td><td>35</td><td>--</td><td>--</td><td>8 - 2450</td><td>--</td><td>T8637</td><td>L7400c29</td><td>--</td></tr>\n",
       "<tr><td>365.865</td><td>700</td><td>152.16</td><td>AAA</td><td>82259.158         -  [109583.8949]</td><td>2</td><td>--</td><td>--</td><td>34</td><td>--</td><td>--</td><td>8 - 2312</td><td>--</td><td>T8637</td><td>L7400c29</td><td>--</td></tr>\n",
       "<tr><td>365.941</td><td>700</td><td>176.69</td><td>AAA</td><td>82259.158         -  [109578.0577]</td><td>2</td><td>--</td><td>--</td><td>33</td><td>--</td><td>--</td><td>8 - 2178</td><td>--</td><td>T8637</td><td>L7400c29</td><td>--</td></tr>\n",
       "<tr><td>366.032</td><td>700bl</td><td>206.12</td><td>AAA</td><td>82259.158         -  [109571.6647]</td><td>2</td><td>--</td><td>--</td><td>32</td><td>--</td><td>--</td><td>8 - 2048</td><td>--</td><td>T8637</td><td>L7400c29</td><td>--</td></tr>\n",
       "<tr><td>366.127</td><td>800</td><td>241.62</td><td>AAA</td><td>82259.158         -  [109564.6431]</td><td>2</td><td>--</td><td>--</td><td>31</td><td>--</td><td>--</td><td>8 - 1922</td><td>--</td><td>T8637</td><td>L7400c29</td><td>--</td></tr>\n",
       "<tr><td>366.222</td><td>1100bl</td><td>284.74</td><td>AAA</td><td>82259.158         -  [109556.9077]</td><td>2</td><td>--</td><td>--</td><td>30</td><td>--</td><td>--</td><td>8 - 1800</td><td>--</td><td>T8637</td><td>L7400c29</td><td>--</td></tr>\n",
       "<tr><td>366.341</td><td>900bl</td><td>337.42</td><td>AAA</td><td>82259.158         -  [109548.3584]</td><td>2</td><td>--</td><td>--</td><td>29</td><td>--</td><td>--</td><td>8 - 1682</td><td>--</td><td>T8637</td><td>L7400c29</td><td>--</td></tr>\n",
       "<tr><td>366.465</td><td>1000bl</td><td>402.24</td><td>AAA</td><td>82259.158         -  [109538.8768]</td><td>2</td><td>--</td><td>--</td><td>28</td><td>--</td><td>--</td><td>8 - 1568</td><td>--</td><td>T8637</td><td>L7400c29</td><td>--</td></tr>\n",
       "<tr><td>...</td><td>...</td><td>...</td><td>...</td><td>...</td><td>...</td><td>...</td><td>...</td><td>...</td><td>...</td><td>...</td><td>...</td><td>...</td><td>...</td><td>...</td><td>...</td></tr>\n",
       "<tr><td>486.1283363</td><td>--</td><td>--</td><td>--</td><td>82258.9543992821  -   102823.9094871</td><td>2s</td><td>2S</td><td>1/2</td><td>4d</td><td>2D</td><td>5/2</td><td>2 - 6</td><td>E2</td><td>--</td><td>L9496</td><td>--</td></tr>\n",
       "<tr><td>486.1286949</td><td>--</td><td>9668000.0</td><td>AAA</td><td>82258.9543992821  -   102823.8943175</td><td>2s</td><td>2S</td><td>1/2</td><td>4p</td><td>2P*</td><td>3/2</td><td>2 - 4</td><td>--</td><td>T7771</td><td>L9477</td><td>--</td></tr>\n",
       "<tr><td>486.1296711</td><td>--</td><td>--</td><td>--</td><td>82258.9543992821  -   102823.8530211</td><td>2s</td><td>2S</td><td>1/2</td><td>4s</td><td>2S</td><td>1/2</td><td>2 - 2</td><td>M1</td><td>--</td><td>L9496</td><td>--</td></tr>\n",
       "<tr><td>486.1297761</td><td>--</td><td>9668200.0</td><td>AAA</td><td>82258.9543992821  -   102823.8485825</td><td>2s</td><td>2S</td><td>1/2</td><td>4p</td><td>2P*</td><td>1/2</td><td>2 - 2</td><td>--</td><td>T7771</td><td>L9477</td><td>--</td></tr>\n",
       "<tr><td>486.135</td><td>180000</td><td>8419300.0</td><td>AAA</td><td>82259.158         -   102823.904</td><td>2</td><td>--</td><td>--</td><td>4</td><td>--</td><td>--</td><td>8 - 32</td><td>--</td><td>T8637</td><td>L7439c30</td><td>--</td></tr>\n",
       "<tr><td>656.27097</td><td>--</td><td>53877000.0</td><td>AAA</td><td>82258.9191133     -    97492.319433</td><td>2p</td><td>2P*</td><td>1/2</td><td>3d</td><td>2D</td><td>3/2</td><td>2 - 4</td><td>--</td><td>T7771</td><td>L2752</td><td>--</td></tr>\n",
       "<tr><td>656.272483</td><td>--</td><td>22448000.0</td><td>AAA</td><td>82258.9543992821  -    97492.319611</td><td>2s</td><td>2S</td><td>1/2</td><td>3p</td><td>2P*</td><td>3/2</td><td>2 - 4</td><td>--</td><td>T7771</td><td>L6891c38</td><td>--</td></tr>\n",
       "<tr><td>656.277153</td><td>--</td><td>22449000.0</td><td>AAA</td><td>82258.9543992821  -    97492.211200</td><td>2s</td><td>2S</td><td>1/2</td><td>3p</td><td>2P*</td><td>1/2</td><td>2 - 2</td><td>--</td><td>T7771</td><td>L6891c38</td><td>--</td></tr>\n",
       "<tr><td>656.279</td><td>500000</td><td>44101000.0</td><td>AAA</td><td>82259.158         -    97492.304</td><td>2</td><td>--</td><td>--</td><td>3</td><td>--</td><td>--</td><td>8 - 18</td><td>--</td><td>T8637</td><td>L7400c29</td><td>--</td></tr>\n",
       "<tr><td>656.285175</td><td>--</td><td>64651000.0</td><td>AAA</td><td>82259.2850014     -    97492.355566</td><td>2p</td><td>2P*</td><td>3/2</td><td>3d</td><td>2D</td><td>5/2</td><td>4 - 6</td><td>--</td><td>T7771</td><td>L2752</td><td>--</td></tr>\n",
       "</table></div>"
      ],
      "text/plain": [
       "<Table length=51>\n",
       " Wavelength  Rel      Aki     Acc  ... Type   TP    Line   col15\n",
       "  float64    str6   float64   str3 ... str2  str5   str8   int32\n",
       "----------- ------ ---------- ---- ... ---- ----- -------- -----\n",
       "    365.665    700     99.657  AAA ...   -- T8637 L7400c29    --\n",
       "    365.725    700      114.3  AAA ...   -- T8637 L7400c29    --\n",
       "    365.804  700bl     131.61  AAA ...   -- T8637 L7400c29    --\n",
       "    365.865    700     152.16  AAA ...   -- T8637 L7400c29    --\n",
       "    365.941    700     176.69  AAA ...   -- T8637 L7400c29    --\n",
       "    366.032  700bl     206.12  AAA ...   -- T8637 L7400c29    --\n",
       "    366.127    800     241.62  AAA ...   -- T8637 L7400c29    --\n",
       "    366.222 1100bl     284.74  AAA ...   -- T8637 L7400c29    --\n",
       "    366.341  900bl     337.42  AAA ...   -- T8637 L7400c29    --\n",
       "    366.465 1000bl     402.24  AAA ...   -- T8637 L7400c29    --\n",
       "        ...    ...        ...  ... ...  ...   ...      ...   ...\n",
       "486.1283363     --         --   -- ...   E2    --    L9496    --\n",
       "486.1286949     --  9668000.0  AAA ...   -- T7771    L9477    --\n",
       "486.1296711     --         --   -- ...   M1    --    L9496    --\n",
       "486.1297761     --  9668200.0  AAA ...   -- T7771    L9477    --\n",
       "    486.135 180000  8419300.0  AAA ...   -- T8637 L7439c30    --\n",
       "  656.27097     -- 53877000.0  AAA ...   -- T7771    L2752    --\n",
       " 656.272483     -- 22448000.0  AAA ...   -- T7771 L6891c38    --\n",
       " 656.277153     -- 22449000.0  AAA ...   -- T7771 L6891c38    --\n",
       "    656.279 500000 44101000.0  AAA ...   -- T8637 L7400c29    --\n",
       " 656.285175     -- 64651000.0  AAA ...   -- T7771    L2752    --"
      ]
     },
     "execution_count": 8,
     "metadata": {},
     "output_type": "execute_result"
    }
   ],
   "source": [
    "Atomiclines.atomic_line"
   ]
  },
  {
   "cell_type": "markdown",
   "id": "e2ad0f60-b91b-454f-bd5c-36a27085445f",
   "metadata": {},
   "source": [
    "- Wavelength atomic line"
   ]
  },
  {
   "cell_type": "code",
   "execution_count": 9,
   "id": "1956318e-a9f2-46ea-b32a-2020ec1b184e",
   "metadata": {},
   "outputs": [
    {
     "data": {
      "text/html": [
       "&lt;Column name=&apos;Wavelength&apos; dtype=&apos;float64&apos; length=51&gt;\n",
       "<table>\n",
       "<tr><td>365.665</td></tr>\n",
       "<tr><td>365.725</td></tr>\n",
       "<tr><td>365.804</td></tr>\n",
       "<tr><td>365.865</td></tr>\n",
       "<tr><td>365.941</td></tr>\n",
       "<tr><td>366.032</td></tr>\n",
       "<tr><td>366.127</td></tr>\n",
       "<tr><td>366.222</td></tr>\n",
       "<tr><td>366.341</td></tr>\n",
       "<tr><td>366.465</td></tr>\n",
       "<tr><td>366.608</td></tr>\n",
       "<tr><td>366.773</td></tr>\n",
       "<tr><td>...</td></tr>\n",
       "<tr><td>410.1734</td></tr>\n",
       "<tr><td>434.0472</td></tr>\n",
       "<tr><td>486.1283363</td></tr>\n",
       "<tr><td>486.1286949</td></tr>\n",
       "<tr><td>486.1296711</td></tr>\n",
       "<tr><td>486.1297761</td></tr>\n",
       "<tr><td>486.135</td></tr>\n",
       "<tr><td>656.27097</td></tr>\n",
       "<tr><td>656.272483</td></tr>\n",
       "<tr><td>656.277153</td></tr>\n",
       "<tr><td>656.279</td></tr>\n",
       "<tr><td>656.285175</td></tr>\n",
       "</table>"
      ],
      "text/plain": [
       "<Column name='Wavelength' dtype='float64' length=51>\n",
       "    365.665\n",
       "    365.725\n",
       "    365.804\n",
       "    365.865\n",
       "    365.941\n",
       "    366.032\n",
       "    366.127\n",
       "    366.222\n",
       "    366.341\n",
       "    366.465\n",
       "    366.608\n",
       "    366.773\n",
       "        ...\n",
       "   410.1734\n",
       "   434.0472\n",
       "486.1283363\n",
       "486.1286949\n",
       "486.1296711\n",
       "486.1297761\n",
       "    486.135\n",
       "  656.27097\n",
       " 656.272483\n",
       " 656.277153\n",
       "    656.279\n",
       " 656.285175"
      ]
     },
     "execution_count": 9,
     "metadata": {},
     "output_type": "execute_result"
    }
   ],
   "source": [
    "Atomiclines.atomic_line['Wavelength']"
   ]
  },
  {
   "cell_type": "markdown",
   "id": "fe818978-608f-404f-9cd6-d0c24714e62e",
   "metadata": {},
   "source": [
    "- To initialise thicks"
   ]
  },
  {
   "cell_type": "code",
   "execution_count": 10,
   "id": "b0b2aabb-3f6a-471b-8464-3b3ee57514cd",
   "metadata": {},
   "outputs": [
    {
     "data": {
      "text/plain": [
       "290.62017499999996"
      ]
     },
     "execution_count": 10,
     "metadata": {},
     "output_type": "execute_result"
    }
   ],
   "source": [
    "Atomiclines.minmax"
   ]
  },
  {
   "cell_type": "code",
   "execution_count": 11,
   "id": "5b347c00-5f5e-4ff3-bf21-d5a20e060edf",
   "metadata": {},
   "outputs": [
    {
     "data": {
      "text/plain": [
       "(365.665, 656.285175)"
      ]
     },
     "execution_count": 11,
     "metadata": {},
     "output_type": "execute_result"
    }
   ],
   "source": [
    "Atomiclines.lambda_min,Atomiclines.lambda_max"
   ]
  },
  {
   "cell_type": "code",
   "execution_count": 12,
   "id": "95d8d112-21cb-4a85-9997-6375b22b9e18",
   "metadata": {},
   "outputs": [
    {
     "data": {
      "text/html": [
       "&lt;Column name=&apos;Wavelength&apos; dtype=&apos;float64&apos; length=51&gt;\n",
       "<table>\n",
       "<tr><td>365.665</td></tr>\n",
       "<tr><td>365.725</td></tr>\n",
       "<tr><td>365.804</td></tr>\n",
       "<tr><td>365.865</td></tr>\n",
       "<tr><td>365.941</td></tr>\n",
       "<tr><td>366.032</td></tr>\n",
       "<tr><td>366.127</td></tr>\n",
       "<tr><td>366.222</td></tr>\n",
       "<tr><td>366.341</td></tr>\n",
       "<tr><td>366.465</td></tr>\n",
       "<tr><td>366.608</td></tr>\n",
       "<tr><td>366.773</td></tr>\n",
       "<tr><td>...</td></tr>\n",
       "<tr><td>410.1734</td></tr>\n",
       "<tr><td>434.0472</td></tr>\n",
       "<tr><td>486.1283363</td></tr>\n",
       "<tr><td>486.1286949</td></tr>\n",
       "<tr><td>486.1296711</td></tr>\n",
       "<tr><td>486.1297761</td></tr>\n",
       "<tr><td>486.135</td></tr>\n",
       "<tr><td>656.27097</td></tr>\n",
       "<tr><td>656.272483</td></tr>\n",
       "<tr><td>656.277153</td></tr>\n",
       "<tr><td>656.279</td></tr>\n",
       "<tr><td>656.285175</td></tr>\n",
       "</table>"
      ],
      "text/plain": [
       "<Column name='Wavelength' dtype='float64' length=51>\n",
       "    365.665\n",
       "    365.725\n",
       "    365.804\n",
       "    365.865\n",
       "    365.941\n",
       "    366.032\n",
       "    366.127\n",
       "    366.222\n",
       "    366.341\n",
       "    366.465\n",
       "    366.608\n",
       "    366.773\n",
       "        ...\n",
       "   410.1734\n",
       "   434.0472\n",
       "486.1283363\n",
       "486.1286949\n",
       "486.1296711\n",
       "486.1297761\n",
       "    486.135\n",
       "  656.27097\n",
       " 656.272483\n",
       " 656.277153\n",
       "    656.279\n",
       " 656.285175"
      ]
     },
     "execution_count": 12,
     "metadata": {},
     "output_type": "execute_result"
    }
   ],
   "source": [
    "Atomiclines.wavelength_values"
   ]
  },
  {
   "cell_type": "code",
   "execution_count": 13,
   "id": "e9d2c698-979c-47a8-8f73-11231bd01364",
   "metadata": {},
   "outputs": [],
   "source": [
    "Atomiclines2 = atomiclines.atomic_lines()\n",
    "Atomiclines2.Fe_I"
   ]
  },
  {
   "cell_type": "code",
   "execution_count": 14,
   "id": "9fa184e0-c5a7-4768-a9a3-223769c2e944",
   "metadata": {},
   "outputs": [
    {
     "data": {
      "text/html": [
       "<div><i>Table length=4148</i>\n",
       "<table id=\"table1977414062752\" class=\"table-striped table-bordered table-condensed\">\n",
       "<thead><tr><th>Wavelength</th><th>Rel</th><th>Aki</th><th>Acc</th><th>Ei - Ek</th><th>L Conf</th><th>L Term</th><th>L J</th><th>U Conf</th><th>U Term</th><th>U J</th><th>gi - gk</th><th>Type</th><th>TP</th><th>Line</th><th>col15</th></tr></thead>\n",
       "<thead><tr><th>float64</th><th>str9</th><th>float64</th><th>str2</th><th>str24</th><th>str21</th><th>str5</th><th>int32</th><th>str21</th><th>str8</th><th>int32</th><th>str7</th><th>int32</th><th>str17</th><th>str9</th><th>int32</th></tr></thead>\n",
       "<tr><td>300.04509</td><td>24000</td><td>5410000.0</td><td>B+</td><td>11976.239  -   45294.846</td><td>3d7.(4F).4s</td><td>a 3F</td><td>4</td><td>3d6.(3H).4s.4p.(3P*)</td><td>y 3G*</td><td>5</td><td>9 - 11</td><td>--</td><td>T5720</td><td>L11631</td><td>--</td></tr>\n",
       "<tr><td>300.0577</td><td>1d</td><td>--</td><td>--</td><td>25899.989  -   59217.204</td><td>3d6.(5D).4s.4p.(3P*)</td><td>z 5D*</td><td>4</td><td>3d6.4s.(6D&lt;9/2&gt;).6d</td><td>2[5/2]</td><td>3</td><td>9 - 7</td><td>--</td><td>--</td><td>L11631c80</td><td>--</td></tr>\n",
       "<tr><td>300.09476</td><td>81000</td><td>64200000.0</td><td>A</td><td>704.007  -   34017.103</td><td>3d6.4s2</td><td>a 5D</td><td>2</td><td>3d7.(4F).4p</td><td>y 5D*</td><td>1</td><td>5 - 3</td><td>--</td><td>T3547</td><td>L11631</td><td>--</td></tr>\n",
       "<tr><td>300.1658</td><td>13</td><td>--</td><td>--</td><td>24335.766  -   57641.001</td><td>3d7.(2P).4s</td><td>c 3P</td><td>2</td><td>3d6.(3D).4s.4p.(3P*)</td><td>t 3F*</td><td>3</td><td>5 - 7</td><td>--</td><td>--</td><td>L11631c80</td><td>--</td></tr>\n",
       "<tr><td>300.1787</td><td>(0)?</td><td>--</td><td>--</td><td>21038.987  -   54342.779</td><td>3d6.4s2</td><td>b 3F2</td><td>2</td><td>3d7.(4F).5p</td><td>3D*</td><td>2</td><td>5 - 5</td><td>--</td><td>--</td><td>L11631c81</td><td>--</td></tr>\n",
       "<tr><td>300.1827</td><td>0d?</td><td>--</td><td>--</td><td>25091.599  -   58394.864</td><td>3d7.(2P).4s</td><td>c 3P</td><td>0</td><td>3d6.4s.(4D).5p</td><td>3D*</td><td>1</td><td>1 - 3</td><td>--</td><td>--</td><td>L11631c80</td><td>--</td></tr>\n",
       "<tr><td>300.1924</td><td>0d?</td><td>--</td><td>--</td><td>24338.767  -   57641.001</td><td>3d6.4s2</td><td>b 3G</td><td>3</td><td>3d6.(3D).4s.4p.(3P*)</td><td>t 3F*</td><td>3</td><td>7 - 7</td><td>--</td><td>--</td><td>L11631c80</td><td>--</td></tr>\n",
       "<tr><td>300.30305</td><td>9800</td><td>7500000.0</td><td>C</td><td>7728.060  -   41018.051</td><td>3d7.(4F).4s</td><td>a 5F</td><td>3</td><td>3d6.(5D).4s.4p.(1P*)</td><td>x 5F*</td><td>2</td><td>7 - 5</td><td>--</td><td>T5720</td><td>L11631</td><td>--</td></tr>\n",
       "<tr><td>300.3251</td><td>1</td><td>--</td><td>--</td><td>26479.381  -   59766.92</td><td>3d6.(5D).4s.4p.(3P*)</td><td>z 5D*</td><td>1</td><td>3d6.4s.(6D&lt;5/2&gt;).6d</td><td>2[3/2]</td><td>1</td><td>3 - 3</td><td>--</td><td>--</td><td>L11631c80</td><td>--</td></tr>\n",
       "<tr><td>300.3338</td><td>0d?</td><td>--</td><td>--</td><td>23783.619  -   57070.171</td><td>3d6.4s2</td><td>b 3G</td><td>5</td><td>3d6.(1I).4s.4p.(3P*)</td><td>x 3I*</td><td>6</td><td>11 - 13</td><td>--</td><td>--</td><td>L11631c80</td><td>--</td></tr>\n",
       "<tr><td>...</td><td>...</td><td>...</td><td>...</td><td>...</td><td>...</td><td>...</td><td>...</td><td>...</td><td>...</td><td>...</td><td>...</td><td>...</td><td>...</td><td>...</td><td>...</td></tr>\n",
       "<tr><td>795.9143</td><td>105</td><td>--</td><td>--</td><td>40594.432  -   53155.145</td><td>3d6.(5D).4s.4p.(1P*)</td><td>x 5F*</td><td>4</td><td>3d7.(4F).4d</td><td>h 5D</td><td>4</td><td>9 - 9</td><td>--</td><td>--</td><td>L11631</td><td>--</td></tr>\n",
       "<tr><td>796.49725</td><td>59</td><td>--</td><td>--</td><td>40842.154  -   53393.673</td><td>3d6.(5D).4s.4p.(1P*)</td><td>x 5F*</td><td>3</td><td>3d7.(4F).4d</td><td>g 5F</td><td>4</td><td>7 - 9</td><td>--</td><td>--</td><td>L11631</td><td>--</td></tr>\n",
       "<tr><td>797.4491</td><td>4</td><td>--</td><td>--</td><td>36940.590  -   49477.127</td><td>3d7.(2F).4s</td><td>d 3F</td><td>2</td><td>3d6.(3F2).4s.4p.(3P*)</td><td>1F*</td><td>3</td><td>5 - 7</td><td>--</td><td>--</td><td>L11631</td><td>--</td></tr>\n",
       "<tr><td>798.19112</td><td>129</td><td>--</td><td>--</td><td>46137.097  -   58661.978</td><td>3d7.(4P).4p</td><td>w 5P*</td><td>3</td><td>--</td><td>58661e</td><td>4</td><td>7 - 9</td><td>--</td><td>--</td><td>L11631</td><td>--</td></tr>\n",
       "<tr><td>798.6012</td><td>12</td><td>--</td><td>--</td><td>41178.412  -   53696.867</td><td>3d8</td><td>3P</td><td>1</td><td>3d6.(3D).4s.4p.(3P*)</td><td>5F*</td><td>1</td><td>3 - 3</td><td>--</td><td>--</td><td>L11631</td><td>--</td></tr>\n",
       "<tr><td>799.44803</td><td>930</td><td>--</td><td>--</td><td>--</td><td>--</td><td>--</td><td>--</td><td>--</td><td>--</td><td>--</td><td>--</td><td>--</td><td>--</td><td>L11631</td><td>--</td></tr>\n",
       "<tr><td>799.68159</td><td>28</td><td>--</td><td>--</td><td>36975.588  -   49477.127</td><td>3d7.(2F).4s</td><td>d 3F</td><td>3</td><td>3d6.(3F2).4s.4p.(3P*)</td><td>1F*</td><td>3</td><td>7 - 7</td><td>--</td><td>--</td><td>L11631</td><td>--</td></tr>\n",
       "<tr><td>799.7302</td><td>10</td><td>--</td><td>--</td><td>33412.717  -   45913.497</td><td>3d8</td><td>c 3F</td><td>3</td><td>3d6.(3F2).4s.4p.(3P*)</td><td>x 5G*</td><td>3</td><td>7 - 7</td><td>--</td><td>--</td><td>L11631</td><td>--</td></tr>\n",
       "<tr><td>799.8252</td><td>11</td><td>--</td><td>--</td><td>34636.792  -   47136.084</td><td>3d6.4s2</td><td>b 1D2</td><td>2</td><td>3d7.(4P).4p</td><td>w 3D*</td><td>2</td><td>5 - 5</td><td>--</td><td>--</td><td>L11631</td><td>--</td></tr>\n",
       "<tr><td>799.89453</td><td>4270</td><td>--</td><td>--</td><td>35257.324  -   47755.537</td><td>3d7.(4F).4p</td><td>z 5G*</td><td>4</td><td>3d7.(4F).5s</td><td>e 5F</td><td>3</td><td>9 - 7</td><td>--</td><td>--</td><td>L11631</td><td>--</td></tr>\n",
       "</table></div>"
      ],
      "text/plain": [
       "<Table length=4148>\n",
       "Wavelength  Rel     Aki     Acc  ...  Type   TP     Line   col15\n",
       " float64    str9  float64   str2 ... int32 str17    str9   int32\n",
       "---------- ----- ---------- ---- ... ----- ----- --------- -----\n",
       " 300.04509 24000  5410000.0   B+ ...    -- T5720    L11631    --\n",
       "  300.0577    1d         --   -- ...    --    -- L11631c80    --\n",
       " 300.09476 81000 64200000.0    A ...    -- T3547    L11631    --\n",
       "  300.1658    13         --   -- ...    --    -- L11631c80    --\n",
       "  300.1787  (0)?         --   -- ...    --    -- L11631c81    --\n",
       "  300.1827   0d?         --   -- ...    --    -- L11631c80    --\n",
       "  300.1924   0d?         --   -- ...    --    -- L11631c80    --\n",
       " 300.30305  9800  7500000.0    C ...    -- T5720    L11631    --\n",
       "  300.3251     1         --   -- ...    --    -- L11631c80    --\n",
       "  300.3338   0d?         --   -- ...    --    -- L11631c80    --\n",
       "       ...   ...        ...  ... ...   ...   ...       ...   ...\n",
       "  795.9143   105         --   -- ...    --    --    L11631    --\n",
       " 796.49725    59         --   -- ...    --    --    L11631    --\n",
       "  797.4491     4         --   -- ...    --    --    L11631    --\n",
       " 798.19112   129         --   -- ...    --    --    L11631    --\n",
       "  798.6012    12         --   -- ...    --    --    L11631    --\n",
       " 799.44803   930         --   -- ...    --    --    L11631    --\n",
       " 799.68159    28         --   -- ...    --    --    L11631    --\n",
       "  799.7302    10         --   -- ...    --    --    L11631    --\n",
       "  799.8252    11         --   -- ...    --    --    L11631    --\n",
       " 799.89453  4270         --   -- ...    --    --    L11631    --"
      ]
     },
     "execution_count": 14,
     "metadata": {},
     "output_type": "execute_result"
    }
   ],
   "source": [
    "Atomiclines2.atomic_line"
   ]
  },
  {
   "cell_type": "code",
   "execution_count": 15,
   "id": "3d4422ca-b894-4736-b0a7-2e87c43e600f",
   "metadata": {},
   "outputs": [
    {
     "data": {
      "text/plain": [
       "499.84944"
      ]
     },
     "execution_count": 15,
     "metadata": {},
     "output_type": "execute_result"
    }
   ],
   "source": [
    "Atomiclines2.minmax"
   ]
  },
  {
   "cell_type": "code",
   "execution_count": 16,
   "id": "daf41536-bd9e-4904-a5b8-f6e60582e41c",
   "metadata": {},
   "outputs": [
    {
     "data": {
      "text/plain": [
       "(300.04509, 799.89453)"
      ]
     },
     "execution_count": 16,
     "metadata": {},
     "output_type": "execute_result"
    }
   ],
   "source": [
    "Atomiclines2.lambda_min, Atomiclines2.lambda_max"
   ]
  },
  {
   "cell_type": "code",
   "execution_count": 17,
   "id": "c7d42dae-780c-44e1-ad48-085287b5c613",
   "metadata": {},
   "outputs": [],
   "source": [
    "Atomiclines = atomiclines.atomic_lines()\n",
    "Atomiclines.Fe_II"
   ]
  },
  {
   "cell_type": "code",
   "execution_count": 18,
   "id": "7ba99e08-cbe5-4963-bdef-9486530613b5",
   "metadata": {},
   "outputs": [
    {
     "data": {
      "text/html": [
       "<div><i>Table length=2192</i>\n",
       "<table id=\"table1977414532304\" class=\"table-striped table-bordered table-condensed\">\n",
       "<thead><tr><th>Wavelength</th><th>Rel</th><th>Aki</th><th>Acc</th><th>Ei - Ek</th><th>L Conf</th><th>L Term</th><th>L J</th><th>U Conf</th><th>U Term</th><th>U J</th><th>gi - gk</th><th>Type</th><th>TP</th><th>Line</th><th>col15</th></tr></thead>\n",
       "<thead><tr><th>float64</th><th>str16</th><th>float64</th><th>str2</th><th>str27</th><th>str21</th><th>str5</th><th>str4</th><th>str21</th><th>str6</th><th>str4</th><th>str7</th><th>int32</th><th>str14</th><th>str13</th><th>int32</th></tr></thead>\n",
       "<tr><td>300.00623</td><td>1800</td><td>3000000.0</td><td>D+</td><td>30764.4737  -    64087.408</td><td>3d6.(3G).4s</td><td>b 2G</td><td>7/2</td><td>3d6.(3F2).4p</td><td>y 4G*</td><td>5/2</td><td>8 - 6</td><td>--</td><td>T6892c83</td><td>L18349c139</td><td>--</td></tr>\n",
       "<tr><td>300.0075</td><td>400</td><td>--</td><td>--</td><td>79284.919   -   112607.597</td><td>3d5.(6S).4s.4p.(1P*)</td><td>x 6P*</td><td>5/2</td><td>3d6.(5D).7s</td><td>6D</td><td>7/2</td><td>6 - 8</td><td>--</td><td>--</td><td>L18349c142</td><td>--</td></tr>\n",
       "<tr><td>300.0247</td><td>270</td><td>4900000.0</td><td>D+</td><td>73603.537   -   106924.441</td><td>3d6.(1I).4p</td><td>w 2H*</td><td>11/2</td><td>3d6.(3F2).4d</td><td>2G</td><td>9/2</td><td>12 - 10</td><td>--</td><td>T6892c83</td><td>L18349c139</td><td>--</td></tr>\n",
       "<tr><td>300.0295</td><td>250bl(Fe II)?*</td><td>--</td><td>--</td><td>76129.465   -   109449.894</td><td>3d6.(1S2).4p</td><td>x 2P*</td><td>3/2</td><td>3d5.4s.(7S).4d</td><td>8D</td><td>3/2</td><td>4 - 4</td><td>--</td><td>--</td><td>L18349c143</td><td>--</td></tr>\n",
       "<tr><td>300.0295</td><td>250bl(Fe II)?*</td><td>800000.0</td><td>D</td><td>57578.490   -    90898.878</td><td>3d5.4s2</td><td>d 4P</td><td>1/2</td><td>3d6.(5D).5p</td><td>4D*</td><td>3/2</td><td>2 - 4</td><td>--</td><td>T6892c83</td><td>L18349c143</td><td>--</td></tr>\n",
       "<tr><td>300.0755</td><td>140d,bl</td><td>--</td><td>--</td><td>73393.771   -   106709.008</td><td>3d5.4s2</td><td>4F</td><td>9/2</td><td>3d6.(5D).6p</td><td>4F*</td><td>9/2</td><td>10 - 10</td><td>--</td><td>--</td><td>L18349c143</td><td>--</td></tr>\n",
       "<tr><td>300.1123</td><td>150d?</td><td>4900000.0</td><td>D+</td><td>66377.315   -    99688.355</td><td>3d6.(3G).4p</td><td>x 4F*</td><td>7/2</td><td>3d6.(3F2).5s</td><td>f 4F</td><td>7/2</td><td>8 - 8</td><td>--</td><td>T6892c83</td><td>L18349c143</td><td>--</td></tr>\n",
       "<tr><td>300.131</td><td>150d</td><td>10000000.0</td><td>D+</td><td>66612.659   -    99921.670</td><td>3d6.(3G).4p</td><td>x 4F*</td><td>3/2</td><td>3d6.(3P2).5s</td><td>2P</td><td>1/2</td><td>4 - 2</td><td>--</td><td>T6892c83</td><td>L18349c143</td><td>--</td></tr>\n",
       "<tr><td>300.14003</td><td>1000</td><td>13000000.0</td><td>D+</td><td>64806.494   -    98114.577</td><td>3d6.(3P2).4p</td><td>z 2P*</td><td>1/2</td><td>3d6.(3P2).5s</td><td>4P</td><td>3/2</td><td>2 - 4</td><td>--</td><td>T6892c83</td><td>L18349c139</td><td>--</td></tr>\n",
       "<tr><td>300.1601</td><td>160</td><td>3900000.0</td><td>D+</td><td>66612.659   -    99918.563</td><td>3d6.(3G).4p</td><td>x 4F*</td><td>3/2</td><td>3d6.(3F2).5s</td><td>f 4F</td><td>3/2</td><td>4 - 4</td><td>--</td><td>T6892c83</td><td>L18349c142</td><td>--</td></tr>\n",
       "<tr><td>...</td><td>...</td><td>...</td><td>...</td><td>...</td><td>...</td><td>...</td><td>...</td><td>...</td><td>...</td><td>...</td><td>...</td><td>...</td><td>...</td><td>...</td><td>...</td></tr>\n",
       "<tr><td>798.19111</td><td>210bl(Fe II)*</td><td>240000.0</td><td>D+</td><td>90593.511   -   103118.421</td><td>3d6.(5D).5p</td><td>6F*</td><td>3/2</td><td>3d6.(5D).6s</td><td>4D</td><td>3/2</td><td>4 - 4</td><td>--</td><td>T6892c83</td><td>L18349c148</td><td>--</td></tr>\n",
       "<tr><td>798.19111</td><td>210bl(Fe II)*</td><td>2900000.0</td><td>C+</td><td>77861.650   -    90386.533</td><td>3d6.(5D).5s</td><td>e 6D</td><td>9/2</td><td>3d6.(5D).5p</td><td>6F*</td><td>9/2</td><td>10 - 10</td><td>--</td><td>T6892c83</td><td>L18349c148</td><td>--</td></tr>\n",
       "<tr><td>798.4621</td><td>1.4</td><td>--</td><td>--</td><td>109794.406   -   122315.037</td><td>3d5.(2G2).4s.4p.(3P*)</td><td>4H*</td><td>11/2</td><td>3d6.(3H).6s</td><td>2H</td><td>11/2</td><td>12 - 12</td><td>--</td><td>--</td><td>L18349c139</td><td>--</td></tr>\n",
       "<tr><td>798.732</td><td>1.5</td><td>--</td><td>--</td><td>85679.755   -    98196.137</td><td>3d6.(5D).4d</td><td>e 4G</td><td>5/2</td><td>3d5.(4D).4s.4p.(3P*)</td><td>4F*</td><td>3/2</td><td>6 - 4</td><td>--</td><td>--</td><td>L18349c139</td><td>--</td></tr>\n",
       "<tr><td>798.8135</td><td>2.2</td><td>210000.0</td><td>D+</td><td>91167.936   -   103683.078</td><td>3d6.(5D).5p</td><td>w 6P*</td><td>7/2</td><td>3d6.(5D).5d</td><td>4F</td><td>9/2</td><td>8 - 10</td><td>--</td><td>T6892c83</td><td>L18349c139</td><td>--</td></tr>\n",
       "<tr><td>799.1353</td><td>22</td><td>2000000.0</td><td>D+</td><td>92329.905   -   104839.990</td><td>3d5.(4G).4s.4p.(3P*)</td><td>v 4F*</td><td>5/2</td><td>3d6.(3F2).4d</td><td>4P</td><td>3/2</td><td>6 - 4</td><td>--</td><td>T6892c83</td><td>L18349c139</td><td>--</td></tr>\n",
       "<tr><td>799.2449</td><td>3.4</td><td>--</td><td>--</td><td>110064.966   -   122573.335</td><td>3d6.(3H).5p</td><td>2G*</td><td>9/2</td><td>3d6.(3H).6s</td><td>2H</td><td>9/2</td><td>10 - 10</td><td>--</td><td>--</td><td>L18349c139</td><td>--</td></tr>\n",
       "<tr><td>799.66952</td><td>11</td><td>900000.0</td><td>D+</td><td>90300.628   -   102802.353</td><td>3d6.(5D).5p</td><td>6F*</td><td>7/2</td><td>3d6.(5D).6s</td><td>4D</td><td>5/2</td><td>8 - 6</td><td>--</td><td>T6892c83</td><td>L18349c139</td><td>--</td></tr>\n",
       "<tr><td>799.8042</td><td>1.5</td><td>--</td><td>--</td><td>99573.244   -   112072.860</td><td>3d6.(3F2).5s</td><td>f 4F</td><td>9/2</td><td>3d6.(3F2).5p</td><td>4G*</td><td>7/2</td><td>10 - 8</td><td>--</td><td>--</td><td>L18349c139</td><td>--</td></tr>\n",
       "<tr><td>799.87</td><td>4</td><td>--</td><td>--</td><td>98445.410   -   110943.996</td><td>3d6.(3H).5s</td><td>e 4H</td><td>9/2</td><td>3d6.(3H).5p</td><td>2H*</td><td>9/2</td><td>10 - 10</td><td>--</td><td>--</td><td>L18349c139</td><td>--</td></tr>\n",
       "</table></div>"
      ],
      "text/plain": [
       "<Table length=2192>\n",
       "Wavelength      Rel          Aki     Acc  ...  Type    TP       Line    col15\n",
       " float64       str16       float64   str2 ... int32  str14     str13    int32\n",
       "---------- -------------- ---------- ---- ... ----- -------- ---------- -----\n",
       " 300.00623           1800  3000000.0   D+ ...    -- T6892c83 L18349c139    --\n",
       "  300.0075            400         --   -- ...    --       -- L18349c142    --\n",
       "  300.0247            270  4900000.0   D+ ...    -- T6892c83 L18349c139    --\n",
       "  300.0295 250bl(Fe II)?*         --   -- ...    --       -- L18349c143    --\n",
       "  300.0295 250bl(Fe II)?*   800000.0    D ...    -- T6892c83 L18349c143    --\n",
       "  300.0755        140d,bl         --   -- ...    --       -- L18349c143    --\n",
       "  300.1123          150d?  4900000.0   D+ ...    -- T6892c83 L18349c143    --\n",
       "   300.131           150d 10000000.0   D+ ...    -- T6892c83 L18349c143    --\n",
       " 300.14003           1000 13000000.0   D+ ...    -- T6892c83 L18349c139    --\n",
       "  300.1601            160  3900000.0   D+ ...    -- T6892c83 L18349c142    --\n",
       "       ...            ...        ...  ... ...   ...      ...        ...   ...\n",
       " 798.19111  210bl(Fe II)*   240000.0   D+ ...    -- T6892c83 L18349c148    --\n",
       " 798.19111  210bl(Fe II)*  2900000.0   C+ ...    -- T6892c83 L18349c148    --\n",
       "  798.4621            1.4         --   -- ...    --       -- L18349c139    --\n",
       "   798.732            1.5         --   -- ...    --       -- L18349c139    --\n",
       "  798.8135            2.2   210000.0   D+ ...    -- T6892c83 L18349c139    --\n",
       "  799.1353             22  2000000.0   D+ ...    -- T6892c83 L18349c139    --\n",
       "  799.2449            3.4         --   -- ...    --       -- L18349c139    --\n",
       " 799.66952             11   900000.0   D+ ...    -- T6892c83 L18349c139    --\n",
       "  799.8042            1.5         --   -- ...    --       -- L18349c139    --\n",
       "    799.87              4         --   -- ...    --       -- L18349c139    --"
      ]
     },
     "execution_count": 18,
     "metadata": {},
     "output_type": "execute_result"
    }
   ],
   "source": [
    "Atomiclines.atomic_line"
   ]
  },
  {
   "cell_type": "code",
   "execution_count": 19,
   "id": "bb21f484-63cf-44db-a58b-8da158a4c5e1",
   "metadata": {},
   "outputs": [],
   "source": [
    "Atomiclines = atomiclines.atomic_lines()\n",
    "Atomiclines.O_III"
   ]
  },
  {
   "cell_type": "code",
   "execution_count": 20,
   "id": "ebdc06d8-301a-4cab-8c7f-6294a970019a",
   "metadata": {},
   "outputs": [
    {
     "data": {
      "text/html": [
       "<div><i>Table length=27</i>\n",
       "<table id=\"table1977460235168\" class=\"table-striped table-bordered table-condensed\">\n",
       "<thead><tr><th>Wavelength</th><th>Rel</th><th>Aki</th><th>Acc</th><th>Ei - Ek</th><th>L Conf</th><th>L Term</th><th>L J</th><th>U Conf</th><th>U Term</th><th>U J</th><th>gi - gk</th><th>Type</th><th>TP</th><th>Line</th><th>col15</th></tr></thead>\n",
       "<thead><tr><th>float64</th><th>int32</th><th>float64</th><th>str2</th><th>str24</th><th>str15</th><th>str3</th><th>int32</th><th>str15</th><th>str3</th><th>int32</th><th>str6</th><th>int32</th><th>str15</th><th>str5</th><th>int32</th></tr></thead>\n",
       "<tr><td>301.763</td><td>80</td><td>53800000.0</td><td>C</td><td>294223.07  -   327352.17</td><td>2s2.2p.(2P*).3p</td><td>3D</td><td>3</td><td>2s2.2p.(2P*).3d</td><td>3D*</td><td>3</td><td>7 - 7</td><td>--</td><td>T5376,T5791,LS</td><td>L3467</td><td>--</td></tr>\n",
       "<tr><td>302.345</td><td>80</td><td>47900000.0</td><td>C+</td><td>267377.11  -   300442.55</td><td>2s2.2p.(2P*).3s</td><td>3P*</td><td>1</td><td>2s2.2p.(2P*).3p</td><td>3P</td><td>2</td><td>3 - 5</td><td>--</td><td>u24</td><td>L3467</td><td>--</td></tr>\n",
       "<tr><td>304.302</td><td>80</td><td>--</td><td>--</td><td>--</td><td>--</td><td>--</td><td>--</td><td>--</td><td>--</td><td>--</td><td>--</td><td>--</td><td>--</td><td>L3467</td><td>--</td></tr>\n",
       "<tr><td>304.713</td><td>200</td><td>149000000.0</td><td>C+</td><td>267634.00  -   300442.55</td><td>2s2.2p.(2P*).3s</td><td>3P*</td><td>2</td><td>2s2.2p.(2P*).3p</td><td>3P</td><td>2</td><td>5 - 5</td><td>--</td><td>u24</td><td>L3467</td><td>--</td></tr>\n",
       "<tr><td>305.93</td><td>110</td><td>87200000.0</td><td>C+</td><td>267634.00  -   300311.96</td><td>2s2.2p.(2P*).3s</td><td>3P*</td><td>2</td><td>2s2.2p.(2P*).3p</td><td>3P</td><td>1</td><td>5 - 3</td><td>--</td><td>u24</td><td>L3467</td><td>--</td></tr>\n",
       "<tr><td>312.171</td><td>80</td><td>138000000.0</td><td>C</td><td>297558.66  -   329583.89</td><td>2s2.2p.(2P*).3p</td><td>3S</td><td>1</td><td>2s2.2p.(2P*).3d</td><td>3P*</td><td>1</td><td>3 - 3</td><td>--</td><td>T5376,T5791,LS</td><td>L3467</td><td>--</td></tr>\n",
       "<tr><td>313.286</td><td>110</td><td>137000000.0</td><td>C</td><td>297558.66  -   329469.80</td><td>2s2.2p.(2P*).3p</td><td>3S</td><td>1</td><td>2s2.2p.(2P*).3d</td><td>3P*</td><td>2</td><td>3 - 5</td><td>--</td><td>T5376,T5791,LS</td><td>L3467</td><td>--</td></tr>\n",
       "<tr><td>323.857</td><td>80</td><td>--</td><td>--</td><td>--</td><td>--</td><td>--</td><td>--</td><td>--</td><td>--</td><td>--</td><td>--</td><td>--</td><td>--</td><td>L3492</td><td>--</td></tr>\n",
       "<tr><td>326.098</td><td>200</td><td>168000000.0</td><td>C+</td><td>294002.86  -   324660.80</td><td>2s2.2p.(2P*).3p</td><td>3D</td><td>2</td><td>2s2.2p.(2P*).3d</td><td>3F*</td><td>3</td><td>5 - 7</td><td>--</td><td>T5376,T5791,LS</td><td>L3467</td><td>--</td></tr>\n",
       "<tr><td>326.546</td><td>300</td><td>188000000.0</td><td>C+</td><td>294223.07  -   324839.03</td><td>2s2.2p.(2P*).3p</td><td>3D</td><td>3</td><td>2s2.2p.(2P*).3d</td><td>3F*</td><td>4</td><td>7 - 9</td><td>--</td><td>T5376,T5791,LS</td><td>L3467</td><td>--</td></tr>\n",
       "<tr><td>...</td><td>...</td><td>...</td><td>...</td><td>...</td><td>...</td><td>...</td><td>...</td><td>...</td><td>...</td><td>...</td><td>...</td><td>...</td><td>...</td><td>...</td><td>...</td></tr>\n",
       "<tr><td>370.337</td><td>80</td><td>114000000.0</td><td>C+</td><td>338863.03  -   365857.89</td><td>2s.2p2.(4P).3s</td><td>5P</td><td>3</td><td>2s.2p2.(4P).3p</td><td>5D*</td><td>4</td><td>7 - 9</td><td>--</td><td>T5376LS</td><td>L3467</td><td>--</td></tr>\n",
       "<tr><td>370.724</td><td>110</td><td>73400000.0</td><td>C+</td><td>300311.96  -   327278.30</td><td>2s2.2p.(2P*).3p</td><td>3P</td><td>1</td><td>2s2.2p.(2P*).3d</td><td>3D*</td><td>2</td><td>3 - 5</td><td>--</td><td>T5376,T5791,LS</td><td>L3467</td><td>--</td></tr>\n",
       "<tr><td>371.508</td><td>110</td><td>97300000.0</td><td>C+</td><td>300442.55  -   327352.17</td><td>2s2.2p.(2P*).3p</td><td>3P</td><td>2</td><td>2s2.2p.(2P*).3d</td><td>3D*</td><td>3</td><td>5 - 7</td><td>--</td><td>T5376,T5791,LS</td><td>L3467</td><td>--</td></tr>\n",
       "<tr><td>374.4</td><td>110</td><td>--</td><td>--</td><td>--</td><td>--</td><td>--</td><td>--</td><td>--</td><td>--</td><td>--</td><td>--</td><td>--</td><td>--</td><td>L3467</td><td>--</td></tr>\n",
       "<tr><td>375.467</td><td>150</td><td>75300000.0</td><td>C+</td><td>267377.11  -   294002.86</td><td>2s2.2p.(2P*).3s</td><td>3P*</td><td>1</td><td>2s2.2p.(2P*).3p</td><td>3D</td><td>2</td><td>3 - 5</td><td>--</td><td>u24</td><td>L3467</td><td>--</td></tr>\n",
       "<tr><td>375.721</td><td>80</td><td>55600000.0</td><td>C+</td><td>267258.71  -   293866.49</td><td>2s2.2p.(2P*).3s</td><td>3P*</td><td>0</td><td>2s2.2p.(2P*).3p</td><td>3D</td><td>1</td><td>1 - 3</td><td>--</td><td>u24</td><td>L3467</td><td>--</td></tr>\n",
       "<tr><td>375.987</td><td>250</td><td>97900000.0</td><td>C+</td><td>267634.00  -   294223.07</td><td>2s2.2p.(2P*).3s</td><td>3P*</td><td>2</td><td>2s2.2p.(2P*).3p</td><td>3D</td><td>3</td><td>5 - 7</td><td>--</td><td>u24</td><td>L3467</td><td>--</td></tr>\n",
       "<tr><td>379.126</td><td>110</td><td>22400000.0</td><td>C+</td><td>267634.00  -   294002.86</td><td>2s2.2p.(2P*).3s</td><td>3P*</td><td>2</td><td>2s2.2p.(2P*).3p</td><td>3D</td><td>2</td><td>5 - 5</td><td>--</td><td>u24</td><td>L3467</td><td>--</td></tr>\n",
       "<tr><td>396.159</td><td>200</td><td>125000000.0</td><td>B</td><td>306586.08  -   331821.44</td><td>2s2.2p.(2P*).3p</td><td>1D</td><td>2</td><td>2s2.2p.(2P*).3d</td><td>1F*</td><td>3</td><td>5 - 7</td><td>--</td><td>T5376,T5791</td><td>L3492</td><td>--</td></tr>\n",
       "<tr><td>559.237</td><td>110</td><td>32700000.0</td><td>B</td><td>273081.33  -   290958.25</td><td>2s2.2p.(2P*).3s</td><td>1P*</td><td>1</td><td>2s2.2p.(2P*).3p</td><td>1P</td><td>1</td><td>3 - 3</td><td>--</td><td>T5376,T5791,u24</td><td>L3492</td><td>--</td></tr>\n",
       "</table></div>"
      ],
      "text/plain": [
       "<Table length=27>\n",
       "Wavelength  Rel      Aki     Acc  ...  Type        TP        Line col15\n",
       " float64   int32   float64   str2 ... int32      str15       str5 int32\n",
       "---------- ----- ----------- ---- ... ----- --------------- ----- -----\n",
       "   301.763    80  53800000.0    C ...    --  T5376,T5791,LS L3467    --\n",
       "   302.345    80  47900000.0   C+ ...    --             u24 L3467    --\n",
       "   304.302    80          --   -- ...    --              -- L3467    --\n",
       "   304.713   200 149000000.0   C+ ...    --             u24 L3467    --\n",
       "    305.93   110  87200000.0   C+ ...    --             u24 L3467    --\n",
       "   312.171    80 138000000.0    C ...    --  T5376,T5791,LS L3467    --\n",
       "   313.286   110 137000000.0    C ...    --  T5376,T5791,LS L3467    --\n",
       "   323.857    80          --   -- ...    --              -- L3492    --\n",
       "   326.098   200 168000000.0   C+ ...    --  T5376,T5791,LS L3467    --\n",
       "   326.546   300 188000000.0   C+ ...    --  T5376,T5791,LS L3467    --\n",
       "       ...   ...         ...  ... ...   ...             ...   ...   ...\n",
       "   370.337    80 114000000.0   C+ ...    --         T5376LS L3467    --\n",
       "   370.724   110  73400000.0   C+ ...    --  T5376,T5791,LS L3467    --\n",
       "   371.508   110  97300000.0   C+ ...    --  T5376,T5791,LS L3467    --\n",
       "     374.4   110          --   -- ...    --              -- L3467    --\n",
       "   375.467   150  75300000.0   C+ ...    --             u24 L3467    --\n",
       "   375.721    80  55600000.0   C+ ...    --             u24 L3467    --\n",
       "   375.987   250  97900000.0   C+ ...    --             u24 L3467    --\n",
       "   379.126   110  22400000.0   C+ ...    --             u24 L3467    --\n",
       "   396.159   200 125000000.0    B ...    --     T5376,T5791 L3492    --\n",
       "   559.237   110  32700000.0    B ...    -- T5376,T5791,u24 L3492    --"
      ]
     },
     "execution_count": 20,
     "metadata": {},
     "output_type": "execute_result"
    }
   ],
   "source": [
    "Atomiclines.atomic_line"
   ]
  },
  {
   "cell_type": "code",
   "execution_count": 23,
   "id": "29ec38e6-bad6-40bd-a793-f1379b122f29",
   "metadata": {},
   "outputs": [
    {
     "data": {
      "text/plain": [
       "('O III', Unit(\"nm\"))"
      ]
     },
     "execution_count": 23,
     "metadata": {},
     "output_type": "execute_result"
    }
   ],
   "source": [
    "Atomiclines.spectrum, Atomiclines.unit"
   ]
  },
  {
   "cell_type": "code",
   "execution_count": null,
   "id": "d2cebdc7-0a46-4101-a1d6-c726589f50e1",
   "metadata": {},
   "outputs": [],
   "source": []
  }
 ],
 "metadata": {
  "kernelspec": {
   "display_name": "Python 3 (ipykernel)",
   "language": "python",
   "name": "python3"
  },
  "language_info": {
   "codemirror_mode": {
    "name": "ipython",
    "version": 3
   },
   "file_extension": ".py",
   "mimetype": "text/x-python",
   "name": "python",
   "nbconvert_exporter": "python",
   "pygments_lexer": "ipython3",
   "version": "3.10.13"
  }
 },
 "nbformat": 4,
 "nbformat_minor": 5
}
