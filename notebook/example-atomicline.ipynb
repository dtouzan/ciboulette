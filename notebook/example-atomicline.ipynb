{
 "cells": [
  {
   "cell_type": "markdown",
   "id": "8da9a29b-4331-43b3-8d79-9e0ea2b91744",
   "metadata": {},
   "source": [
    "## Examples Atomic lines class"
   ]
  },
  {
   "cell_type": "code",
   "execution_count": 1,
   "id": "8c24d731-2a04-4ce6-8539-b469ef5432bb",
   "metadata": {},
   "outputs": [],
   "source": [
    "from ciboulette.spectrum import atomiclines, line"
   ]
  },
  {
   "cell_type": "markdown",
   "id": "f29b2643-dff6-485b-a3f2-29ebea706055",
   "metadata": {},
   "source": [
    "- Citation"
   ]
  },
  {
   "cell_type": "code",
   "execution_count": 2,
   "id": "400e23c9-8a72-4269-b29a-7f91a1aa2bfa",
   "metadata": {},
   "outputs": [
    {
     "name": "stdout",
     "output_type": "stream",
     "text": [
      "Kramida, A., Ralchenko, Yu., Reader, J. and NIST ASD Team (2022) ]. Available: https://physics.nist.gov/PhysRefData/ASD/index.html#Team.\n",
      "NIST Atomic Spectra Database (version 5.10), [Online]. Available: https://physics.nist.gov/asd [Thu Nov 09 2023].\n",
      "National Institute of Standards and Technology, Gaithersburg, MD. DOI: https://doi.org/10.18434/T4W30F\n"
     ]
    }
   ],
   "source": [
    "print(atomiclines.__citation__)"
   ]
  },
  {
   "cell_type": "markdown",
   "id": "c43d6744-829c-4f81-8579-7400994e6f1e",
   "metadata": {},
   "source": [
    "- Create Atomic lines "
   ]
  },
  {
   "cell_type": "code",
   "execution_count": 3,
   "id": "f40cf411-70cc-49b7-88c4-ccd12cffc5cf",
   "metadata": {},
   "outputs": [],
   "source": [
    "Atomiclines = atomiclines.atomic_lines()\n",
    "Atomiclines.catalog"
   ]
  },
  {
   "cell_type": "code",
   "execution_count": 4,
   "id": "ba58b4e7-392d-4585-9115-0ef15a9b0dea",
   "metadata": {},
   "outputs": [
    {
     "data": {
      "text/plain": [
       "['Wavelength',\n",
       " 'Rel',\n",
       " 'Aki',\n",
       " 'Acc',\n",
       " 'Ei - Ek',\n",
       " 'L Conf',\n",
       " 'L Term',\n",
       " 'L J',\n",
       " 'U Conf',\n",
       " 'U Term',\n",
       " 'U J',\n",
       " 'gi - gk',\n",
       " 'Type',\n",
       " 'TP',\n",
       " 'Line',\n",
       " 'Spectrum']"
      ]
     },
     "execution_count": 4,
     "metadata": {},
     "output_type": "execute_result"
    }
   ],
   "source": [
    "Atomiclines.header_names"
   ]
  },
  {
   "cell_type": "code",
   "execution_count": 5,
   "id": "b1a9616e-5c5b-42ab-9d8e-de056d34d64a",
   "metadata": {},
   "outputs": [],
   "source": [
    "# Reverse for example\n",
    "Atomiclines.lambda_min = 656.2\n",
    "Atomiclines.lambda_max = 657.3\n",
    "Atomiclines.spectrum = 'H I'"
   ]
  },
  {
   "cell_type": "markdown",
   "id": "ccc9790b-68f2-42f6-8545-e7531cdba4a9",
   "metadata": {},
   "source": [
    "- between thicks"
   ]
  },
  {
   "cell_type": "code",
   "execution_count": 6,
   "id": "9ac68008-24b2-4654-b22a-3c050b021060",
   "metadata": {},
   "outputs": [
    {
     "name": "stdout",
     "output_type": "stream",
     "text": [
      "Wavelength  Rel      Aki     Acc               Ei - Ek               L Conf L Term L J U Conf U Term U J gi - gk Type   TP    Line   Spectrum\n",
      "---------- ------ ---------- --- ----------------------------------- ------ ------ --- ------ ------ --- ------- ---- ----- -------- --------\n",
      " 656.27097     -- 53877000.0 AAA 82258.9191133     -    97492.319433     2p    2P* 1/2     3d     2D 3/2   2 - 4   -- T7771    L2752      H I\n",
      "656.272483     -- 22448000.0 AAA 82258.9543992821  -    97492.319611     2s     2S 1/2     3p    2P* 3/2   2 - 4   -- T7771 L6891c38      H I\n",
      "656.277153     -- 22449000.0 AAA 82258.9543992821  -    97492.211200     2s     2S 1/2     3p    2P* 1/2   2 - 2   -- T7771 L6891c38      H I\n",
      "   656.279 500000 44101000.0 AAA    82259.158         -    97492.304      2     --  --      3     --  --  8 - 18   -- T8637 L7400c29      H I\n",
      "656.285175     -- 64651000.0 AAA 82259.2850014     -    97492.355566     2p    2P* 3/2     3d     2D 5/2   4 - 6   -- T7771    L2752      H I\n"
     ]
    }
   ],
   "source": [
    "Atomiclines.request.pprint(max_width=255,max_lines=1000)\n",
    "#Atomiclines.request"
   ]
  },
  {
   "cell_type": "code",
   "execution_count": 7,
   "id": "5208a3e9-2b0c-4234-b1ff-94d877e90f32",
   "metadata": {},
   "outputs": [
    {
     "data": {
      "text/plain": [
       "(656.2, 657.3)"
      ]
     },
     "execution_count": 7,
     "metadata": {},
     "output_type": "execute_result"
    }
   ],
   "source": [
    "Atomiclines.lambda_min, Atomiclines.lambda_max"
   ]
  },
  {
   "cell_type": "code",
   "execution_count": 8,
   "id": "b9404f83-6dfa-4d7d-abae-b30d360dd163",
   "metadata": {},
   "outputs": [
    {
     "data": {
      "text/plain": [
       "'H I'"
      ]
     },
     "execution_count": 8,
     "metadata": {},
     "output_type": "execute_result"
    }
   ],
   "source": [
    "Atomiclines.spectrum"
   ]
  },
  {
   "cell_type": "code",
   "execution_count": 9,
   "id": "db0f7d7b-c329-4f37-b4f4-5f081b674113",
   "metadata": {},
   "outputs": [
    {
     "data": {
      "text/html": [
       "<div><i>Table length=9012</i>\n",
       "<table id=\"table2561035001184\" class=\"table-striped table-bordered table-condensed\">\n",
       "<thead><tr><th>Wavelength</th><th>Rel</th><th>Aki</th><th>Acc</th><th>Ei - Ek</th><th>L Conf</th><th>L Term</th><th>L J</th><th>U Conf</th><th>U Term</th><th>U J</th><th>gi - gk</th><th>Type</th><th>TP</th><th>Line</th><th>Spectrum</th></tr></thead>\n",
       "<thead><tr><th>float64</th><th>str16</th><th>str32</th><th>str3</th><th>str37</th><th>str21</th><th>str7</th><th>str11</th><th>str21</th><th>str8</th><th>str11</th><th>str8</th><th>str11</th><th>str17</th><th>str13</th><th>str11</th></tr></thead>\n",
       "<tr><td>365.665</td><td>700</td><td>99.657</td><td>AAA</td><td>82259.158         -  [109598.6566]</td><td>2</td><td>--</td><td>--</td><td>37</td><td>--</td><td>--</td><td>8 - 2738</td><td>--</td><td>T8637</td><td>L7400c29</td><td>H I</td></tr>\n",
       "<tr><td>365.725</td><td>700</td><td>114.3</td><td>AAA</td><td>82259.158         -  [109594.1439]</td><td>2</td><td>--</td><td>--</td><td>36</td><td>--</td><td>--</td><td>8 - 2592</td><td>--</td><td>T8637</td><td>L7400c29</td><td>H I</td></tr>\n",
       "<tr><td>365.804</td><td>700bl</td><td>131.61</td><td>AAA</td><td>82259.158         -  [109589.2390]</td><td>2</td><td>--</td><td>--</td><td>35</td><td>--</td><td>--</td><td>8 - 2450</td><td>--</td><td>T8637</td><td>L7400c29</td><td>H I</td></tr>\n",
       "<tr><td>365.865</td><td>700</td><td>152.16</td><td>AAA</td><td>82259.158         -  [109583.8949]</td><td>2</td><td>--</td><td>--</td><td>34</td><td>--</td><td>--</td><td>8 - 2312</td><td>--</td><td>T8637</td><td>L7400c29</td><td>H I</td></tr>\n",
       "<tr><td>365.941</td><td>700</td><td>176.69</td><td>AAA</td><td>82259.158         -  [109578.0577]</td><td>2</td><td>--</td><td>--</td><td>33</td><td>--</td><td>--</td><td>8 - 2178</td><td>--</td><td>T8637</td><td>L7400c29</td><td>H I</td></tr>\n",
       "<tr><td>366.032</td><td>700bl</td><td>206.12</td><td>AAA</td><td>82259.158         -  [109571.6647]</td><td>2</td><td>--</td><td>--</td><td>32</td><td>--</td><td>--</td><td>8 - 2048</td><td>--</td><td>T8637</td><td>L7400c29</td><td>H I</td></tr>\n",
       "<tr><td>366.127</td><td>800</td><td>241.62</td><td>AAA</td><td>82259.158         -  [109564.6431]</td><td>2</td><td>--</td><td>--</td><td>31</td><td>--</td><td>--</td><td>8 - 1922</td><td>--</td><td>T8637</td><td>L7400c29</td><td>H I</td></tr>\n",
       "<tr><td>366.222</td><td>1100bl</td><td>284.74</td><td>AAA</td><td>82259.158         -  [109556.9077]</td><td>2</td><td>--</td><td>--</td><td>30</td><td>--</td><td>--</td><td>8 - 1800</td><td>--</td><td>T8637</td><td>L7400c29</td><td>H I</td></tr>\n",
       "<tr><td>366.341</td><td>900bl</td><td>337.42</td><td>AAA</td><td>82259.158         -  [109548.3584]</td><td>2</td><td>--</td><td>--</td><td>29</td><td>--</td><td>--</td><td>8 - 1682</td><td>--</td><td>T8637</td><td>L7400c29</td><td>H I</td></tr>\n",
       "<tr><td>366.465</td><td>1000bl</td><td>402.24</td><td>AAA</td><td>82259.158         -  [109538.8768]</td><td>2</td><td>--</td><td>--</td><td>28</td><td>--</td><td>--</td><td>8 - 1568</td><td>--</td><td>T8637</td><td>L7400c29</td><td>H I</td></tr>\n",
       "<tr><td>...</td><td>...</td><td>...</td><td>...</td><td>...</td><td>...</td><td>...</td><td>...</td><td>...</td><td>...</td><td>...</td><td>...</td><td>...</td><td>...</td><td>...</td><td>...</td></tr>\n",
       "<tr><td>370.337</td><td>80</td><td>114000000.0</td><td>C+</td><td>338863.03  -   365857.89</td><td>2s.2p2.(4P).3s</td><td>5P</td><td>3</td><td>2s.2p2.(4P).3p</td><td>5D*</td><td>4</td><td>7 - 9</td><td>--</td><td>T5376LS</td><td>L3467</td><td>O III</td></tr>\n",
       "<tr><td>370.724</td><td>110</td><td>73400000.0</td><td>C+</td><td>300311.96  -   327278.30</td><td>2s2.2p.(2P*).3p</td><td>3P</td><td>1</td><td>2s2.2p.(2P*).3d</td><td>3D*</td><td>2</td><td>3 - 5</td><td>--</td><td>T5376,T5791,LS</td><td>L3467</td><td>O III</td></tr>\n",
       "<tr><td>371.508</td><td>110</td><td>97300000.0</td><td>C+</td><td>300442.55  -   327352.17</td><td>2s2.2p.(2P*).3p</td><td>3P</td><td>2</td><td>2s2.2p.(2P*).3d</td><td>3D*</td><td>3</td><td>5 - 7</td><td>--</td><td>T5376,T5791,LS</td><td>L3467</td><td>O III</td></tr>\n",
       "<tr><td>374.4</td><td>110</td><td>--</td><td>--</td><td>--</td><td>--</td><td>--</td><td>--</td><td>--</td><td>--</td><td>--</td><td>--</td><td>--</td><td>--</td><td>L3467</td><td>O III</td></tr>\n",
       "<tr><td>375.467</td><td>150</td><td>75300000.0</td><td>C+</td><td>267377.11  -   294002.86</td><td>2s2.2p.(2P*).3s</td><td>3P*</td><td>1</td><td>2s2.2p.(2P*).3p</td><td>3D</td><td>2</td><td>3 - 5</td><td>--</td><td>u24</td><td>L3467</td><td>O III</td></tr>\n",
       "<tr><td>375.721</td><td>80</td><td>55600000.0</td><td>C+</td><td>267258.71  -   293866.49</td><td>2s2.2p.(2P*).3s</td><td>3P*</td><td>0</td><td>2s2.2p.(2P*).3p</td><td>3D</td><td>1</td><td>1 - 3</td><td>--</td><td>u24</td><td>L3467</td><td>O III</td></tr>\n",
       "<tr><td>375.987</td><td>250</td><td>97900000.0</td><td>C+</td><td>267634.00  -   294223.07</td><td>2s2.2p.(2P*).3s</td><td>3P*</td><td>2</td><td>2s2.2p.(2P*).3p</td><td>3D</td><td>3</td><td>5 - 7</td><td>--</td><td>u24</td><td>L3467</td><td>O III</td></tr>\n",
       "<tr><td>379.126</td><td>110</td><td>22400000.0</td><td>C+</td><td>267634.00  -   294002.86</td><td>2s2.2p.(2P*).3s</td><td>3P*</td><td>2</td><td>2s2.2p.(2P*).3p</td><td>3D</td><td>2</td><td>5 - 5</td><td>--</td><td>u24</td><td>L3467</td><td>O III</td></tr>\n",
       "<tr><td>396.159</td><td>200</td><td>125000000.0</td><td>B</td><td>306586.08  -   331821.44</td><td>2s2.2p.(2P*).3p</td><td>1D</td><td>2</td><td>2s2.2p.(2P*).3d</td><td>1F*</td><td>3</td><td>5 - 7</td><td>--</td><td>T5376,T5791</td><td>L3492</td><td>O III</td></tr>\n",
       "<tr><td>559.237</td><td>110</td><td>32700000.0</td><td>B</td><td>273081.33  -   290958.25</td><td>2s2.2p.(2P*).3s</td><td>1P*</td><td>1</td><td>2s2.2p.(2P*).3p</td><td>1P</td><td>1</td><td>3 - 3</td><td>--</td><td>T5376,T5791,u24</td><td>L3492</td><td>O III</td></tr>\n",
       "</table></div>"
      ],
      "text/plain": [
       "<Table length=9012>\n",
       "Wavelength  Rel       Aki     Acc  ...  Type        TP         Line   Spectrum\n",
       " float64   str16     str32    str3 ... str11      str17       str13    str11  \n",
       "---------- ------ ----------- ---- ... ----- --------------- -------- --------\n",
       "   365.665    700      99.657  AAA ...    --           T8637 L7400c29      H I\n",
       "   365.725    700       114.3  AAA ...    --           T8637 L7400c29      H I\n",
       "   365.804  700bl      131.61  AAA ...    --           T8637 L7400c29      H I\n",
       "   365.865    700      152.16  AAA ...    --           T8637 L7400c29      H I\n",
       "   365.941    700      176.69  AAA ...    --           T8637 L7400c29      H I\n",
       "   366.032  700bl      206.12  AAA ...    --           T8637 L7400c29      H I\n",
       "   366.127    800      241.62  AAA ...    --           T8637 L7400c29      H I\n",
       "   366.222 1100bl      284.74  AAA ...    --           T8637 L7400c29      H I\n",
       "   366.341  900bl      337.42  AAA ...    --           T8637 L7400c29      H I\n",
       "   366.465 1000bl      402.24  AAA ...    --           T8637 L7400c29      H I\n",
       "       ...    ...         ...  ... ...   ...             ...      ...      ...\n",
       "   370.337     80 114000000.0   C+ ...    --         T5376LS    L3467    O III\n",
       "   370.724    110  73400000.0   C+ ...    --  T5376,T5791,LS    L3467    O III\n",
       "   371.508    110  97300000.0   C+ ...    --  T5376,T5791,LS    L3467    O III\n",
       "     374.4    110          --   -- ...    --              --    L3467    O III\n",
       "   375.467    150  75300000.0   C+ ...    --             u24    L3467    O III\n",
       "   375.721     80  55600000.0   C+ ...    --             u24    L3467    O III\n",
       "   375.987    250  97900000.0   C+ ...    --             u24    L3467    O III\n",
       "   379.126    110  22400000.0   C+ ...    --             u24    L3467    O III\n",
       "   396.159    200 125000000.0    B ...    --     T5376,T5791    L3492    O III\n",
       "   559.237    110  32700000.0    B ...    -- T5376,T5791,u24    L3492    O III"
      ]
     },
     "execution_count": 9,
     "metadata": {},
     "output_type": "execute_result"
    }
   ],
   "source": [
    "Atomiclines.atomic_line"
   ]
  },
  {
   "cell_type": "markdown",
   "id": "e2ad0f60-b91b-454f-bd5c-36a27085445f",
   "metadata": {},
   "source": [
    "- Wavelength atomic line"
   ]
  },
  {
   "cell_type": "code",
   "execution_count": 10,
   "id": "1956318e-a9f2-46ea-b32a-2020ec1b184e",
   "metadata": {},
   "outputs": [
    {
     "data": {
      "text/html": [
       "&lt;Column name=&apos;Wavelength&apos; dtype=&apos;float64&apos; length=9012&gt;\n",
       "<table>\n",
       "<tr><td>365.665</td></tr>\n",
       "<tr><td>365.725</td></tr>\n",
       "<tr><td>365.804</td></tr>\n",
       "<tr><td>365.865</td></tr>\n",
       "<tr><td>365.941</td></tr>\n",
       "<tr><td>366.032</td></tr>\n",
       "<tr><td>366.127</td></tr>\n",
       "<tr><td>366.222</td></tr>\n",
       "<tr><td>366.341</td></tr>\n",
       "<tr><td>366.465</td></tr>\n",
       "<tr><td>366.608</td></tr>\n",
       "<tr><td>366.773</td></tr>\n",
       "<tr><td>...</td></tr>\n",
       "<tr><td>369.87</td></tr>\n",
       "<tr><td>370.275</td></tr>\n",
       "<tr><td>370.337</td></tr>\n",
       "<tr><td>370.724</td></tr>\n",
       "<tr><td>371.508</td></tr>\n",
       "<tr><td>374.4</td></tr>\n",
       "<tr><td>375.467</td></tr>\n",
       "<tr><td>375.721</td></tr>\n",
       "<tr><td>375.987</td></tr>\n",
       "<tr><td>379.126</td></tr>\n",
       "<tr><td>396.159</td></tr>\n",
       "<tr><td>559.237</td></tr>\n",
       "</table>"
      ],
      "text/plain": [
       "<Column name='Wavelength' dtype='float64' length=9012>\n",
       "365.665\n",
       "365.725\n",
       "365.804\n",
       "365.865\n",
       "365.941\n",
       "366.032\n",
       "366.127\n",
       "366.222\n",
       "366.341\n",
       "366.465\n",
       "366.608\n",
       "366.773\n",
       "    ...\n",
       " 369.87\n",
       "370.275\n",
       "370.337\n",
       "370.724\n",
       "371.508\n",
       "  374.4\n",
       "375.467\n",
       "375.721\n",
       "375.987\n",
       "379.126\n",
       "396.159\n",
       "559.237"
      ]
     },
     "execution_count": 10,
     "metadata": {},
     "output_type": "execute_result"
    }
   ],
   "source": [
    "Atomiclines.atomic_line['Wavelength']"
   ]
  },
  {
   "cell_type": "markdown",
   "id": "fe818978-608f-404f-9cd6-d0c24714e62e",
   "metadata": {},
   "source": [
    "- To initialise thicks"
   ]
  },
  {
   "cell_type": "code",
   "execution_count": 11,
   "id": "b0b2aabb-3f6a-471b-8464-3b3ee57514cd",
   "metadata": {},
   "outputs": [
    {
     "data": {
      "text/plain": [
       "(300.00623, 799.89453, 499.8883)"
      ]
     },
     "execution_count": 11,
     "metadata": {},
     "output_type": "execute_result"
    }
   ],
   "source": [
    "Atomiclines.minmax"
   ]
  },
  {
   "cell_type": "code",
   "execution_count": 12,
   "id": "95d8d112-21cb-4a85-9997-6375b22b9e18",
   "metadata": {},
   "outputs": [
    {
     "data": {
      "text/html": [
       "&lt;Column name=&apos;Wavelength&apos; dtype=&apos;float64&apos; length=9012&gt;\n",
       "<table>\n",
       "<tr><td>365.665</td></tr>\n",
       "<tr><td>365.725</td></tr>\n",
       "<tr><td>365.804</td></tr>\n",
       "<tr><td>365.865</td></tr>\n",
       "<tr><td>365.941</td></tr>\n",
       "<tr><td>366.032</td></tr>\n",
       "<tr><td>366.127</td></tr>\n",
       "<tr><td>366.222</td></tr>\n",
       "<tr><td>366.341</td></tr>\n",
       "<tr><td>366.465</td></tr>\n",
       "<tr><td>366.608</td></tr>\n",
       "<tr><td>366.773</td></tr>\n",
       "<tr><td>...</td></tr>\n",
       "<tr><td>369.87</td></tr>\n",
       "<tr><td>370.275</td></tr>\n",
       "<tr><td>370.337</td></tr>\n",
       "<tr><td>370.724</td></tr>\n",
       "<tr><td>371.508</td></tr>\n",
       "<tr><td>374.4</td></tr>\n",
       "<tr><td>375.467</td></tr>\n",
       "<tr><td>375.721</td></tr>\n",
       "<tr><td>375.987</td></tr>\n",
       "<tr><td>379.126</td></tr>\n",
       "<tr><td>396.159</td></tr>\n",
       "<tr><td>559.237</td></tr>\n",
       "</table>"
      ],
      "text/plain": [
       "<Column name='Wavelength' dtype='float64' length=9012>\n",
       "365.665\n",
       "365.725\n",
       "365.804\n",
       "365.865\n",
       "365.941\n",
       "366.032\n",
       "366.127\n",
       "366.222\n",
       "366.341\n",
       "366.465\n",
       "366.608\n",
       "366.773\n",
       "    ...\n",
       " 369.87\n",
       "370.275\n",
       "370.337\n",
       "370.724\n",
       "371.508\n",
       "  374.4\n",
       "375.467\n",
       "375.721\n",
       "375.987\n",
       "379.126\n",
       "396.159\n",
       "559.237"
      ]
     },
     "execution_count": 12,
     "metadata": {},
     "output_type": "execute_result"
    }
   ],
   "source": [
    "Atomiclines.wavelength_values"
   ]
  },
  {
   "cell_type": "markdown",
   "id": "4c26cafc-1581-441d-af52-16df5c238e81",
   "metadata": {},
   "source": [
    "- Add unity"
   ]
  },
  {
   "cell_type": "code",
   "execution_count": 13,
   "id": "29ec38e6-bad6-40bd-a793-f1379b122f29",
   "metadata": {},
   "outputs": [
    {
     "data": {
      "text/latex": [
       "$300 \\; \\mathrm{nm}$"
      ],
      "text/plain": [
       "<Quantity 300. nm>"
      ]
     },
     "execution_count": 13,
     "metadata": {},
     "output_type": "execute_result"
    }
   ],
   "source": [
    "300*Atomiclines.unit"
   ]
  },
  {
   "cell_type": "markdown",
   "id": "de48dc1e-03b9-479f-8d11-226c906781d1",
   "metadata": {},
   "source": [
    "- Lines examples"
   ]
  },
  {
   "cell_type": "code",
   "execution_count": 14,
   "id": "c56d9ab1-1c3b-4a98-a035-fc5bc8defbbc",
   "metadata": {},
   "outputs": [],
   "source": [
    "line_Ha = line.lines(line.AtomicLine_Ha)"
   ]
  },
  {
   "cell_type": "code",
   "execution_count": 15,
   "id": "b78fe1dc-e0eb-461c-be8f-734c202f1072",
   "metadata": {},
   "outputs": [
    {
     "data": {
      "text/plain": [
       "658.28"
      ]
     },
     "execution_count": 15,
     "metadata": {},
     "output_type": "execute_result"
    }
   ],
   "source": [
    "line_Ha.wavelength"
   ]
  },
  {
   "cell_type": "code",
   "execution_count": 16,
   "id": "7bd4ff67-8ce0-48a4-962f-11f7658bb247",
   "metadata": {},
   "outputs": [
    {
     "data": {
      "text/plain": [
       "'H I'"
      ]
     },
     "execution_count": 16,
     "metadata": {},
     "output_type": "execute_result"
    }
   ],
   "source": [
    "line_Ha.spectrum"
   ]
  },
  {
   "cell_type": "code",
   "execution_count": 17,
   "id": "93a29546-49cf-44ed-a8e8-40e6af889146",
   "metadata": {},
   "outputs": [
    {
     "data": {
      "text/plain": [
       "('H alpha', 'Ha')"
      ]
     },
     "execution_count": 17,
     "metadata": {},
     "output_type": "execute_result"
    }
   ],
   "source": [
    "line_Ha.name, line_Ha.label"
   ]
  },
  {
   "cell_type": "markdown",
   "id": "31f8162a-b023-481f-8259-616e973484d9",
   "metadata": {},
   "source": [
    "- Line of atomic lines"
   ]
  },
  {
   "cell_type": "code",
   "execution_count": 18,
   "id": "3c3bb7f2-0249-43f3-89da-c5ea5873970b",
   "metadata": {},
   "outputs": [],
   "source": [
    "Atomiclines.lambda_min = 656.28\n",
    "Atomiclines.lambda_max = 656.3\n",
    "Atomiclines.spectrum = 'H I'"
   ]
  },
  {
   "cell_type": "code",
   "execution_count": 19,
   "id": "759545d7-d9cc-4aec-a891-5c8d30a5678a",
   "metadata": {},
   "outputs": [
    {
     "data": {
      "text/html": [
       "<div><i>Table length=1</i>\n",
       "<table id=\"table2561027955488\" class=\"table-striped table-bordered table-condensed\">\n",
       "<thead><tr><th>Wavelength</th><th>Rel</th><th>Aki</th><th>Acc</th><th>Ei - Ek</th><th>L Conf</th><th>L Term</th><th>L J</th><th>U Conf</th><th>U Term</th><th>U J</th><th>gi - gk</th><th>Type</th><th>TP</th><th>Line</th><th>Spectrum</th></tr></thead>\n",
       "<thead><tr><th>float64</th><th>str16</th><th>str32</th><th>str3</th><th>str37</th><th>str21</th><th>str7</th><th>str11</th><th>str21</th><th>str8</th><th>str11</th><th>str8</th><th>str11</th><th>str17</th><th>str13</th><th>str11</th></tr></thead>\n",
       "<tr><td>656.285175</td><td>--</td><td>64651000.0</td><td>AAA</td><td>82259.2850014     -    97492.355566</td><td>2p</td><td>2P*</td><td>3/2</td><td>3d</td><td>2D</td><td>5/2</td><td>4 - 6</td><td>--</td><td>T7771</td><td>L2752</td><td>H I</td></tr>\n",
       "</table></div>"
      ],
      "text/plain": [
       "<Table length=1>\n",
       "Wavelength  Rel     Aki     Acc  ...  Type   TP   Line Spectrum\n",
       " float64   str16   str32    str3 ... str11 str17 str13  str11  \n",
       "---------- ----- ---------- ---- ... ----- ----- ----- --------\n",
       "656.285175    -- 64651000.0  AAA ...    -- T7771 L2752      H I"
      ]
     },
     "execution_count": 19,
     "metadata": {},
     "output_type": "execute_result"
    }
   ],
   "source": [
    "Atomiclines.request"
   ]
  },
  {
   "cell_type": "code",
   "execution_count": 20,
   "id": "6239a4a6-d342-4610-bed2-70c40edbbe23",
   "metadata": {},
   "outputs": [
    {
     "data": {
      "text/plain": [
       "{'name': '', 'label': '', 'wavelength': '656.285175', 'spectrum': 'H I'}"
      ]
     },
     "execution_count": 20,
     "metadata": {},
     "output_type": "execute_result"
    }
   ],
   "source": [
    "Atomiclines.get('','')"
   ]
  },
  {
   "cell_type": "code",
   "execution_count": 21,
   "id": "a8c145de-4e18-4316-aaa1-3730ab56fef1",
   "metadata": {},
   "outputs": [
    {
     "data": {
      "text/plain": [
       "'H I'"
      ]
     },
     "execution_count": 21,
     "metadata": {},
     "output_type": "execute_result"
    }
   ],
   "source": [
    "Atomiclines.get('','')['spectrum']"
   ]
  },
  {
   "cell_type": "markdown",
   "id": "80f6275f-f373-4e79-8b69-a013da78de44",
   "metadata": {},
   "source": [
    "- Create lines with atomic lines"
   ]
  },
  {
   "cell_type": "code",
   "execution_count": 22,
   "id": "b593fa2c-a941-4108-bcfc-7cc77cd1c75f",
   "metadata": {},
   "outputs": [],
   "source": [
    "Ha = line.lines(Atomiclines.get('H alpha','Ha'))"
   ]
  },
  {
   "cell_type": "code",
   "execution_count": 23,
   "id": "c781a0ef-3a80-448d-8f60-8cd367884c84",
   "metadata": {},
   "outputs": [
    {
     "data": {
      "text/plain": [
       "'Ha'"
      ]
     },
     "execution_count": 23,
     "metadata": {},
     "output_type": "execute_result"
    }
   ],
   "source": [
    "Ha.label"
   ]
  },
  {
   "cell_type": "code",
   "execution_count": 24,
   "id": "26891152-cf84-4e5e-94ba-818d0a223fca",
   "metadata": {},
   "outputs": [
    {
     "data": {
      "text/plain": [
       "656.285175"
      ]
     },
     "execution_count": 24,
     "metadata": {},
     "output_type": "execute_result"
    }
   ],
   "source": [
    "Ha.wavelength"
   ]
  },
  {
   "cell_type": "code",
   "execution_count": 25,
   "id": "2810f7c6-0d7e-4bdf-ab6d-9784d738a9f7",
   "metadata": {},
   "outputs": [
    {
     "data": {
      "text/plain": [
       "{'name': 'H alpha', 'label': 'Ha', 'wavelength': 656.285175, 'spectrum': 'H I'}"
      ]
     },
     "execution_count": 25,
     "metadata": {},
     "output_type": "execute_result"
    }
   ],
   "source": [
    "Ha.get"
   ]
  },
  {
   "cell_type": "code",
   "execution_count": 26,
   "id": "bd924a55-c743-4bdc-b584-d001ea957ed4",
   "metadata": {},
   "outputs": [
    {
     "data": {
      "text/plain": [
       "'H alpha'"
      ]
     },
     "execution_count": 26,
     "metadata": {},
     "output_type": "execute_result"
    }
   ],
   "source": [
    "Ha.get['name']"
   ]
  },
  {
   "cell_type": "code",
   "execution_count": 27,
   "id": "6d435302-2a78-49d8-bf8c-9f4e099f50ff",
   "metadata": {},
   "outputs": [
    {
     "data": {
      "text/plain": [
       "{'label': 'Ha 656.285175 - H I'}"
      ]
     },
     "execution_count": 27,
     "metadata": {},
     "output_type": "execute_result"
    }
   ],
   "source": [
    "Ha.labels"
   ]
  },
  {
   "cell_type": "code",
   "execution_count": 28,
   "id": "fb3171e5-d3f4-4eb0-ae05-a82a3f5ed4a0",
   "metadata": {},
   "outputs": [
    {
     "data": {
      "text/plain": [
       "152"
      ]
     },
     "execution_count": 28,
     "metadata": {},
     "output_type": "execute_result"
    }
   ],
   "source": [
    "len(Ha.labels['label'])*8"
   ]
  },
  {
   "cell_type": "code",
   "execution_count": 29,
   "id": "f2bb4cb2-dcf3-4b1f-a605-9a99aed0a54e",
   "metadata": {},
   "outputs": [
    {
     "data": {
      "text/plain": [
       "{'name': 'H alpha', 'label': 'Ha', 'wavelength': 6562.85175, 'spectrum': 'H I'}"
      ]
     },
     "execution_count": 29,
     "metadata": {},
     "output_type": "execute_result"
    }
   ],
   "source": [
    "Ha.Angstrom\n",
    "Ha.get"
   ]
  },
  {
   "cell_type": "markdown",
   "id": "b8e50f6e-019a-4eb2-ba9b-a97052e3c76d",
   "metadata": {},
   "source": [
    "- With Filters"
   ]
  },
  {
   "cell_type": "code",
   "execution_count": 30,
   "id": "69f11994-486c-45dc-a51f-d47fb38aa0a7",
   "metadata": {},
   "outputs": [],
   "source": [
    "from matplotlib import pyplot as plt\n",
    "from ciboulette.filtering import filters"
   ]
  },
  {
   "cell_type": "code",
   "execution_count": 31,
   "id": "e1556d2a-2fd6-4945-a8a0-9208f6d3613b",
   "metadata": {},
   "outputs": [],
   "source": [
    "filter_Ha = filters.Filters(filters.HA35nm)"
   ]
  },
  {
   "cell_type": "code",
   "execution_count": 32,
   "id": "ccdb9f7f-4e87-4b88-a134-5acf332a2c43",
   "metadata": {},
   "outputs": [
    {
     "data": {
      "image/png": "[encoded data removed]",
      "text/plain": [
       "<Figure size 300x500 with 1 Axes>"
      ]
     },
     "metadata": {},
     "output_type": "display_data"
    }
   ],
   "source": [
    "figure = plt.figure(figsize=(3,5))\n",
    "axis = figure.subplots(1, 1)\n",
    "filter_Ha.axis = Ha.axis = axis\n",
    "filter_Ha.plot()\n",
    "Ha.pin(flux=0.93, size=8)\n",
    "Ha.marker(flux=1, max_flux=2, font_size=6)\n"
   ]
  },
  {
   "cell_type": "code",
   "execution_count": null,
   "id": "169e341a-4fe7-4261-b58a-08238296741e",
   "metadata": {},
   "outputs": [],
   "source": []
  }
 ],
 "metadata": {
  "kernelspec": {
   "display_name": "Python 3 (ipykernel)",
   "language": "python",
   "name": "python3"
  },
  "language_info": {
   "codemirror_mode": {
    "name": "ipython",
    "version": 3
   },
   "file_extension": ".py",
   "mimetype": "text/x-python",
   "name": "python",
   "nbconvert_exporter": "python",
   "pygments_lexer": "ipython3",
   "version": "3.12.0"
  }
 },
 "nbformat": 4,
 "nbformat_minor": 5
}
