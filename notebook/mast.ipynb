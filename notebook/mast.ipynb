{
 "cells": [
  {
   "cell_type": "code",
   "execution_count": 1,
   "id": "61d4d4ca-3799-4ae1-a34c-dafb2a1a206d",
   "metadata": {},
   "outputs": [],
   "source": [
    "from ciboulette.utils import mast"
   ]
  },
  {
   "cell_type": "code",
   "execution_count": 2,
   "id": "9a81bb4a-a9c1-4d15-886b-bd671b1186e0",
   "metadata": {},
   "outputs": [],
   "source": [
    "data = mast.Mast()"
   ]
  },
  {
   "cell_type": "code",
   "execution_count": 3,
   "id": "0c7fcdcd-0e60-4cc6-a885-5ff8268d5145",
   "metadata": {},
   "outputs": [
    {
     "data": {
      "text/plain": [
       "True"
      ]
     },
     "execution_count": 3,
     "metadata": {},
     "output_type": "execute_result"
    }
   ],
   "source": [
    "data.read('UT1_MAST_CATALOG.csv')"
   ]
  },
  {
   "cell_type": "code",
   "execution_count": 5,
   "id": "1e456d64-918d-4243-97a6-d8bc7789eb43",
   "metadata": {},
   "outputs": [
    {
     "name": "stdout",
     "output_type": "stream",
     "text": [
      "Create: observations file index 1017\n",
      "1018 247-20250110-2025-11x180s-f85.fits\n",
      "+ 85.05833333333332 64.69 Asteroid\n",
      ".\n",
      "1019 36-20250110-2046-30x60s-f85.fits\n",
      "+ 102.25208333333332 54.52333333333333 Asteroid\n",
      ".\n",
      "1020 hd36570-20250110-2025-11x180s-f85.fits\n",
      "+ 84.31277833333334 64.15468805555557 HighPM*\n",
      ".\n",
      "1021 hd48766-20250110-2046-30x60s-f85.fits\n",
      "+ 102.05342416666667 55.704483888888895 HighPM*\n",
      ".\n",
      "1022 ngc1528-20250103-2104-8x180s-f85.fits\n",
      "+ 63.87791666666667 51.21805555555556 OpenCluster\n",
      ".\n",
      "1023 ngc2246-20250103-2157-20x180s-f85.fits\n",
      "+ 97.66475 4.985305555555556 GalNeb\n",
      ".\n",
      "1024 ngc2281-20250110-2249-10x180s-f85.fits\n",
      "+ 102.09083333333332 41.059999999999995 OpenCluster\n",
      ".\n"
     ]
    }
   ],
   "source": [
    "data.get_number('UT1_MAST_CATALOG.csv')\n",
    "data.create('D:\\\\observatoire\\\\archive')"
   ]
  },
  {
   "cell_type": "code",
   "execution_count": 1,
   "id": "84d463b6-b5a0-40fa-8f6b-4fec49cb6322",
   "metadata": {},
   "outputs": [],
   "source": [
    "from ciboulette.sql import compoments, selection, insertion, interface, mastUT, observinglog, observingconditions"
   ]
  },
  {
   "cell_type": "code",
   "execution_count": null,
   "id": "f7233e6f-bac9-4868-98fd-fb0549dbec7c",
   "metadata": {},
   "outputs": [
    {
     "name": "stdout",
     "output_type": "stream",
     "text": [
      "science,OT_Library_UT1,UT1,IR-CUT,,247,Asteroid,1018,85.05833333333332,64.69,dtouzan@gmail.com,light,1,2025-01-10T20:25:00,60685.850694444445,60685.873611111114,1980,None,0.085,fits,247-20250110-2025-11x180s-f85.fits\n",
      "science,OT_Library_UT1,UT1,IR-CUT,,36,Asteroid,1019,102.25208333333332,54.52333333333333,dtouzan@gmail.com,light,1,2025-01-10T20:46:00,60685.865277777775,60685.88611111111,1800,None,0.085,fits,36-20250110-2046-30x60s-f85.fits\n",
      "science,OT_Library_UT1,UT1,IR-CUT,,hd36570,HighPM*,1020,84.31277833333334,64.15468805555557,dtouzan@gmail.com,light,1,2025-01-10T20:25:00,60685.850694444445,60685.873611111114,1980,None,0.085,fits,hd36570-20250110-2025-11x180s-f85.fits\n",
      "science,OT_Library_UT1,UT1,IR-CUT,,hd48766,HighPM*,1021,102.05342416666667,55.704483888888895,dtouzan@gmail.com,light,1,2025-01-10T20:46:00,60685.865277777775,60685.88611111111,1800,None,0.085,fits,hd48766-20250110-2046-30x60s-f85.fits\n",
      "science,OT_Library_UT1,UT1,IR-CUT,,ngc1528,OpenCluster,1022,63.87791666666667,51.21805555555556,dtouzan@gmail.com,light,1,2025-01-03T21:04:00,60678.87777777778,60678.89444444445,1440,None,0.085,fits,ngc1528-20250103-2104-8x180s-f85.fits\n",
      "science,OT_Library_UT1,UT1,IR-CUT,,ngc2246,GalNeb,1023,97.66475,4.985305555555556,dtouzan@gmail.com,light,1,2025-01-03T21:57:00,60678.91458333333,60678.956249999996,3600,None,0.085,fits,ngc2246-20250103-2157-20x180s-f85.fits\n",
      "science,OT_Library_UT1,UT1,IR-CUT,,ngc2281,OpenCluster,1024,102.09083333333332,41.059999999999995,dtouzan@gmail.com,light,1,2025-01-10T22:49:00,60685.950694444444,60685.97152777778,1800,None,0.085,fits,ngc2281-20250110-2249-10x180s-f85.fits\n"
     ]
    }
   ],
   "source": [
    "data_interface = interface.interfaces()\n",
    "data_interface.mast_in('UT1 science program 2025')"
   ]
  },
  {
   "cell_type": "code",
   "execution_count": 16,
   "id": "50f5994d-04bf-46ac-b8af-ab7707ac7cd0",
   "metadata": {
    "scrolled": true
   },
   "outputs": [],
   "source": [
    "ut = mastUT.mast_UT1()\n",
    "id = 1100\n",
    "# Instrument Type \n",
    "ut.default(id)\n",
    "# ID, Title observation, Collection, target notes\n",
    "ut.mast_update(id, 'NGC 2246 nebula in Mon', 'OT_Library_NEBULA', 'Monoceros region')\n",
    "\n",
    "obs_log = observinglog.log()\n",
    "obs_log.default(id)\n",
    "\n",
    "obs_conditons = observingconditions.conditions()\n",
    "obs_conditons.medium(id)"
   ]
  },
  {
   "cell_type": "code",
   "execution_count": 1,
   "id": "100a4522-d38e-4856-987b-b9fe1678e41b",
   "metadata": {},
   "outputs": [],
   "source": [
    "import os\n",
    "import py7zr"
   ]
  },
  {
   "cell_type": "code",
   "execution_count": 2,
   "id": "35ed086d-2fdb-42a5-ad22-b66e458f5e91",
   "metadata": {
    "collapsed": true,
    "jupyter": {
     "outputs_hidden": true
    }
   },
   "outputs": [
    {
     "name": "stdout",
     "output_type": "stream",
     "text": [
      "1036-20241019-1845-35x60s-f85.fits.7z\n",
      "1036-20241022-1825-32x60s-f85.fits.7z\n",
      "4954-20241019-1929-32x60s-f85.fits.7z\n",
      "4954-20241024-1842-19x180s-f85.fits.7z\n",
      "hd215665-20241019-1845-35x60s-f85.fits.7z\n",
      "hd217385-20241022-1825-32x60s-f85.fits.7z\n",
      "hd2772-20241023-2044-10x180s-f85.fits.7z\n",
      "m33-20241022-2036-26x180s-f85.fits.7z\n",
      "ngc7137-20241022-1941-11x180s-f85.fits.7z\n",
      "ngc7137-20241023-1843-25x180s-f85.fits.7z\n",
      "ngc7137-20241024-1842-19x180s-f85.fits.7z\n"
     ]
    }
   ],
   "source": [
    "os.chdir(\"D:/observatoire/archive\")\n",
    "files = os.listdir()\n",
    "for file in files:\n",
    "    print(file+'.7z')\n",
    "    with py7zr.SevenZipFile(file+'.7z', 'w') as archive:\n",
    "        archive.write(file)"
   ]
  },
  {
   "cell_type": "code",
   "execution_count": 2,
   "id": "0cf7529e-cad5-4874-a142-0f3eb4b16da9",
   "metadata": {},
   "outputs": [],
   "source": [
    "obs_conditons = observingconditions.conditions()\n",
    "obs_conditons.medium(1000)"
   ]
  },
  {
   "cell_type": "code",
   "execution_count": null,
   "id": "c2a613ef-3323-4fc5-a92d-1d9eedb31c34",
   "metadata": {},
   "outputs": [],
   "source": []
  }
 ],
 "metadata": {
  "kernelspec": {
   "display_name": "Python 3 (ipykernel)",
   "language": "python",
   "name": "python3"
  },
  "language_info": {
   "codemirror_mode": {
    "name": "ipython",
    "version": 3
   },
   "file_extension": ".py",
   "mimetype": "text/x-python",
   "name": "python",
   "nbconvert_exporter": "python",
   "pygments_lexer": "ipython3",
   "version": "3.13.1"
  }
 },
 "nbformat": 4,
 "nbformat_minor": 5
}
