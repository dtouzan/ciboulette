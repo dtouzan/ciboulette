{
 "cells": [
  {
   "cell_type": "code",
   "execution_count": 1,
   "id": "61d4d4ca-3799-4ae1-a34c-dafb2a1a206d",
   "metadata": {},
   "outputs": [],
   "source": [
    "from ciboulette.mastdb import mast"
   ]
  },
  {
   "cell_type": "code",
   "execution_count": 2,
   "id": "9a81bb4a-a9c1-4d15-886b-bd671b1186e0",
   "metadata": {},
   "outputs": [],
   "source": [
    "data = mast.Mast()"
   ]
  },
  {
   "cell_type": "code",
   "execution_count": 3,
   "id": "0c7fcdcd-0e60-4cc6-a885-5ff8268d5145",
   "metadata": {},
   "outputs": [
    {
     "data": {
      "text/plain": [
       "True"
      ]
     },
     "execution_count": 3,
     "metadata": {},
     "output_type": "execute_result"
    }
   ],
   "source": [
    "data.read('UT1_MAST_CATALOG.csv')"
   ]
  },
  {
   "cell_type": "code",
   "execution_count": 4,
   "id": "1e456d64-918d-4243-97a6-d8bc7789eb43",
   "metadata": {},
   "outputs": [
    {
     "name": "stdout",
     "output_type": "stream",
     "text": [
      "Create: observations file index 1135\n",
      "1136 2104-20250824-2204-15x60s-f200.fits\n",
      "          Date                  RA        ... Uncertainty 3sig Unc. P.A.\n",
      "                               deg        ...      arcsec         deg   \n",
      "----------------------- ----------------- ... ---------------- ---------\n",
      "2025-08-24 22:04:00.000 328.4858333333333 ...               --        --\n",
      "+ 328.4858333333333 14.203055555555554 Asteroid\n",
      ".\n",
      "1137 631-20250824-2136-15x60s-f200.fits\n",
      "          Date                  RA        ... Uncertainty 3sig Unc. P.A.\n",
      "                               deg        ...      arcsec         deg   \n",
      "----------------------- ----------------- ... ---------------- ---------\n",
      "2025-08-24 21:36:00.000 333.3579166666666 ...               --        --\n",
      "+ 333.3579166666666 16.56972222222222 Asteroid\n",
      ".\n",
      "1138 ic5146-20250824-2027-22x180s-f200.fits\n",
      "main_id         ra          dec   ...     coo_bibcode     otype matched_id\n",
      "               deg          deg   ...                                     \n",
      "------- ------------------ ------ ... ------------------- ----- ----------\n",
      "IC 5146 328.37199999999996 47.246 ... 2021A&A...647A..19T   OpC    IC 5146\n",
      "+ 328.37199999999996 47.246 OpC\n",
      ".\n",
      "1139 ngc6871-20250825-2025-41x60s-f200.fits\n",
      " main_id     ra      dec   coo_err_maj ...     coo_bibcode     otype matched_id\n",
      "            deg      deg       mas     ...                                     \n",
      "--------- -------- ------- ----------- ... ------------------- ----- ----------\n",
      "NGC  6871 301.5329 35.7791          -- ... 2023A&A...674A..37G   OpC  NGC  6871\n",
      "+ 301.5329 35.7791 OpC\n",
      ".\n",
      "1140 ngc7209-20250823-2022-21x60s-f200.fits\n",
      " main_id     ra           dec        ...     coo_bibcode     otype matched_id\n",
      "            deg           deg        ...                                     \n",
      "--------- -------- ----------------- ... ------------------- ----- ----------\n",
      "NGC  7209 331.2111 46.50299999999999 ... 2023A&A...674A..37G   OpC  NGC  7209\n",
      "+ 331.2111 46.50299999999999 OpC\n",
      ".\n",
      "1141 105-20250823-2223-30x60s-f200.fits\n",
      "          Date                  RA        ... Uncertainty 3sig Unc. P.A.\n",
      "                               deg        ...      arcsec         deg   \n",
      "----------------------- ----------------- ... ---------------- ---------\n",
      "2025-08-23 22:23:00.000 335.6120833333333 ...               --        --\n",
      "+ 335.6120833333333 11.592222222222222 Asteroid\n",
      ".\n",
      "1142 683-20250824-2136-15x60s-f200.fits\n",
      "          Date                  RA         Dec  ... Uncertainty 3sig Unc. P.A.\n",
      "                               deg         deg  ...      arcsec         deg   \n",
      "----------------------- ----------------- ----- ... ---------------- ---------\n",
      "2025-08-24 21:36:00.000 332.5566666666666 16.42 ...               --        --\n",
      "+ 332.5566666666666 16.42 Asteroid\n",
      ".\n",
      "1143 v1490Cyg-20250822-2033-18x180s-f200.fits\n",
      "  main_id           ra            dec       ... otype  matched_id \n",
      "                   deg            deg       ...                   \n",
      "------------ --------------- -------------- ... ----- ------------\n",
      "V* V1490 Cyg 312.72326237825 44.35024055643 ...   TT* V* V1490 Cyg\n",
      "+ 312.72326237825 44.35024055643 TT*\n",
      ".\n",
      "1144 1306-20250823-2223-30x60s-f200.fits\n",
      "          Date                  RA        ... Uncertainty 3sig Unc. P.A.\n",
      "                               deg        ...      arcsec         deg   \n",
      "----------------------- ----------------- ... ---------------- ---------\n",
      "2025-08-23 22:23:00.000 336.5233333333333 ...               --        --\n",
      "+ 336.5233333333333 11.798333333333334 Asteroid\n",
      ".\n"
     ]
    }
   ],
   "source": [
    "data.get_number('UT1_MAST_CATALOG.csv')\n",
    "data.create('../observatoire/archive')"
   ]
  },
  {
   "cell_type": "code",
   "execution_count": 1,
   "id": "84d463b6-b5a0-40fa-8f6b-4fec49cb6322",
   "metadata": {},
   "outputs": [],
   "source": [
    "from ciboulette.sql import compoments, selection, insertion, interface, mastUT, observinglog, observingconditions"
   ]
  },
  {
   "cell_type": "code",
   "execution_count": 2,
   "id": "f7233e6f-bac9-4868-98fd-fb0549dbec7c",
   "metadata": {},
   "outputs": [
    {
     "name": "stdout",
     "output_type": "stream",
     "text": [
      "science,OT_Library_UT1,UT1,IR-CUT,,2104,Asteroid,1136,328.4858333333333,14.203055555555554,dtouzan@gmail.com,light,1,2025-08-24T22:04:00,60911.919444444444,60911.92986111111,900,None,0.2,fits,2104-20250824-2204-15x60s-f200.fits\n",
      "science,OT_Library_UT1,UT1,IR-CUT,,631,Asteroid,1137,333.3579166666666,16.56972222222222,dtouzan@gmail.com,light,1,2025-08-24T21:36:00,60911.9,60911.910416666666,900,None,0.2,fits,631-20250824-2136-15x60s-f200.fits\n",
      "science,OT_Library_UT1,UT1,IR-CUT,,ic5146,OpC,1138,328.37199999999996,47.246,dtouzan@gmail.com,light,1,2025-08-24T20:27:00,60911.85208333333,60911.89791666666,3960,None,0.2,fits,ic5146-20250824-2027-22x180s-f200.fits\n",
      "science,OT_Library_UT1,UT1,IR-CUT,,ngc6871,OpC,1139,301.5329,35.7791,dtouzan@gmail.com,light,1,2025-08-25T20:25:00,60912.850694444445,60912.879166666666,2460,None,0.2,fits,ngc6871-20250825-2025-41x60s-f200.fits\n",
      "science,OT_Library_UT1,UT1,IR-CUT,,ngc7209,OpC,1140,331.2111,46.50299999999999,dtouzan@gmail.com,light,1,2025-08-23T20:22:00,60910.84861111111,60910.86319444444,1260,None,0.2,fits,ngc7209-20250823-2022-21x60s-f200.fits\n",
      "science,OT_Library_UT1,UT1,IR-CUT,,105,Asteroid,1141,335.6120833333333,11.592222222222222,dtouzan@gmail.com,light,1,2025-08-23T22:23:00,60910.93263888889,60910.95347222222,1800,None,0.2,fits,105-20250823-2223-30x60s-f200.fits\n",
      "science,OT_Library_UT1,UT1,IR-CUT,,683,Asteroid,1142,332.5566666666666,16.42,dtouzan@gmail.com,light,1,2025-08-24T21:36:00,60911.9,60911.910416666666,900,None,0.2,fits,683-20250824-2136-15x60s-f200.fits\n",
      "science,OT_Library_UT1,UT1,IR-CUT,,v1490Cyg,TT*,1143,312.72326237825,44.35024055643,dtouzan@gmail.com,light,1,2025-08-22T20:33:00,60909.85625,60909.893749999996,3240,None,0.2,fits,v1490Cyg-20250822-2033-18x180s-f200.fits\n",
      "science,OT_Library_UT1,UT1,IR-CUT,,1306,Asteroid,1144,336.5233333333333,11.798333333333334,dtouzan@gmail.com,light,1,2025-08-23T22:23:00,60910.93263888889,60910.95347222222,1800,None,0.2,fits,1306-20250823-2223-30x60s-f200.fits\n"
     ]
    }
   ],
   "source": [
    "data_interface = interface.interfaces()\n",
    "data_interface.mast_in('UT1 science program 2025')"
   ]
  },
  {
   "cell_type": "code",
   "execution_count": 11,
   "id": "50f5994d-04bf-46ac-b8af-ab7707ac7cd0",
   "metadata": {
    "scrolled": true
   },
   "outputs": [
    {
     "name": "stdout",
     "output_type": "stream",
     "text": [
      "('UT1', '1.0.0')\n"
     ]
    }
   ],
   "source": [
    "ut = mastUT.mast_UT1()\n",
    "ut.connect\n",
    "print(ut.database)\n",
    "ut.close\n",
    "id = 1143\n",
    "# Instrument Type \n",
    "ut.default(id)\n",
    "# ID, Title observation, Collection, target notes\n",
    "ut.mast_update(id, 'V 1490 and V 1532 stars in Cyg', 'OT_Library_VARIABLE', 'Variable tracking')\n",
    "\n",
    "obs_log = observinglog.log()\n",
    "obs_log.default(id)\n",
    "\n",
    "obs_conditons = observingconditions.conditions()\n",
    "obs_conditons.medium(id)"
   ]
  },
  {
   "cell_type": "code",
   "execution_count": 12,
   "id": "100a4522-d38e-4856-987b-b9fe1678e41b",
   "metadata": {},
   "outputs": [],
   "source": [
    "import os\n",
    "import py7zr"
   ]
  },
  {
   "cell_type": "code",
   "execution_count": 13,
   "id": "35ed086d-2fdb-42a5-ad22-b66e458f5e91",
   "metadata": {},
   "outputs": [
    {
     "name": "stdout",
     "output_type": "stream",
     "text": [
      "2104-20250824-2204-15x60s-f200.fits.7z\n",
      "631-20250824-2136-15x60s-f200.fits.7z\n",
      ".DS_Store.7z\n",
      "ic5146-20250824-2027-22x180s-f200.fits.7z\n",
      "ngc6871-20250825-2025-41x60s-f200.fits.7z\n",
      "ngc7209-20250823-2022-21x60s-f200.fits.7z\n",
      ".DS_Store.7z.7z\n",
      "105-20250823-2223-30x60s-f200.fits.7z\n",
      ".DS_Store.7z.7z.7z\n",
      "683-20250824-2136-15x60s-f200.fits.7z\n",
      "v1490Cyg-20250822-2033-18x180s-f200.fits.7z\n",
      "1306-20250823-2223-30x60s-f200.fits.7z\n"
     ]
    }
   ],
   "source": [
    "os.chdir(\"../observatoire/archive\")\n",
    "files = os.listdir()\n",
    "for file in files:\n",
    "    print(file+'.7z')\n",
    "    with py7zr.SevenZipFile(file+'.7z', 'w') as archive:\n",
    "        archive.write(file)"
   ]
  },
  {
   "cell_type": "code",
   "execution_count": null,
   "id": "67faaa98-e758-46f6-9fec-3836caa0ce2e",
   "metadata": {},
   "outputs": [],
   "source": []
  }
 ],
 "metadata": {
  "kernelspec": {
   "display_name": "Python 3 (ipykernel)",
   "language": "python",
   "name": "python3"
  },
  "language_info": {
   "codemirror_mode": {
    "name": "ipython",
    "version": 3
   },
   "file_extension": ".py",
   "mimetype": "text/x-python",
   "name": "python",
   "nbconvert_exporter": "python",
   "pygments_lexer": "ipython3",
   "version": "3.13.5"
  }
 },
 "nbformat": 4,
 "nbformat_minor": 5
}
