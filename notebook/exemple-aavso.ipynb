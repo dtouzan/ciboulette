{
 "cells": [
  {
   "cell_type": "markdown",
   "id": "32618f40",
   "metadata": {},
   "source": [
    "## Exemple WebObs curve, data download curve and VSX data\n",
    "\n",
    "- Import webobs, datadownload and vsx class"
   ]
  },
  {
   "cell_type": "code",
   "execution_count": 1,
   "id": "57a375a3",
   "metadata": {},
   "outputs": [],
   "source": [
    "from ciboulette.aavso import webobs, datadownload, vsx"
   ]
  },
  {
   "cell_type": "code",
   "execution_count": 2,
   "id": "c0b393f9-547c-4ad6-b893-ba75c441490f",
   "metadata": {},
   "outputs": [
    {
     "name": "stdout",
     "output_type": "stream",
     "text": [
      "The International Variable Star Index. Available: https://www.aavso.org/vsx/index.php?view=about.top\n",
      "VSX - usage and policies. Available : https://www.aavso.org/vsx/index.php?view=about.top\n",
      "AAVSO Data Usage Guidelines. Available: https://www.aavso.org/data-usage-guidelines.\n",
      "We acknowledge with thanks the variable star observations from the AAVSO International Database contributed by observers worldwide and used in this research.\n",
      "\n"
     ]
    }
   ],
   "source": [
    "print(vsx.__citation__)"
   ]
  },
  {
   "cell_type": "markdown",
   "id": "fa632bb8-d440-4081-abc6-8f074a850035",
   "metadata": {},
   "source": [
    "## VSX\n",
    "- Create VSX class"
   ]
  },
  {
   "cell_type": "code",
   "execution_count": 3,
   "id": "9c729118-f69d-4a9d-9ef8-8818d53ba515",
   "metadata": {},
   "outputs": [],
   "source": [
    "v = vsx.vsx('psi per')"
   ]
  },
  {
   "cell_type": "markdown",
   "id": "9fcb157a-6986-49e7-b69d-1f49ad42e1a3",
   "metadata": {},
   "source": [
    "- Display observations. Astropy Table format"
   ]
  },
  {
   "cell_type": "code",
   "execution_count": 4,
   "id": "08ade335-8202-43c7-b2cc-ae2469587544",
   "metadata": {},
   "outputs": [
    {
     "data": {
      "text/html": [
       "<div><i>Table length=1</i>\n",
       "<table id=\"table2435230154320\" class=\"table-striped table-bordered table-condensed\">\n",
       "<thead><tr><th>Name</th><th>AUID</th><th>RA2000</th><th>Declination2000</th><th>ProperMotionRA</th><th>ProperMotionDec</th><th>VariabilityType</th><th>MaxMag</th><th>MinMag</th><th>SpectralType</th><th>Category</th><th>OID</th><th>Constellation</th></tr></thead>\n",
       "<thead><tr><th>str7</th><th>str11</th><th>str8</th><th>str8</th><th>str7</th><th>str8</th><th>str4</th><th>str6</th><th>str6</th><th>str9</th><th>str8</th><th>str5</th><th>str3</th></tr></thead>\n",
       "<tr><td>psi Per</td><td>000-BCW-814</td><td>54.12242</td><td>48.19264</td><td>22.5500</td><td>-27.7800</td><td>GCAS</td><td>4.17 V</td><td>4.36 V</td><td>B5III-Vne</td><td>Variable</td><td>26211</td><td>Per</td></tr>\n",
       "</table></div>"
      ],
      "text/plain": [
       "<Table length=1>\n",
       "  Name      AUID     RA2000  Declination2000 ... Category  OID  Constellation\n",
       "  str7     str11      str8         str8      ...   str8    str5      str3    \n",
       "------- ----------- -------- --------------- ... -------- ----- -------------\n",
       "psi Per 000-BCW-814 54.12242        48.19264 ... Variable 26211           Per"
      ]
     },
     "execution_count": 4,
     "metadata": {},
     "output_type": "execute_result"
    }
   ],
   "source": [
    "v.observations"
   ]
  },
  {
   "cell_type": "markdown",
   "id": "82fc6369-731a-4c87-9319-cd9210836657",
   "metadata": {},
   "source": [
    "- Displays Name, coordinates and hour degree coordinates format"
   ]
  },
  {
   "cell_type": "code",
   "execution_count": 5,
   "id": "4666c98b-96c0-49a6-86ce-70fd135b31c6",
   "metadata": {},
   "outputs": [
    {
     "data": {
      "text/plain": [
       "'psi Per'"
      ]
     },
     "execution_count": 5,
     "metadata": {},
     "output_type": "execute_result"
    }
   ],
   "source": [
    "v.name"
   ]
  },
  {
   "cell_type": "code",
   "execution_count": 6,
   "id": "1bef9eb5-6ab2-46e5-8c29-028cb6a927e1",
   "metadata": {},
   "outputs": [
    {
     "data": {
      "text/plain": [
       "(54.12242, 48.19264)"
      ]
     },
     "execution_count": 6,
     "metadata": {},
     "output_type": "execute_result"
    }
   ],
   "source": [
    "v.coordinates"
   ]
  },
  {
   "cell_type": "code",
   "execution_count": 7,
   "id": "fb94d329-e843-49a8-9deb-77305c482021",
   "metadata": {},
   "outputs": [
    {
     "data": {
      "text/plain": [
       "(3.6081613333333338, 48.19264)"
      ]
     },
     "execution_count": 7,
     "metadata": {},
     "output_type": "execute_result"
    }
   ],
   "source": [
    "ra,dec=v.hourdegree\n",
    "ra,dec"
   ]
  },
  {
   "cell_type": "code",
   "execution_count": 8,
   "id": "b168628d-7c19-43ca-8656-14a6b092580a",
   "metadata": {},
   "outputs": [
    {
     "name": "stdout",
     "output_type": "stream",
     "text": [
      "4.17 4.36\n"
     ]
    }
   ],
   "source": [
    "max, min = v.magnitude\n",
    "print(max, min)"
   ]
  },
  {
   "cell_type": "code",
   "execution_count": 9,
   "id": "9d451295-71a3-4c83-b345-aa5c832aaf44",
   "metadata": {},
   "outputs": [
    {
     "data": {
      "text/plain": [
       "'000-BCW-814'"
      ]
     },
     "execution_count": 9,
     "metadata": {},
     "output_type": "execute_result"
    }
   ],
   "source": [
    "v.AUID"
   ]
  },
  {
   "cell_type": "code",
   "execution_count": 10,
   "id": "16c97475-3b24-461f-a920-fb64af9426a9",
   "metadata": {},
   "outputs": [
    {
     "data": {
      "text/plain": [
       "'26211'"
      ]
     },
     "execution_count": 10,
     "metadata": {},
     "output_type": "execute_result"
    }
   ],
   "source": [
    "v.OID"
   ]
  },
  {
   "cell_type": "code",
   "execution_count": 11,
   "id": "58343a67-ff0d-4c94-a050-7a180d386ab0",
   "metadata": {},
   "outputs": [
    {
     "data": {
      "text/plain": [
       "'Per'"
      ]
     },
     "execution_count": 11,
     "metadata": {},
     "output_type": "execute_result"
    }
   ],
   "source": [
    "v.constellation"
   ]
  },
  {
   "cell_type": "code",
   "execution_count": 12,
   "id": "a6104aed-faa2-4c48-9f41-706c023825c2",
   "metadata": {},
   "outputs": [
    {
     "data": {
      "text/plain": [
       "'Variable'"
      ]
     },
     "execution_count": 12,
     "metadata": {},
     "output_type": "execute_result"
    }
   ],
   "source": [
    "v.category"
   ]
  },
  {
   "cell_type": "code",
   "execution_count": 13,
   "id": "d720e66f-891d-4cba-81b0-9371ab09044d",
   "metadata": {},
   "outputs": [
    {
     "data": {
      "text/plain": [
       "'GCAS'"
      ]
     },
     "execution_count": 13,
     "metadata": {},
     "output_type": "execute_result"
    }
   ],
   "source": [
    "v.variability_type"
   ]
  },
  {
   "cell_type": "code",
   "execution_count": 14,
   "id": "894cf987-9614-4183-b1ed-739800807834",
   "metadata": {},
   "outputs": [
    {
     "data": {
      "text/plain": [
       "['Name',\n",
       " 'AUID',\n",
       " 'RA2000',\n",
       " 'Declination2000',\n",
       " 'ProperMotionRA',\n",
       " 'ProperMotionDec',\n",
       " 'VariabilityType',\n",
       " 'MaxMag',\n",
       " 'MinMag',\n",
       " 'SpectralType',\n",
       " 'Category',\n",
       " 'OID',\n",
       " 'Constellation']"
      ]
     },
     "execution_count": 14,
     "metadata": {},
     "output_type": "execute_result"
    }
   ],
   "source": [
    "v.header_names"
   ]
  },
  {
   "cell_type": "code",
   "execution_count": 15,
   "id": "413c0c30-5dcc-4bde-aab3-0cb3879987ea",
   "metadata": {},
   "outputs": [
    {
     "data": {
      "text/plain": [
       "('B5III-Vne', '22.5500')"
      ]
     },
     "execution_count": 15,
     "metadata": {},
     "output_type": "execute_result"
    }
   ],
   "source": [
    "v.header_value('SpectralType'),v.header_value('ProperMotionRA')"
   ]
  },
  {
   "cell_type": "markdown",
   "id": "9a6e5bff-ad15-4297-9657-bbaa8531f485",
   "metadata": {},
   "source": [
    "- Create dictionary and print value"
   ]
  },
  {
   "cell_type": "code",
   "execution_count": 16,
   "id": "7970a0c9-4c3b-440a-bf49-2a33f87ae149",
   "metadata": {},
   "outputs": [
    {
     "data": {
      "text/plain": [
       "{'Name': 'psi Per',\n",
       " 'AUID': '000-BCW-814',\n",
       " 'RA2000': '54.12242',\n",
       " 'Declination2000': '48.19264',\n",
       " 'ProperMotionRA': '22.5500',\n",
       " 'ProperMotionDec': '-27.7800',\n",
       " 'VariabilityType': 'GCAS',\n",
       " 'MaxMag': '4.17 V',\n",
       " 'MinMag': '4.36 V',\n",
       " 'SpectralType': 'B5III-Vne',\n",
       " 'Category': 'Variable',\n",
       " 'OID': '26211',\n",
       " 'Constellation': 'Per'}"
      ]
     },
     "execution_count": 16,
     "metadata": {},
     "output_type": "execute_result"
    }
   ],
   "source": [
    "i = 0\n",
    "vsx_d = dict()\n",
    "for value in v.header_names:\n",
    "    vsx_d.setdefault(v.header_names[i],v.header_value(value))\n",
    "    i += 1\n",
    "vsx_d"
   ]
  },
  {
   "cell_type": "code",
   "execution_count": 17,
   "id": "35c6f32d-c1ac-435e-8038-9341ee200f47",
   "metadata": {},
   "outputs": [
    {
     "data": {
      "text/plain": [
       "'22.5500'"
      ]
     },
     "execution_count": 17,
     "metadata": {},
     "output_type": "execute_result"
    }
   ],
   "source": [
    "vsx_d['ProperMotionRA']"
   ]
  },
  {
   "cell_type": "markdown",
   "id": "c93ff750-b988-4e1c-a1b0-16720f6ed139",
   "metadata": {},
   "source": [
    "## WebObs\n",
    "- Create and plot WebObs curve with V filter"
   ]
  },
  {
   "cell_type": "code",
   "execution_count": 18,
   "id": "552cd019-d449-4d4e-8538-c9306c5cd538",
   "metadata": {},
   "outputs": [],
   "source": [
    "value = webobs.web_obs(nameID='v1405 cas',filtername='V')"
   ]
  },
  {
   "cell_type": "code",
   "execution_count": 19,
   "id": "0f15265d-b3f5-4240-bdbe-f33b0b476467",
   "metadata": {},
   "outputs": [
    {
     "data": {
      "text/html": [
       "<div><i>Table length=200</i>\n",
       "<table id=\"table2433174167584\" class=\"table-striped table-bordered table-condensed\">\n",
       "<thead><tr><th>Star</th><th>JD</th><th>Calendar Date</th><th>Magnitude</th><th>Error</th><th>Filter</th><th>Observer</th><th>Comp Star</th><th>Check Star</th><th>Transformed</th><th>Chart</th><th>Comment Codes</th><th>Notes</th></tr></thead>\n",
       "<thead><tr><th>str10</th><th>float64</th><th>str18</th><th>float64</th><th>str5</th><th>str2</th><th>str4</th><th>str19</th><th>str19</th><th>str2</th><th>str9</th><th>str1</th><th>str36</th></tr></thead>\n",
       "<tr><td>V1405 Cas</td><td>2460259.392917</td><td>2023 Nov. 10.89292</td><td>12.679</td><td>0.007</td><td>V</td><td>LPEB</td><td>000-BNX-657(12.747)</td><td>000-BNX-656(11.990)</td><td>No</td><td>X26378BUR</td><td>—</td><td>—</td></tr>\n",
       "<tr><td>V1405 Cas</td><td>2460257.327246</td><td>2023 Nov. 08.82725</td><td>12.718</td><td>0.009</td><td>V</td><td>LPEB</td><td>000-BNX-657(12.747)</td><td>000-BNX-656(11.990)</td><td>No</td><td>X26378BUR</td><td>—</td><td>—</td></tr>\n",
       "<tr><td>N CAS 2021</td><td>2460255.25242</td><td>2023 Nov. 06.75242</td><td>12.576</td><td>0.017</td><td>V</td><td>DUBF</td><td>000-BNX-657(18.740)</td><td>000-BNX-656(17.982)</td><td>No</td><td>X29275R</td><td>—</td><td>STANDARD MAG: C = 12.747  K = 11.990</td></tr>\n",
       "<tr><td>N CAS 2021</td><td>2460255.25169</td><td>2023 Nov. 06.75169</td><td>12.566</td><td>0.010</td><td>V</td><td>DUBF</td><td>000-BNX-657(18.715)</td><td>000-BNX-656(17.972)</td><td>No</td><td>X29275R</td><td>—</td><td>STANDARD MAG: C = 12.747  K = 11.990</td></tr>\n",
       "<tr><td>N CAS 2021</td><td>2460254.2618</td><td>2023 Nov. 05.76180</td><td>12.479</td><td>0.009</td><td>V</td><td>DUBF</td><td>000-BNX-657(18.740)</td><td>000-BNX-656(18.000)</td><td>No</td><td>X29275R</td><td>—</td><td>STANDARD MAG: C = 12.747  K = 11.990</td></tr>\n",
       "<tr><td>N CAS 2021</td><td>2460254.26108</td><td>2023 Nov. 05.76108</td><td>12.466</td><td>0.012</td><td>V</td><td>DUBF</td><td>000-BNX-657(19.029)</td><td>000-BNX-656(18.293)</td><td>No</td><td>X29275R</td><td>—</td><td>STANDARD MAG: C = 12.747  K = 11.990</td></tr>\n",
       "<tr><td>V1405 CAS</td><td>2460253.561991</td><td>2023 Nov. 05.06199</td><td>12.503</td><td>0.022</td><td>CV</td><td>BCOD</td><td>000-BNX-656(13.857)</td><td>000-BNX-653(12.927)</td><td>No</td><td>X29320MZ</td><td>—</td><td>—</td></tr>\n",
       "<tr><td>V1405 CAS</td><td>2460253.56125</td><td>2023 Nov. 05.06125</td><td>12.487</td><td>0.021</td><td>CV</td><td>BCOD</td><td>000-BNX-656(13.869)</td><td>000-BNX-653(12.925)</td><td>No</td><td>X29320MZ</td><td>—</td><td>—</td></tr>\n",
       "<tr><td>V1405 CAS</td><td>2460253.560509</td><td>2023 Nov. 05.06051</td><td>12.501</td><td>0.021</td><td>CV</td><td>BCOD</td><td>000-BNX-656(13.841)</td><td>000-BNX-653(12.907)</td><td>No</td><td>X29320MZ</td><td>—</td><td>—</td></tr>\n",
       "<tr><td>V1405 CAS</td><td>2460253.559769</td><td>2023 Nov. 05.05977</td><td>12.491</td><td>0.022</td><td>CV</td><td>BCOD</td><td>000-BNX-656(13.830)</td><td>000-BNX-653(12.892)</td><td>No</td><td>X29320MZ</td><td>—</td><td>—</td></tr>\n",
       "<tr><td>...</td><td>...</td><td>...</td><td>...</td><td>...</td><td>...</td><td>...</td><td>...</td><td>...</td><td>...</td><td>...</td><td>...</td><td>...</td></tr>\n",
       "<tr><td>V1405 CAS</td><td>2460253.421366</td><td>2023 Nov. 04.92137</td><td>12.641</td><td>0.031</td><td>CV</td><td>BCOD</td><td>000-BNX-656(13.758)</td><td>000-BNX-653(12.835)</td><td>No</td><td>X29320MZ</td><td>—</td><td>—</td></tr>\n",
       "<tr><td>V1405 CAS</td><td>2460253.420625</td><td>2023 Nov. 04.92062</td><td>12.618</td><td>0.028</td><td>CV</td><td>BCOD</td><td>000-BNX-656(13.767)</td><td>000-BNX-653(12.829)</td><td>No</td><td>X29320MZ</td><td>—</td><td>—</td></tr>\n",
       "<tr><td>V1405 CAS</td><td>2460253.419884</td><td>2023 Nov. 04.91988</td><td>12.641</td><td>0.032</td><td>CV</td><td>BCOD</td><td>000-BNX-656(13.741)</td><td>000-BNX-653(12.810)</td><td>No</td><td>X29320MZ</td><td>—</td><td>—</td></tr>\n",
       "<tr><td>V1405 CAS</td><td>2460253.419144</td><td>2023 Nov. 04.91914</td><td>12.647</td><td>0.034</td><td>CV</td><td>BCOD</td><td>000-BNX-656(13.756)</td><td>000-BNX-653(12.804)</td><td>No</td><td>X29320MZ</td><td>—</td><td>—</td></tr>\n",
       "<tr><td>V1405 CAS</td><td>2460253.418403</td><td>2023 Nov. 04.91840</td><td>12.641</td><td>0.029</td><td>CV</td><td>BCOD</td><td>000-BNX-656(13.747)</td><td>000-BNX-653(12.809)</td><td>No</td><td>X29320MZ</td><td>—</td><td>—</td></tr>\n",
       "<tr><td>V1405 CAS</td><td>2460253.417662</td><td>2023 Nov. 04.91766</td><td>12.651</td><td>0.030</td><td>CV</td><td>BCOD</td><td>000-BNX-656(13.752)</td><td>000-BNX-653(12.804)</td><td>No</td><td>X29320MZ</td><td>—</td><td>—</td></tr>\n",
       "<tr><td>V1405 CAS</td><td>2460253.416921</td><td>2023 Nov. 04.91692</td><td>12.649</td><td>0.032</td><td>CV</td><td>BCOD</td><td>000-BNX-656(13.727)</td><td>000-BNX-653(12.791)</td><td>No</td><td>X29320MZ</td><td>—</td><td>—</td></tr>\n",
       "<tr><td>V1405 CAS</td><td>2460253.416181</td><td>2023 Nov. 04.91618</td><td>12.645</td><td>0.028</td><td>CV</td><td>BCOD</td><td>000-BNX-656(13.732)</td><td>000-BNX-653(12.788)</td><td>No</td><td>X29320MZ</td><td>—</td><td>—</td></tr>\n",
       "<tr><td>V1405 CAS</td><td>2460253.415</td><td>2023 Nov. 04.91500</td><td>12.612</td><td>0.030</td><td>CV</td><td>BCOD</td><td>000-BNX-656(13.699)</td><td>000-BNX-653(12.775)</td><td>No</td><td>X29320MZ</td><td>—</td><td>—</td></tr>\n",
       "<tr><td>V1405 CAS</td><td>2460253.414259</td><td>2023 Nov. 04.91426</td><td>12.578</td><td>0.030</td><td>CV</td><td>BCOD</td><td>000-BNX-656(13.700)</td><td>000-BNX-653(12.765)</td><td>No</td><td>X29320MZ</td><td>—</td><td>—</td></tr>\n",
       "</table></div>"
      ],
      "text/plain": [
       "<Table length=200>\n",
       "   Star          JD       ... Comment Codes                Notes                \n",
       "  str10       float64     ...      str1                    str36                \n",
       "---------- -------------- ... ------------- ------------------------------------\n",
       " V1405 Cas 2460259.392917 ...             —                                    —\n",
       " V1405 Cas 2460257.327246 ...             —                                    —\n",
       "N CAS 2021  2460255.25242 ...             — STANDARD MAG: C = 12.747  K = 11.990\n",
       "N CAS 2021  2460255.25169 ...             — STANDARD MAG: C = 12.747  K = 11.990\n",
       "N CAS 2021   2460254.2618 ...             — STANDARD MAG: C = 12.747  K = 11.990\n",
       "N CAS 2021  2460254.26108 ...             — STANDARD MAG: C = 12.747  K = 11.990\n",
       " V1405 CAS 2460253.561991 ...             —                                    —\n",
       " V1405 CAS  2460253.56125 ...             —                                    —\n",
       " V1405 CAS 2460253.560509 ...             —                                    —\n",
       " V1405 CAS 2460253.559769 ...             —                                    —\n",
       "       ...            ... ...           ...                                  ...\n",
       " V1405 CAS 2460253.421366 ...             —                                    —\n",
       " V1405 CAS 2460253.420625 ...             —                                    —\n",
       " V1405 CAS 2460253.419884 ...             —                                    —\n",
       " V1405 CAS 2460253.419144 ...             —                                    —\n",
       " V1405 CAS 2460253.418403 ...             —                                    —\n",
       " V1405 CAS 2460253.417662 ...             —                                    —\n",
       " V1405 CAS 2460253.416921 ...             —                                    —\n",
       " V1405 CAS 2460253.416181 ...             —                                    —\n",
       " V1405 CAS    2460253.415 ...             —                                    —\n",
       " V1405 CAS 2460253.414259 ...             —                                    —"
      ]
     },
     "execution_count": 19,
     "metadata": {},
     "output_type": "execute_result"
    }
   ],
   "source": [
    "value.observations"
   ]
  },
  {
   "cell_type": "code",
   "execution_count": 20,
   "id": "e2fb3bc8-42fc-464f-bcdd-eb7c9f3a4b0f",
   "metadata": {},
   "outputs": [
    {
     "data": {
      "text/plain": [
       "'AAVSO -- WebObs Search Results -- v1405 cas'"
      ]
     },
     "execution_count": 20,
     "metadata": {},
     "output_type": "execute_result"
    }
   ],
   "source": [
    "value.titlename"
   ]
  },
  {
   "cell_type": "code",
   "execution_count": 21,
   "id": "3ab70f43-40a0-4c00-baf4-bbcbe6e903f2",
   "metadata": {},
   "outputs": [
    {
     "data": {
      "text/plain": [
       "'Showing 50,353 observations for V1405 Cas from 102 observers'"
      ]
     },
     "execution_count": 21,
     "metadata": {},
     "output_type": "execute_result"
    }
   ],
   "source": [
    "value.comment"
   ]
  },
  {
   "cell_type": "code",
   "execution_count": 22,
   "id": "53eba97d-1cfa-45ec-a90c-b5a4a6d48130",
   "metadata": {},
   "outputs": [
    {
     "data": {
      "text/plain": [
       "((2460253.414259, 2460259.392917), 5.978658000007272)"
      ]
     },
     "execution_count": 22,
     "metadata": {},
     "output_type": "execute_result"
    }
   ],
   "source": [
    "value.JDMinMax, value.period"
   ]
  },
  {
   "cell_type": "code",
   "execution_count": 23,
   "id": "13f8830b-839e-4132-9410-f045bb174531",
   "metadata": {},
   "outputs": [
    {
     "data": {
      "text/plain": [
       "(12.409, 12.718)"
      ]
     },
     "execution_count": 23,
     "metadata": {},
     "output_type": "execute_result"
    }
   ],
   "source": [
    "value.magnitudeMinMax"
   ]
  },
  {
   "cell_type": "code",
   "execution_count": 24,
   "id": "7c1b6b1b-ebeb-44eb-978e-ea032bb1d3c8",
   "metadata": {},
   "outputs": [
    {
     "data": {
      "text/plain": [
       "['Star',\n",
       " 'JD',\n",
       " 'Calendar Date',\n",
       " 'Magnitude',\n",
       " 'Error',\n",
       " 'Filter',\n",
       " 'Observer',\n",
       " 'Comp Star',\n",
       " 'Check Star',\n",
       " 'Transformed',\n",
       " 'Chart',\n",
       " 'Comment Codes',\n",
       " 'Notes']"
      ]
     },
     "execution_count": 24,
     "metadata": {},
     "output_type": "execute_result"
    }
   ],
   "source": [
    "value.header_names"
   ]
  },
  {
   "cell_type": "markdown",
   "id": "65dd5da1",
   "metadata": {},
   "source": [
    "- Plot curve with V filter and displays min and max magnitudes"
   ]
  },
  {
   "cell_type": "code",
   "execution_count": 25,
   "id": "e4a764e1-38fb-49fd-aa0d-23808f7aeb55",
   "metadata": {},
   "outputs": [
    {
     "data": {
      "image/png": "[encoded data removed]",
      "text/plain": [
       "<Figure size 500x300 with 1 Axes>"
      ]
     },
     "metadata": {},
     "output_type": "display_data"
    }
   ],
   "source": [
    "import matplotlib.pyplot as plt\n",
    "plt.figure(figsize=(5,3))\n",
    "value.plot()"
   ]
  },
  {
   "cell_type": "markdown",
   "id": "e7a2ecab",
   "metadata": {},
   "source": [
    "## DATADOWNLOAD\n",
    "\n",
    "- Create curve with data-downlaod page (https://www.aavso.org/data-download) and copy do directory. Update the name and '.txt' to '.csv'. Create the curve"
   ]
  },
  {
   "cell_type": "code",
   "execution_count": 26,
   "id": "7147e847-06d0-4442-a894-596bc2adca71",
   "metadata": {},
   "outputs": [],
   "source": [
    "c = datadownload.load('V')"
   ]
  },
  {
   "cell_type": "code",
   "execution_count": 27,
   "id": "1bf11b37-96d5-42b1-bd0e-ec5e8c1ffad4",
   "metadata": {},
   "outputs": [
    {
     "data": {
      "text/html": [
       "<div><i>Table length=61239</i>\n",
       "<table id=\"table2433174439968\" class=\"table-striped table-bordered table-condensed\">\n",
       "<thead><tr><th>JD</th><th>Magnitude</th><th>Uncertainty</th><th>HQuncertainty</th><th>Band</th><th>Observer Code</th><th>Comment Code(s)</th><th>Comp Star 1</th><th>Comp Star 2</th><th>Charts</th><th>Comments</th><th>Transfomed</th><th>Airmass</th><th>Validation Flag</th><th>Cmag</th><th>Kmag</th><th>HJD</th><th>Star Name</th><th>Observer Affiliation</th><th>Measurement Method</th><th>Grouping Method</th><th>ADS Reference</th><th>Digitizer</th><th>Credit</th></tr></thead>\n",
       "<thead><tr><th>float64</th><th>str7</th><th>float64</th><th>int32</th><th>str4</th><th>str4</th><th>str4</th><th>str20</th><th>str20</th><th>str20</th><th>str258</th><th>int32</th><th>float64</th><th>str1</th><th>str8</th><th>str8</th><th>float64</th><th>str21</th><th>str11</th><th>str3</th><th>str4</th><th>int32</th><th>int32</th><th>str6</th></tr></thead>\n",
       "<tr><td>2459264.341</td><td>10.282</td><td>0.005</td><td>--</td><td>TG</td><td>PYG</td><td>--</td><td>000-BNX-646</td><td>--</td><td>AAVSO X26378BZR</td><td>SLOOH</td><td>0</td><td>--</td><td>Z</td><td>9.002</td><td>--</td><td>--</td><td>V1405 CAS</td><td>BAA-VSS</td><td>STD</td><td>--</td><td>--</td><td>--</td><td>--</td></tr>\n",
       "<tr><td>2459292.29284</td><td>8.822</td><td>0.003</td><td>--</td><td>V</td><td>LMN</td><td>--</td><td>ENSEMBLE</td><td>90</td><td>X26378KM</td><td>C11ATIK383</td><td>0</td><td>1.715</td><td>Z</td><td>--</td><td>8.912</td><td>--</td><td>N CAS 2021</td><td>SAAF</td><td>STD</td><td>0</td><td>--</td><td>--</td><td>--</td></tr>\n",
       "<tr><td>2459292.29303</td><td>8.844</td><td>0.003</td><td>--</td><td>V</td><td>LMN</td><td>--</td><td>ENSEMBLE</td><td>90</td><td>X26378KM</td><td>C11ATIK383</td><td>0</td><td>1.716</td><td>Z</td><td>--</td><td>8.946</td><td>--</td><td>N CAS 2021</td><td>SAAF</td><td>STD</td><td>0</td><td>--</td><td>--</td><td>--</td></tr>\n",
       "<tr><td>2459292.29323</td><td>8.785</td><td>0.003</td><td>--</td><td>V</td><td>LMN</td><td>--</td><td>ENSEMBLE</td><td>90</td><td>X26378KM</td><td>C11ATIK383</td><td>0</td><td>1.717</td><td>Z</td><td>--</td><td>8.902</td><td>--</td><td>N CAS 2021</td><td>SAAF</td><td>STD</td><td>0</td><td>--</td><td>--</td><td>--</td></tr>\n",
       "<tr><td>2459292.29344</td><td>8.789</td><td>0.003</td><td>--</td><td>V</td><td>LMN</td><td>--</td><td>ENSEMBLE</td><td>90</td><td>X26378KM</td><td>C11ATIK383</td><td>0</td><td>1.718</td><td>Z</td><td>--</td><td>8.904</td><td>--</td><td>N CAS 2021</td><td>SAAF</td><td>STD</td><td>0</td><td>--</td><td>--</td><td>--</td></tr>\n",
       "<tr><td>2459292.29363</td><td>8.772</td><td>0.003</td><td>--</td><td>V</td><td>LMN</td><td>--</td><td>ENSEMBLE</td><td>90</td><td>X26378KM</td><td>C11ATIK383</td><td>0</td><td>1.719</td><td>Z</td><td>--</td><td>8.892</td><td>--</td><td>N CAS 2021</td><td>SAAF</td><td>STD</td><td>0</td><td>--</td><td>--</td><td>--</td></tr>\n",
       "<tr><td>2459292.29383</td><td>8.811</td><td>0.003</td><td>--</td><td>V</td><td>LMN</td><td>--</td><td>ENSEMBLE</td><td>90</td><td>X26378KM</td><td>C11ATIK383</td><td>0</td><td>1.72</td><td>Z</td><td>--</td><td>8.912</td><td>--</td><td>N CAS 2021</td><td>SAAF</td><td>STD</td><td>0</td><td>--</td><td>--</td><td>--</td></tr>\n",
       "<tr><td>2459292.29404</td><td>8.799</td><td>0.003</td><td>--</td><td>V</td><td>LMN</td><td>--</td><td>ENSEMBLE</td><td>90</td><td>X26378KM</td><td>C11ATIK383</td><td>0</td><td>1.722</td><td>Z</td><td>--</td><td>8.927</td><td>--</td><td>N CAS 2021</td><td>SAAF</td><td>STD</td><td>0</td><td>--</td><td>--</td><td>--</td></tr>\n",
       "<tr><td>2459292.29424</td><td>8.798</td><td>0.003</td><td>--</td><td>V</td><td>LMN</td><td>--</td><td>ENSEMBLE</td><td>90</td><td>X26378KM</td><td>C11ATIK383</td><td>0</td><td>1.722</td><td>Z</td><td>--</td><td>8.911</td><td>--</td><td>N CAS 2021</td><td>SAAF</td><td>STD</td><td>0</td><td>--</td><td>--</td><td>--</td></tr>\n",
       "<tr><td>2459292.29443</td><td>8.818</td><td>0.003</td><td>--</td><td>V</td><td>LMN</td><td>--</td><td>ENSEMBLE</td><td>90</td><td>X26378KM</td><td>C11ATIK383</td><td>0</td><td>1.724</td><td>Z</td><td>--</td><td>8.939</td><td>--</td><td>N CAS 2021</td><td>SAAF</td><td>STD</td><td>0</td><td>--</td><td>--</td><td>--</td></tr>\n",
       "<tr><td>...</td><td>...</td><td>...</td><td>...</td><td>...</td><td>...</td><td>...</td><td>...</td><td>...</td><td>...</td><td>...</td><td>...</td><td>...</td><td>...</td><td>...</td><td>...</td><td>...</td><td>...</td><td>...</td><td>...</td><td>...</td><td>...</td><td>...</td><td>...</td></tr>\n",
       "<tr><td>2460240.28852</td><td>12.586</td><td>0.01</td><td>--</td><td>V</td><td>DUBF</td><td>--</td><td>000-BNX-657</td><td>000-BNX-656</td><td>X29275R</td><td>STANDARD MAG: C = 12.747  K = 11.990</td><td>0</td><td>2.46</td><td>Z</td><td>18.830</td><td>18.064</td><td>--</td><td>N CAS 2021</td><td>VVS</td><td>STD</td><td>--</td><td>--</td><td>--</td><td>--</td></tr>\n",
       "<tr><td>2460240.3236</td><td>12.773</td><td>0.035</td><td>--</td><td>V</td><td>VOL</td><td>--</td><td>000-BNX-646</td><td>000-BNX-647</td><td>X26379D</td><td>--</td><td>1</td><td>1.03</td><td>Z</td><td>9.002</td><td>9.073</td><td>--</td><td>V1405 CAS</td><td>AAVSO</td><td>STD</td><td>--</td><td>--</td><td>--</td><td>--</td></tr>\n",
       "<tr><td>2460240.3979</td><td>12.5</td><td>--</td><td>--</td><td>Vis.</td><td>MUY</td><td>--</td><td>123</td><td>127</td><td>X26520JS</td><td>--</td><td>--</td><td>--</td><td>Z</td><td>--</td><td>--</td><td>--</td><td>V1405 CAS</td><td>VVS</td><td>STD</td><td>--</td><td>--</td><td>--</td><td>--</td></tr>\n",
       "<tr><td>2460242.25</td><td>12.6</td><td>--</td><td>--</td><td>Vis.</td><td>PYG</td><td>U</td><td>127+1</td><td>--</td><td>AAVSO X27545AEV</td><td>--</td><td>--</td><td>--</td><td>Z</td><td>--</td><td>--</td><td>--</td><td>V1405 CAS</td><td>BAA-VSS</td><td>STD</td><td>--</td><td>--</td><td>--</td><td>--</td></tr>\n",
       "<tr><td>2460242.26803</td><td>12.666</td><td>0.018</td><td>--</td><td>V</td><td>DUBF</td><td>--</td><td>000-BNX-657</td><td>000-BNX-656</td><td>X29275R</td><td>STANDARD MAG: C = 12.747  K = 11.990</td><td>0</td><td>2.65</td><td>Z</td><td>19.313</td><td>18.541</td><td>--</td><td>N CAS 2021</td><td>VVS</td><td>STD</td><td>--</td><td>--</td><td>--</td><td>--</td></tr>\n",
       "<tr><td>2460242.26875</td><td>12.675</td><td>0.02</td><td>--</td><td>V</td><td>DUBF</td><td>--</td><td>000-BNX-657</td><td>000-BNX-656</td><td>X29275R</td><td>STANDARD MAG: C = 12.747  K = 11.990</td><td>0</td><td>2.64</td><td>Z</td><td>19.400</td><td>18.619</td><td>--</td><td>N CAS 2021</td><td>VVS</td><td>STD</td><td>--</td><td>--</td><td>--</td><td>--</td></tr>\n",
       "<tr><td>2460242.27639</td><td>12.65</td><td>--</td><td>--</td><td>CV</td><td>WKL</td><td>--</td><td>--</td><td>--</td><td>X26378AIJ</td><td>--</td><td>0</td><td>--</td><td>Z</td><td>12.7</td><td>--</td><td>--</td><td>V1405 Cas</td><td>BAV</td><td>STD</td><td>--</td><td>--</td><td>--</td><td>--</td></tr>\n",
       "<tr><td>2460242.61389</td><td>12.4</td><td>--</td><td>--</td><td>Vis.</td><td>SAQ</td><td>--</td><td>123</td><td>126</td><td>X34486LL</td><td>--</td><td>--</td><td>--</td><td>Z</td><td>--</td><td>--</td><td>--</td><td>V1405 Cas</td><td>KNVWS</td><td>STD</td><td>--</td><td>--</td><td>--</td><td>--</td></tr>\n",
       "<tr><td>2460243.26954</td><td>12.542</td><td>0.01</td><td>--</td><td>V</td><td>DUBF</td><td>--</td><td>000-BNX-657</td><td>000-BNX-656</td><td>X29275R</td><td>STANDARD MAG: C = 12.747  K = 11.990</td><td>0</td><td>2.59</td><td>Z</td><td>18.714</td><td>17.937</td><td>--</td><td>N CAS 2021</td><td>VVS</td><td>STD</td><td>--</td><td>--</td><td>--</td><td>--</td></tr>\n",
       "<tr><td>2460243.27026</td><td>12.557</td><td>0.01</td><td>--</td><td>V</td><td>DUBF</td><td>--</td><td>000-BNX-657</td><td>000-BNX-656</td><td>X29275R</td><td>STANDARD MAG: C = 12.747  K = 11.990</td><td>0</td><td>2.58</td><td>Z</td><td>18.704</td><td>17.943</td><td>--</td><td>N CAS 2021</td><td>VVS</td><td>STD</td><td>--</td><td>--</td><td>--</td><td>--</td></tr>\n",
       "</table></div>"
      ],
      "text/plain": [
       "<Table length=61239>\n",
       "      JD      Magnitude Uncertainty ... ADS Reference Digitizer Credit\n",
       "   float64       str7     float64   ...     int32       int32    str6 \n",
       "------------- --------- ----------- ... ------------- --------- ------\n",
       "  2459264.341    10.282       0.005 ...            --        --     --\n",
       "2459292.29284     8.822       0.003 ...            --        --     --\n",
       "2459292.29303     8.844       0.003 ...            --        --     --\n",
       "2459292.29323     8.785       0.003 ...            --        --     --\n",
       "2459292.29344     8.789       0.003 ...            --        --     --\n",
       "2459292.29363     8.772       0.003 ...            --        --     --\n",
       "2459292.29383     8.811       0.003 ...            --        --     --\n",
       "2459292.29404     8.799       0.003 ...            --        --     --\n",
       "2459292.29424     8.798       0.003 ...            --        --     --\n",
       "2459292.29443     8.818       0.003 ...            --        --     --\n",
       "          ...       ...         ... ...           ...       ...    ...\n",
       "2460240.28852    12.586        0.01 ...            --        --     --\n",
       " 2460240.3236    12.773       0.035 ...            --        --     --\n",
       " 2460240.3979      12.5          -- ...            --        --     --\n",
       "   2460242.25      12.6          -- ...            --        --     --\n",
       "2460242.26803    12.666       0.018 ...            --        --     --\n",
       "2460242.26875    12.675        0.02 ...            --        --     --\n",
       "2460242.27639     12.65          -- ...            --        --     --\n",
       "2460242.61389      12.4          -- ...            --        --     --\n",
       "2460243.26954    12.542        0.01 ...            --        --     --\n",
       "2460243.27026    12.557        0.01 ...            --        --     --"
      ]
     },
     "execution_count": 27,
     "metadata": {},
     "output_type": "execute_result"
    }
   ],
   "source": [
    "c.observations"
   ]
  },
  {
   "cell_type": "markdown",
   "id": "d7452457",
   "metadata": {},
   "source": [
    "- Several functions for informations"
   ]
  },
  {
   "cell_type": "code",
   "execution_count": 28,
   "id": "b947a588",
   "metadata": {},
   "outputs": [
    {
     "data": {
      "text/plain": [
       "(5.082, 13.113)"
      ]
     },
     "execution_count": 28,
     "metadata": {},
     "output_type": "execute_result"
    }
   ],
   "source": [
    "c.magnitudeMinMax"
   ]
  },
  {
   "cell_type": "code",
   "execution_count": 29,
   "id": "fe1f054c",
   "metadata": {},
   "outputs": [
    {
     "data": {
      "text/plain": [
       "(2459264.341, 2460243.27026)"
      ]
     },
     "execution_count": 29,
     "metadata": {},
     "output_type": "execute_result"
    }
   ],
   "source": [
    "c.JDMinMax"
   ]
  },
  {
   "cell_type": "code",
   "execution_count": 30,
   "id": "86577522",
   "metadata": {},
   "outputs": [
    {
     "data": {
      "text/plain": [
       "978.9292600001208"
      ]
     },
     "execution_count": 30,
     "metadata": {},
     "output_type": "execute_result"
    }
   ],
   "source": [
    "c.period"
   ]
  },
  {
   "cell_type": "code",
   "execution_count": 31,
   "id": "b82aec55",
   "metadata": {},
   "outputs": [
    {
     "data": {
      "text/plain": [
       "'AAVSO -- data-download -- V1405 CAS'"
      ]
     },
     "execution_count": 31,
     "metadata": {},
     "output_type": "execute_result"
    }
   ],
   "source": [
    "c.titlename"
   ]
  },
  {
   "cell_type": "code",
   "execution_count": 32,
   "id": "77868fbf",
   "metadata": {},
   "outputs": [
    {
     "data": {
      "text/plain": [
       "'Showing 61239 observations for V1405 CAS from 283 observers'"
      ]
     },
     "execution_count": 32,
     "metadata": {},
     "output_type": "execute_result"
    }
   ],
   "source": [
    "c.comment"
   ]
  },
  {
   "cell_type": "markdown",
   "id": "74e1375f",
   "metadata": {},
   "source": [
    "- Plot curve with V filter and add JD plot"
   ]
  },
  {
   "cell_type": "code",
   "execution_count": 33,
   "id": "0fa4a9ff",
   "metadata": {},
   "outputs": [
    {
     "data": {
      "image/png": "[encoded data removed]",
      "text/plain": [
       "<Figure size 900x300 with 1 Axes>"
      ]
     },
     "metadata": {},
     "output_type": "display_data"
    },
    {
     "data": {
      "text/plain": [
       "[2460000.27026, 2460243.27026]"
      ]
     },
     "execution_count": 33,
     "metadata": {},
     "output_type": "execute_result"
    }
   ],
   "source": [
    "import matplotlib.pyplot as plt\n",
    "plt.figure(figsize=(9,3))\n",
    "c.Vis\n",
    "c.JulianDay = []\n",
    "c.JulianDay = [2460000.270260,2460243.27026]\n",
    "c.plot()\n",
    "plt.show()\n",
    "c.JulianDay"
   ]
  },
  {
   "cell_type": "code",
   "execution_count": null,
   "id": "76e482a9-1323-42f3-afc3-43b07a6183da",
   "metadata": {},
   "outputs": [],
   "source": []
  }
 ],
 "metadata": {
  "kernelspec": {
   "display_name": "Python 3 (ipykernel)",
   "language": "python",
   "name": "python3"
  },
  "language_info": {
   "codemirror_mode": {
    "name": "ipython",
    "version": 3
   },
   "file_extension": ".py",
   "mimetype": "text/x-python",
   "name": "python",
   "nbconvert_exporter": "python",
   "pygments_lexer": "ipython3",
   "version": "3.10.13"
  }
 },
 "nbformat": 4,
 "nbformat_minor": 5
}
