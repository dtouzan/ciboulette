{
 "cells": [
  {
   "cell_type": "markdown",
   "id": "2b7a0939-b70c-4230-ab72-1e621acdf1b1",
   "metadata": {
    "editable": true,
    "slideshow": {
     "slide_type": ""
    },
    "tags": []
   },
   "source": [
    "[![Le Baladin](https://img.shields.io/badge/Le_baladin-(1036)_Ganymed-blue.svg)](https://github.com/dtouzan/ciboulette/tree/main/sector)\n",
    "\n",
    "_Dominique Touzan_<sup>1,2</sup><br>\n",
    "Notebook<sup>1</sup>: https://github.com/dtouzan/Jupyter/blob/master/1036_Ganymed.ipynb<br>\n",
    "Correspondance<sup>2</sup>: [dtouzan@gmail.com](mailto:dtouzan@gmail.com)<br>"
   ]
  },
  {
   "cell_type": "markdown",
   "id": "1078a923-432a-4ff9-88ed-8d6556016b0c",
   "metadata": {
    "editable": true,
    "slideshow": {
     "slide_type": ""
    },
    "tags": []
   },
   "source": [
    "> **Résumé**: L'astéroïde (1036) Ganymed passait une bonne partie de l'été 2024 dans la constellation du Cygne, une des constellation du<br>\n",
    "triangle d'été bien observable. L'Observation avec le _samyang 85mm F1.4_ (ouvert à F2.8) et la camera _RPICam IMX 477_ était réalisable,<br>\n",
    "le temps de prise de vue par soirée ne dépassait pas trente minutes ce qui permettait de faire si possible une observation d'un autre<br>\n",
    "objet du ciel profond aux alentours de la cible.<br>\n",
    "<br>\n",
    "Une des particularité de la RPICam IMX 477 c'est qu'elle ne revient pas cher à fabriquer si toutefois on possède déjà une imprimante 3D.<br>\n",
    "Elle se compose du CMOS, du boitier 3D, du Raspberry Pi4 ou Pi0 2w, d'une plaque anti-tilt T2, d'une entretoise T2/M28 et d'un filtre <br>\n",
    "_(UV/IR-cut ou clear)_ astronomique.<br>\n",
    "\n",
    "> **Mots-clés**: _Astéroïde, constellation, IMX 477, Filtres_."
   ]
  },
  {
   "cell_type": "markdown",
   "id": "b3e7f843-f447-4d25-a29b-150aa2fab998",
   "metadata": {
    "editable": true,
    "slideshow": {
     "slide_type": ""
    },
    "tags": []
   },
   "source": [
    "## 1. Trajectoire dans la constellation du Cygne.\n",
    "Chargement des modules matplotlib pour les graphiques et maps pour les cartes."
   ]
  },
  {
   "cell_type": "code",
   "execution_count": 5,
   "id": "0ed06d36-7a96-40f8-990c-b4f1eafe8a4b",
   "metadata": {
    "editable": true,
    "slideshow": {
     "slide_type": ""
    },
    "tags": []
   },
   "outputs": [
    {
     "ename": "ModuleNotFoundError",
     "evalue": "No module named 'ciboulette'",
     "output_type": "error",
     "traceback": [
      "\u001b[1;31m---------------------------------------------------------------------------\u001b[0m",
      "\u001b[1;31mModuleNotFoundError\u001b[0m                       Traceback (most recent call last)",
      "Cell \u001b[1;32mIn[5], line 2\u001b[0m\n\u001b[0;32m      1\u001b[0m \u001b[38;5;28;01mfrom\u001b[39;00m \u001b[38;5;21;01mmatplotlib\u001b[39;00m \u001b[38;5;28;01mimport\u001b[39;00m pyplot \u001b[38;5;28;01mas\u001b[39;00m plt\n\u001b[1;32m----> 2\u001b[0m \u001b[38;5;28;01mfrom\u001b[39;00m \u001b[38;5;21;01mciboulette\u001b[39;00m\u001b[38;5;21;01m.\u001b[39;00m\u001b[38;5;21;01msector\u001b[39;00m\u001b[38;5;21;01m.\u001b[39;00m\u001b[38;5;21;01mmaps\u001b[39;00m \u001b[38;5;28;01mimport\u001b[39;00m Map\n",
      "\u001b[1;31mModuleNotFoundError\u001b[0m: No module named 'ciboulette'"
     ]
    }
   ],
   "source": [
    "from matplotlib import pyplot as plt\n",
    "from ciboulette.sector.maps import Map"
   ]
  },
  {
   "cell_type": "markdown",
   "id": "58d53d68-d0ee-444e-b450-93a64d46aa3f",
   "metadata": {
    "editable": true,
    "slideshow": {
     "slide_type": ""
    },
    "tags": []
   },
   "source": [
    "#### 1.1 Projection de la trajectoire.\n",
    "Cette projection repésente la trajetoire de Ganymed dans la constellation du<br> \n",
    "_**Cygne**_ entre fin juin et début octobre. Les limites de la constellation sont<br>\n",
    "indiquées en pointilllés rouge. Les marqueurs bleux le déplacement de 1036"
   ]
  },
  {
   "cell_type": "code",
   "execution_count": null,
   "id": "9c65329c-bd1a-479f-bd7f-4b1a09b05066",
   "metadata": {
    "editable": true,
    "slideshow": {
     "slide_type": ""
    },
    "tags": []
   },
   "outputs": [],
   "source": []
  },
  {
   "cell_type": "markdown",
   "id": "fb4806c4-3d1c-49d9-bc7b-95ff42daa9a8",
   "metadata": {
    "editable": true,
    "slideshow": {
     "slide_type": ""
    },
    "tags": []
   },
   "source": [
    "## 2. Déplacements \n"
   ]
  },
  {
   "cell_type": "markdown",
   "id": "528bde1e-1a7f-4852-a92b-06bdb5f99618",
   "metadata": {
    "editable": true,
    "slideshow": {
     "slide_type": ""
    },
    "tags": []
   },
   "source": [
    "## 3. L'amas NGC 7039"
   ]
  },
  {
   "cell_type": "code",
   "execution_count": null,
   "id": "cebda4d7-7a60-4ffb-aa2c-6794a23986a8",
   "metadata": {
    "editable": true,
    "slideshow": {
     "slide_type": ""
    },
    "tags": []
   },
   "outputs": [],
   "source": []
  },
  {
   "cell_type": "markdown",
   "id": "bb88050f-859b-47f3-91c3-9d4bf422ee44",
   "metadata": {
    "editable": true,
    "slideshow": {
     "slide_type": ""
    },
    "tags": []
   },
   "source": [
    ">Le baladin©2024\n",
    "><br>\n",
    "><br>\n",
    ">**Références**:<br>\n",
    "[3Dimx:](https://github.com/dtouzan/3Dimx) RPICam IMX 477<br>\n",
    "[Code:](https://github.com/dtouzan/ciboulette/tree/main/sector) Ciboulette.sector.maps<br>\n",
    "<br>\n",
    "<br>\n",
    "[![astropy](http://img.shields.io/badge/powered%20by-AstroPy-orange.svg?style=flat)](http://www.astropy.org/)\n",
    "[![JupyterLab](http://img.shields.io/badge/powered%20by-JupyterLab-orange.svg?style=flat)](https://jupyter.org/)\n",
    "[![Siril](http://img.shields.io/badge/Software-Siril_software-orange.svg?style=flat)](https://siril.org/)\n",
    "[![cds](http://img.shields.io/badge/CDS-Database-green.svg?style=flat)](http://cdsportal.u-strasbg.fr/)\n",
    "<br>\n",
    "<br>"
   ]
  },
  {
   "cell_type": "code",
   "execution_count": null,
   "id": "1281e749-b8aa-400f-9fa0-ea0d2ba8d96b",
   "metadata": {
    "editable": true,
    "slideshow": {
     "slide_type": ""
    },
    "tags": []
   },
   "outputs": [],
   "source": []
  },
  {
   "cell_type": "code",
   "execution_count": null,
   "id": "53b67fec-2b57-4e32-ba29-2d702a5d4c91",
   "metadata": {},
   "outputs": [],
   "source": []
  }
 ],
 "metadata": {
  "kernelspec": {
   "display_name": "Python 3 (ipykernel)",
   "language": "python",
   "name": "python3"
  },
  "language_info": {
   "codemirror_mode": {
    "name": "ipython",
    "version": 3
   },
   "file_extension": ".py",
   "mimetype": "text/x-python",
   "name": "python",
   "nbconvert_exporter": "python",
   "pygments_lexer": "ipython3",
   "version": "3.13.1"
  }
 },
 "nbformat": 4,
 "nbformat_minor": 5
}
