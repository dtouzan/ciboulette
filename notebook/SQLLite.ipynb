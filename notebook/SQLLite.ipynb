{
 "cells": [
  {
   "cell_type": "code",
   "execution_count": 1,
   "id": "a104ca9c-eff2-46eb-8f8a-39e2ecdd6e40",
   "metadata": {},
   "outputs": [],
   "source": [
    "from ciboulette.sql import compoments, selection, insertion, interface"
   ]
  },
  {
   "cell_type": "code",
   "execution_count": 2,
   "id": "0263a171-efbf-4cf0-96b7-170ec032736c",
   "metadata": {},
   "outputs": [],
   "source": [
    "data_out = selection.select()\n",
    "data_in = insertion.insert()"
   ]
  },
  {
   "cell_type": "code",
   "execution_count": 11,
   "id": "7011ae0b-610f-4d96-8990-74c2e36a246e",
   "metadata": {},
   "outputs": [
    {
     "data": {
      "text/plain": [
       "['science', 'spectrum', 'archive']"
      ]
     },
     "execution_count": 11,
     "metadata": {},
     "output_type": "execute_result"
    }
   ],
   "source": [
    "title = 'UT1 science program 2016-2023'\n",
    "data_interface = interface.interfaces()\n",
    "resources = data_interface.scienceprogram_type_header\n",
    "resources"
   ]
  },
  {
   "cell_type": "code",
   "execution_count": 4,
   "id": "ccee93dd-b2e1-4281-871d-949400bb9571",
   "metadata": {},
   "outputs": [
    {
     "data": {
      "text/plain": [
       "892"
      ]
     },
     "execution_count": 4,
     "metadata": {},
     "output_type": "execute_result"
    }
   ],
   "source": [
    "data_interface = interface.interfaces()\n",
    "resources = data_interface.mast_last_id\n",
    "resources"
   ]
  },
  {
   "cell_type": "code",
   "execution_count": 7,
   "id": "260446ad-41bb-486f-bcaf-cf78e90f0660",
   "metadata": {},
   "outputs": [
    {
     "data": {
      "text/plain": [
       "['OT_Library_UT1',\n",
       " 'OT_Library_HII',\n",
       " 'OT_Library_OIII',\n",
       " 'OT_Library_GALAXY',\n",
       " 'OT_Library_CLUSTER',\n",
       " 'OT_Library_VARIABLE',\n",
       " 'OT_Library_SUPERNOVA',\n",
       " 'OT_Library_ASTEROID',\n",
       " 'OT_Library_COMET',\n",
       " 'OT_Library_NEBULA',\n",
       " 'OT_Library_SPECTRUM',\n",
       " 'OT_Library_NOVA']"
      ]
     },
     "execution_count": 7,
     "metadata": {},
     "output_type": "execute_result"
    }
   ],
   "source": [
    "data_interface = interface.interfaces()\n",
    "resources = data_interface.collection\n",
    "resources"
   ]
  },
  {
   "cell_type": "code",
   "execution_count": 3,
   "id": "f25c6d82-d9c7-4f42-a7fd-c63e958579d1",
   "metadata": {},
   "outputs": [
    {
     "name": "stdout",
     "output_type": "stream",
     "text": [
      "science,OT_Library_ASTEROID,UT1,IR-CUT,NaN,1219,Asteroid,895,138.33749999999998,24.759166666666665,dtouzan@gmail.com,light,1,2024-01-19T22:49:00,60328.950694444444,60328.954513888886,330,None,0.085,fits,1219-20240119-2249-33x10s-f85.fits\n",
      "science,OT_Library_ASTEROID,UT1,IR-CUT,NaN,66,Asteroid,896,132.4125,22.413888888888888,dtouzan@gmail.com,light,1,2024-01-19T23:04:00,60328.96111111111,60328.96493055555,330,None,0.085,fits,66-20240119-2304-33x10s-f85.fits\n",
      "science,OT_Library_CLUSTER,UT1,IR-CUT,NaN,m35,OpenCluster,897,92.27208333333334,24.33611111111111,dtouzan@gmail.com,light,1,2024-01-19T21:34:00,60328.89861111111,60328.90671296296,700,None,0.085,fits,m35-20240119-2134-70x10s-f85.fits\n",
      "science,OT_Library_CLUSTER,UT1,IR-CUT,NaN,m38,OpenCluster,898,82.16708333333332,35.823888888888895,dtouzan@gmail.com,light,1,2024-01-19T21:02:00,60328.876388888886,60328.882638888885,540,None,0.085,fits,m38-20240119-2102-54x10s-f85.fits\n",
      "science,OT_Library_CLUSTER,UT1,IR-CUT,NaN,m44,OpenCluster,899,130.05416666666665,19.621111111111112,dtouzan@gmail.com,light,1,2024-01-19T22:16:00,60328.927777777775,60328.93425925926,560,None,0.085,fits,m44-20240119-2216-56x10s-f85.fits\n"
     ]
    }
   ],
   "source": [
    "data_interface = interface.interfaces()\n",
    "data_interface.mast_in('UT1 science program 2024')"
   ]
  },
  {
   "cell_type": "code",
   "execution_count": 12,
   "id": "2da53664-66d6-4d30-aad6-40d2d3fecde3",
   "metadata": {},
   "outputs": [
    {
     "name": "stdout",
     "output_type": "stream",
     "text": [
      "(1000, 851, '', 'OT_Library_UT1', 'dtouzan@gmail.com', None, None, '2023-05-23T21:24:00', 'sn2023ixf-20230523-2124-20x180s-f500.fits', 'fits', 1)\n",
      "(1000, 854, '', 'OT_Library_UT1', 'dtouzan@gmail.com', None, None, '2023-05-27T22:48:00', 'sn2023ixf-20230527-2248-21x300-f500.fits', 'fits', 1)\n"
     ]
    },
    {
     "data": {
      "text/plain": [
       "[(851, 'sn2023ixf', 'Supernova', 210.91067500000003, 54.31165, None),\n",
       " (854, 'sn2023ixf', 'Supernova', 210.91067500000003, 54.31165, None)]"
      ]
     },
     "execution_count": 12,
     "metadata": {},
     "output_type": "execute_result"
    }
   ],
   "source": [
    "data_out.connect\n",
    "data_out.cursor = data_out.connection.cursor()\n",
    "resources = data_out.cursor.execute(\"SELECT * FROM target WHERE name='sn2023ixf'\").fetchall()\n",
    "for value in resources:\n",
    "    print(data_out.cursor.execute(\"SELECT * FROM observation WHERE observation_id=(?)\", (value[0],)).fetchone())\n",
    "data_out.cursor.close()\n",
    "data_out.close\n",
    "\n",
    "resources"
   ]
  },
  {
   "cell_type": "code",
   "execution_count": 6,
   "id": "635cafad-09bf-47a5-9b0f-8c154fae643e",
   "metadata": {},
   "outputs": [
    {
     "data": {
      "text/plain": [
       "17.381666666435194"
      ]
     },
     "execution_count": 6,
     "metadata": {},
     "output_type": "execute_result"
    }
   ],
   "source": [
    "data_out.connect\n",
    "data_out.cursor = data_out.connection.cursor()\n",
    "resources = data_out.cursor.execute(\"SELECT * FROM scheduling_table\").fetchall()\n",
    "result = 0\n",
    "for value in resources:\n",
    "    result = result+(value[1]-value[0])\n",
    "data_out.cursor.close()\n",
    "data_out.close\n",
    "\n",
    "result"
   ]
  },
  {
   "cell_type": "code",
   "execution_count": 4,
   "id": "9158a333-7640-49e9-9334-9f6d7619de8d",
   "metadata": {},
   "outputs": [
    {
     "data": {
      "text/plain": [
       "17.381666666435194"
      ]
     },
     "execution_count": 4,
     "metadata": {},
     "output_type": "execute_result"
    }
   ],
   "source": [
    "data_interface = interface.interfaces()\n",
    "data_interface.scienceprogram_observing_time('UT1 science program 2016-2023')"
   ]
  },
  {
   "cell_type": "code",
   "execution_count": 3,
   "id": "84aa2ee6-48d6-4a28-a116-c3cbbfd68f66",
   "metadata": {},
   "outputs": [
    {
     "data": {
      "text/plain": [
       "17.381666666666664"
      ]
     },
     "execution_count": 3,
     "metadata": {},
     "output_type": "execute_result"
    }
   ],
   "source": [
    "data_interface = interface.interfaces()\n",
    "r = data_interface.instrument_exposure_time('UT1 science program 2016-2023')\n",
    "r/60/60/24"
   ]
  },
  {
   "cell_type": "code",
   "execution_count": 3,
   "id": "7b3d49b9-887a-4617-8119-022a912602e0",
   "metadata": {},
   "outputs": [
    {
     "data": {
      "text/plain": [
       "['UT1 science program 2016-2023', 'UT1 science program 2024']"
      ]
     },
     "execution_count": 3,
     "metadata": {},
     "output_type": "execute_result"
    }
   ],
   "source": [
    "data_interface = interface.interfaces()\n",
    "data_interface.scienceprogram_title"
   ]
  },
  {
   "cell_type": "code",
   "execution_count": 14,
   "id": "e33b1018-1a9d-40c1-a52a-cdc3a9931b68",
   "metadata": {},
   "outputs": [
    {
     "data": {
      "text/plain": [
       "1000"
      ]
     },
     "execution_count": 14,
     "metadata": {},
     "output_type": "execute_result"
    }
   ],
   "source": [
    "data_interface = interface.interfaces()\n",
    "SP=data_interface.scienceprogram_by_title('UT1 science program 2016-2023')\n",
    "SP['id']"
   ]
  },
  {
   "cell_type": "code",
   "execution_count": 2,
   "id": "93a28e5d-86ab-42d6-a5f0-a56004348c10",
   "metadata": {},
   "outputs": [
    {
     "data": {
      "text/plain": [
       "{'science_program_id': 1000,\n",
       " 'observation_id': 800,\n",
       " 'title': '',\n",
       " 'collection': 'OT_Library_UT1',\n",
       " 'proposal_pi': 'dtouzan@gmail.com',\n",
       " 'priority': None,\n",
       " 'status': None,\n",
       " 'scheduling': '2022-12-16T21:38:00',\n",
       " 'fits_file': 'sIC348-20221216-2138-1x30s-f200.fits',\n",
       " 'note_file': 'fits',\n",
       " 'calibration': 1}"
      ]
     },
     "execution_count": 2,
     "metadata": {},
     "output_type": "execute_result"
    }
   ],
   "source": [
    "data_interface = interface.interfaces()\n",
    "data_interface.observation_by_id(800)"
   ]
  },
  {
   "cell_type": "code",
   "execution_count": 3,
   "id": "6dab234f-a16c-4b6d-aa8b-025bdb8bb9d0",
   "metadata": {},
   "outputs": [
    {
     "data": {
      "text/plain": [
       "[{'observation_id': 800,\n",
       "  'title': 'sequence',\n",
       "  'label': '001',\n",
       "  'type': 'light',\n",
       "  'timeline_min': 59929.90138888889,\n",
       "  'timeline_max': 59929.90173611111,\n",
       "  'compoment': 'IR-CUT'}]"
      ]
     },
     "execution_count": 3,
     "metadata": {},
     "output_type": "execute_result"
    }
   ],
   "source": [
    "data_interface = interface.interfaces()\n",
    "data_interface.sequence_by_id(800)"
   ]
  },
  {
   "cell_type": "code",
   "execution_count": 2,
   "id": "cf093a1a-c10c-497e-a891-4cb5c53d25a5",
   "metadata": {},
   "outputs": [
    {
     "data": {
      "text/plain": [
       "{'observation_id': 800,\n",
       " 'name': 'sIC348',\n",
       " 'class': 'OpenCluster',\n",
       " 'RA': 56.132083333333334,\n",
       " 'DEC': 32.15888888888889,\n",
       " 'notes': None}"
      ]
     },
     "execution_count": 2,
     "metadata": {},
     "output_type": "execute_result"
    }
   ],
   "source": [
    "data_interface = interface.interfaces()\n",
    "data_interface.target_by_id(800)"
   ]
  },
  {
   "cell_type": "code",
   "execution_count": 2,
   "id": "13d1de7f-6b23-40a5-8c82-57fc7b6f616c",
   "metadata": {},
   "outputs": [
    {
     "data": {
      "text/plain": [
       "{'observation_id': 1,\n",
       " 'label': 'default',\n",
       " 'filename': 'default_observinglog.txt',\n",
       " 'comment': 'default observing log file'}"
      ]
     },
     "execution_count": 2,
     "metadata": {},
     "output_type": "execute_result"
    }
   ],
   "source": [
    "data_interface = interface.interfaces()\n",
    "data_interface.observinglog_by_id(1)"
   ]
  },
  {
   "cell_type": "code",
   "execution_count": 4,
   "id": "202493a7-e216-4672-baab-a1520cc18ba7",
   "metadata": {},
   "outputs": [
    {
     "data": {
      "text/plain": [
       "{'observation_id': 1,\n",
       " 'sky_background': 100,\n",
       " 'cloud_cover': 20,\n",
       " 'image_quality': 100,\n",
       " 'water_vapor': 60,\n",
       " 'elevation_constraint': 80,\n",
       " 'timming_windows': 'ANY'}"
      ]
     },
     "execution_count": 4,
     "metadata": {},
     "output_type": "execute_result"
    }
   ],
   "source": [
    "data_interface = interface.interfaces()\n",
    "data_interface.observingconditions_by_id(1)"
   ]
  },
  {
   "cell_type": "code",
   "execution_count": 1,
   "id": "13b2c608-58a1-401e-b52d-a66335cfb2cb",
   "metadata": {},
   "outputs": [],
   "source": [
    "from ciboulette.sql import compoments, selection, insertion, interface, datarecord\n",
    "data_interface = interface.interfaces()"
   ]
  },
  {
   "cell_type": "code",
   "execution_count": 2,
   "id": "45cbec9d-b7da-45ea-8423-31580a2a8903",
   "metadata": {},
   "outputs": [],
   "source": [
    "dr = datarecord.datarecords()"
   ]
  },
  {
   "cell_type": "code",
   "execution_count": 3,
   "id": "606fae76-3c77-427e-8097-7e841a49a3f5",
   "metadata": {
    "scrolled": true
   },
   "outputs": [
    {
     "data": {
      "text/plain": [
       "{'target': 'ngc6811',\n",
       " 'scheduling': '2024-07-14T21:43:00',\n",
       " 'camera': 'nefertiti3199-imx477',\n",
       " 'focal': 0.085,\n",
       " 'F/D': 2.8,\n",
       " 'sampling': 3.94,\n",
       " \"field.x'\": 264.57,\n",
       " \"field.y'\": 199.52,\n",
       " 'Instrument magnitude': 14.59,\n",
       " 'filter': 'IR-CUT [380.0:700.0]nm',\n",
       " 'filter data': 'UV/IR-Cut;L0;3800,4000,6850,7000;0,0.9,0.9,0',\n",
       " 'spectral axis': '3800,4000,6850,7000',\n",
       " 'flux': '0,0.9,0.9,0'}"
      ]
     },
     "execution_count": 3,
     "metadata": {},
     "output_type": "execute_result"
    }
   ],
   "source": [
    "dr.values = 956\n",
    "dr.settings\n"
   ]
  },
  {
   "cell_type": "code",
   "execution_count": 4,
   "id": "2115aa8f-cd6b-446f-bfd7-7314833d86dc",
   "metadata": {},
   "outputs": [
    {
     "name": "stdout",
     "output_type": "stream",
     "text": [
      "# Science Program\n",
      "\tscience_program_id\t: 1001\n",
      "\ttitle\t\t\t: UT1 science program 2024\n",
      "\tstatus\t\t\t: 1\n",
      "\tcontact\t\t\t: dtouzan@gmail.com\n",
      "\tobserving_time\t\t: 0.0\n",
      "\ttype\t\t\t: science\n",
      "\tdataset\t\t\t: dataset/archives\n",
      "\t+ Observation\n",
      "\t\tobservation_id\t: 956\n",
      "\t\ttitle\t\t: NGC 6811 cluster in  Cyg\n",
      "\t\tcollection\t: OT_Library_CLUSTER\n",
      "\t\tproposal_pi\t: dtouzan@gmail.com\n",
      "\t\tpriority\t: 0\n",
      "\t\tstatus\t\t: 0\n",
      "\t\tscheduling\t: 2024-07-14T21:43:00\n",
      "\t\tfits_file\t: ngc6811-20240714-2143-11x180s-f85.fits\n",
      "\t\tnote_file\t: fits\n",
      "\t\tcalibration\t: 1\n",
      "\t- Instrument: \n",
      "\t\tname\t\t: UT1\n",
      "\t\tfilter\t\t: IR-CUT\n",
      "\t\tdisperser\t: \n",
      "\t\tcamera\t\t: nefertiti3199-imx477\n",
      "\t\texposure_time\t: 1980.0\n",
      "\t\tposition_angle\t: 0.0\n",
      "\t\tbinning_x\t: 1\n",
      "\t\tbinning_y\t: 1\n",
      "\t\tfocal\t\t: 0.085\n",
      "\t\taperture\t: 0.03\n",
      "\t- Target: \n",
      "\t\tname\t\t: ngc6811\n",
      "\t\tclass\t\t: OpenCluster\n",
      "\t\tRA\t\t: 294.34000000000003\n",
      "\t\tDEC\t\t: 46.378055555555555\n",
      "\t\tnotes\t\t: not specified\n",
      "\t- Observing conditions\n"
     ]
    },
    {
     "ename": "NameError",
     "evalue": "name 'unit' is not defined",
     "output_type": "error",
     "traceback": [
      "\u001b[1;31m---------------------------------------------------------------------------\u001b[0m",
      "\u001b[1;31mNameError\u001b[0m                                 Traceback (most recent call last)",
      "Cell \u001b[1;32mIn[4], line 2\u001b[0m\n\u001b[0;32m      1\u001b[0m dr\u001b[38;5;241m.\u001b[39mvalues \u001b[38;5;241m=\u001b[39m \u001b[38;5;241m956\u001b[39m\n\u001b[1;32m----> 2\u001b[0m dr\u001b[38;5;241m.\u001b[39medit\n",
      "File \u001b[1;32m~\\Documents\\lab\\ciboulette\\sql\\datarecord.py:40\u001b[0m, in \u001b[0;36mdatarecords.edit\u001b[1;34m(self)\u001b[0m\n\u001b[0;32m     35\u001b[0m \u001b[38;5;129m@property\u001b[39m\n\u001b[0;32m     36\u001b[0m \u001b[38;5;28;01mdef\u001b[39;00m \u001b[38;5;21medit\u001b[39m(\u001b[38;5;28mself\u001b[39m):\n\u001b[0;32m     37\u001b[0m \u001b[38;5;250m    \u001b[39m\u001b[38;5;124;03m\"\"\"\u001b[39;00m\n\u001b[0;32m     38\u001b[0m \u001b[38;5;124;03m    Print observation id\u001b[39;00m\n\u001b[0;32m     39\u001b[0m \u001b[38;5;124;03m    \"\"\"\u001b[39;00m\n\u001b[1;32m---> 40\u001b[0m     \u001b[38;5;28mself\u001b[39m\u001b[38;5;241m.\u001b[39mobservation_print(\u001b[38;5;28mint\u001b[39m(\u001b[38;5;28mself\u001b[39m\u001b[38;5;241m.\u001b[39mvalues))\n",
      "File \u001b[1;32m~\\Documents\\lab\\ciboulette\\sql\\interface.py:720\u001b[0m, in \u001b[0;36minterfaces.observation_print\u001b[1;34m(self, observation_id)\u001b[0m\n\u001b[0;32m    718\u001b[0m                 \u001b[38;5;28;01melse\u001b[39;00m:\n\u001b[0;32m    719\u001b[0m                     tab \u001b[38;5;241m=\u001b[39m \u001b[38;5;124m'\u001b[39m\u001b[38;5;130;01m\\t\u001b[39;00m\u001b[38;5;124m'\u001b[39m \n\u001b[1;32m--> 720\u001b[0m             \u001b[38;5;28mprint\u001b[39m(\u001b[38;5;124mf\u001b[39m\u001b[38;5;124m'\u001b[39m\u001b[38;5;130;01m\\t\u001b[39;00m\u001b[38;5;130;01m\\t\u001b[39;00m\u001b[38;5;132;01m{\u001b[39;00mheader\u001b[38;5;132;01m}\u001b[39;00m\u001b[38;5;132;01m{\u001b[39;00mtab\u001b[38;5;132;01m}\u001b[39;00m\u001b[38;5;124m: \u001b[39m\u001b[38;5;132;01m{\u001b[39;00mdata\u001b[38;5;132;01m}\u001b[39;00m\u001b[38;5;132;01m{\u001b[39;00munit[index]\u001b[38;5;132;01m}\u001b[39;00m\u001b[38;5;124m'\u001b[39m)\n\u001b[0;32m    722\u001b[0m \u001b[38;5;28mprint\u001b[39m(\u001b[38;5;124m'\u001b[39m\u001b[38;5;130;01m\\t\u001b[39;00m\u001b[38;5;124m- Observing log\u001b[39m\u001b[38;5;124m'\u001b[39m)\n\u001b[0;32m    723\u001b[0m \u001b[38;5;28;01mif\u001b[39;00m observinglog_data \u001b[38;5;241m!=\u001b[39m \u001b[38;5;28;01mNone\u001b[39;00m:\n",
      "\u001b[1;31mNameError\u001b[0m: name 'unit' is not defined"
     ]
    }
   ],
   "source": [
    "dr.values = 956\n",
    "dr.edit"
   ]
  },
  {
   "cell_type": "code",
   "execution_count": 7,
   "id": "c6de2249-7612-47f0-b4b5-e2946d9c6a4e",
   "metadata": {},
   "outputs": [
    {
     "name": "stdout",
     "output_type": "stream",
     "text": [
      "[15, 16, 20, 21, 55, 56, 74, 75, 170, 171, 172, 173, 174, 175, 255, 262, 274, 279]\n",
      "# Science Program\n",
      "\tscience_program_id\t: 1000\n",
      "\ttitle\t\t\t: UT1 science program 2016-2023\n",
      "\tstatus\t\t\t: 1\n",
      "\tcontact\t\t\t: dtouzan@gmail.com\n",
      "\tobserving_time\t\t: 0.0\n",
      "\ttype\t\t\t: science\n",
      "\tdataset\t\t\t: dataset/archives\n",
      "\t+ Observation\n",
      "\t\tobservation_id\t: 15\n",
      "\t\ttitle\t\t: (29) Amphitrite\n",
      "\t\tcollection\t: OT_Library_ASTEROID\n",
      "\t\tproposal_pi\t: dtouzan@gmail.com\n",
      "\t\tpriority\t: 0\n",
      "\t\tstatus\t\t: 0\n",
      "\t\tscheduling\t: 2017-05-08T21:00:00\n",
      "\t\tfits_file\t: 29-20170508-2100-14x60s-f200.fits\n",
      "\t\tnote_file\t: fits\n",
      "\t\tcalibration\t: 1\n",
      "\t- Instrument: \n",
      "\t\tname\t\t: UT1\n",
      "\t\tfilter\t\t: IR-CUT\n",
      "\t\tdisperser\t: \n",
      "\t\tcamera\t\t: UT1\n",
      "\t\texposure_time\t: 840.0\n",
      "\t\tposition_angle\t: 0.0\n",
      "\t\tbinning_x\t: None\n",
      "\t\tbinning_y\t: None\n",
      "\t\tfocal\t\t: 0.2\n",
      "\t\taperture\t: 0.06\n",
      "\t- Target: \n",
      "\t\tname\t\t: 29\n",
      "\t\tclass\t\t: Asteroid\n",
      "\t\tRA\t\t: 158.4370833333333\n",
      "\t\tDEC\t\t: 8.817499999999999\n",
      "\t\tnotes\t\t: not specified\n",
      "\t- Observing conditions\n",
      "\t- Observing log\n",
      "\t- Sequence\ttitle: sequence\tlabel: 001\ttype: light\ttimeline_min: 57881.875\ttimeline_max: 57881.884722222225\tcompoment: IR-CUT\n"
     ]
    }
   ],
   "source": [
    "dr.values = \"2017-05-01T21:00:00;2017-05-31T23:00:00\"\n",
    "#dr.values = \"2017-05-09T21:00:00\"\n",
    "dr.header = 'scheduling'\n",
    "dr.filters = 'observation'\n",
    "data = dr.find\n",
    "print(data)\n",
    "dr.values = data[0]\n",
    "dr.edit"
   ]
  },
  {
   "cell_type": "code",
   "execution_count": 4,
   "id": "7749e81b-2624-4b3c-820c-4ec240166cdf",
   "metadata": {},
   "outputs": [
    {
     "data": {
      "text/plain": [
       "[904,\n",
       " 914,\n",
       " 915,\n",
       " 916,\n",
       " 917,\n",
       " 922,\n",
       " 923,\n",
       " 924,\n",
       " 929,\n",
       " 930,\n",
       " 931,\n",
       " 932,\n",
       " 933,\n",
       " 934,\n",
       " 935,\n",
       " 936]"
      ]
     },
     "execution_count": 4,
     "metadata": {},
     "output_type": "execute_result"
    }
   ],
   "source": [
    "dr.values = 'tracking'\n",
    "dr.header = 'notes'\n",
    "dr.filters = 'target'\n",
    "dr.find"
   ]
  },
  {
   "cell_type": "code",
   "execution_count": 5,
   "id": "29712384-7074-4d56-b0a5-3c9e5232aef0",
   "metadata": {},
   "outputs": [
    {
     "data": {
      "text/plain": [
       "[504, 758, 759, 760, 761, 886]"
      ]
     },
     "execution_count": 5,
     "metadata": {},
     "output_type": "execute_result"
    }
   ],
   "source": [
    "dr.values = 'm31'\n",
    "dr.header = 'name'\n",
    "dr.filters = 'target'\n",
    "dr.find"
   ]
  },
  {
   "cell_type": "code",
   "execution_count": 3,
   "id": "72a408fa-644d-4398-be84-5b65b657d653",
   "metadata": {
    "scrolled": true
   },
   "outputs": [
    {
     "data": {
      "text/plain": [
       "[469,\n",
       " 470,\n",
       " 471,\n",
       " 472,\n",
       " 473,\n",
       " 474,\n",
       " 475,\n",
       " 476,\n",
       " 477,\n",
       " 478,\n",
       " 479,\n",
       " 480,\n",
       " 481,\n",
       " 482,\n",
       " 483,\n",
       " 484,\n",
       " 485,\n",
       " 486,\n",
       " 487,\n",
       " 488,\n",
       " 489,\n",
       " 490,\n",
       " 491,\n",
       " 492,\n",
       " 493,\n",
       " 494,\n",
       " 495,\n",
       " 496,\n",
       " 633,\n",
       " 664,\n",
       " 670,\n",
       " 904,\n",
       " 913,\n",
       " 914,\n",
       " 915,\n",
       " 916,\n",
       " 917,\n",
       " 922,\n",
       " 923,\n",
       " 924,\n",
       " 929,\n",
       " 930,\n",
       " 931,\n",
       " 932,\n",
       " 933,\n",
       " 934,\n",
       " 935,\n",
       " 936]"
      ]
     },
     "execution_count": 3,
     "metadata": {},
     "output_type": "execute_result"
    }
   ],
   "source": [
    "\"\"\"\n",
    "['OT_Library_UT1',\n",
    " 'OT_Library_HII',\n",
    " 'OT_Library_OIII',\n",
    " 'OT_Library_GALAXY',\n",
    " 'OT_Library_CLUSTER',\n",
    " 'OT_Library_VARIABLE',\n",
    " 'OT_Library_SUPERNOVA',\n",
    " 'OT_Library_ASTEROID',\n",
    " 'OT_Library_COMET',\n",
    " 'OT_Library_NEBULA',\n",
    " 'OT_Library_SPECTRUM',\n",
    " 'OT_Library_NOVA']\n",
    "\"\"\" \n",
    "dr.values = 'OT_Library_VARIABLE'\n",
    "dr.header = 'collection'\n",
    "dr.filters = 'observation'\n",
    "dr.find"
   ]
  },
  {
   "cell_type": "code",
   "execution_count": 9,
   "id": "2c574553-50b8-455c-a3f4-9e6ce9e6ff9a",
   "metadata": {},
   "outputs": [
    {
     "data": {
      "text/plain": [
       "[923, 924, 925, 927, 929, 933, 934, 939, 942]"
      ]
     },
     "execution_count": 9,
     "metadata": {},
     "output_type": "execute_result"
    }
   ],
   "source": [
    "dr.values = 'Taranis5370-imx477'\n",
    "dr.header = 'camera'\n",
    "dr.filters = 'instrument'\n",
    "dr.find"
   ]
  },
  {
   "cell_type": "code",
   "execution_count": null,
   "id": "81ff0bd6-360c-412e-bcea-ce37b60efff5",
   "metadata": {},
   "outputs": [],
   "source": []
  },
  {
   "cell_type": "code",
   "execution_count": 72,
   "id": "f13e68c2-4aee-453e-9ba7-ba075b66c992",
   "metadata": {},
   "outputs": [],
   "source": [
    "data_interface.collection_update('OT_Library_VARIABLE', 'Variable*')"
   ]
  },
  {
   "cell_type": "code",
   "execution_count": 57,
   "id": "15a1c9ba-f0b6-4b5e-89cd-b7317a32f1a7",
   "metadata": {},
   "outputs": [
    {
     "name": "stdout",
     "output_type": "stream",
     "text": [
      "# Science Program\n",
      "\tscience_program_id\t:1000\n",
      "\ttitle\t\t\t:UT1 science program 2016-2023\n",
      "\tstatus\t\t\t:1\n",
      "\tcontact\t\t\t:dtouzan@gmail.com\n",
      "\tobserving_time\t\t:0.0\n",
      "\ttype\t\t\t:science\n",
      "\tdataset\t\t\t:dataset/archives\n",
      "\t+ Observation\n",
      "\t\tobservation_id\t: 56\n",
      "\t\ttitle\t\t: \n",
      "\t\tcollection\t: OT_Library_ASTEROID\n",
      "\t\tproposal_pi\t: dtouzan@gmail.com\n",
      "\t\tpriority\t: None\n",
      "\t\tstatus\t\t: None\n",
      "\t\tscheduling\t: 2017-05-09T21:40:00\n",
      "\t\tfits_file\t: 140-20170509-2140-07x60s-f200.fits\n",
      "\t\tnote_file\t: fits\n",
      "\t\tcalibration\t: 1\n",
      "\t- Target: \n",
      "\t\tname\t\t: 140\n",
      "\t\tclass\t\t: Asteroid\n",
      "\t\tRA\t\t: 167.935\n",
      "\t\tDEC\t\t: 9.375555555555556\n",
      "\t\tnotes\t\t: None\n",
      "\t- Observing condiftions\n",
      "\t- Observing log\n",
      "\t- Sequence\ttitle: sequence\tlabel: 001\ttype: light\ttimeline_min: 57882.90277777778\ttimeline_max: 57882.90763888889\tcompoment: IR-CUT\n"
     ]
    }
   ],
   "source": [
    "data_interface.observation_print(56)"
   ]
  },
  {
   "cell_type": "code",
   "execution_count": 7,
   "id": "36a14875-3de8-4e74-a6ba-268f7a3ca723",
   "metadata": {},
   "outputs": [
    {
     "name": "stdout",
     "output_type": "stream",
     "text": [
      "# Science Program\n",
      "\tscience_program_id\t:1000\n",
      "\ttitle\t\t\t:UT1 science program 2016-2023\n",
      "\tstatus\t\t\t:1\n",
      "\tcontact\t\t\t:dtouzan@gmail.com\n",
      "\tobserving_time\t\t:0.0\n",
      "\ttype\t\t\t:science\n",
      "\tdataset\t\t\t:dataset/archives\n",
      "\t+ Observation\n",
      "\t\tobservation_id\t: 504\n",
      "\t\ttitle\t\t: \n",
      "\t\tcollection\t: OT_library_GALAXY\n",
      "\t\tproposal_pi\t: dtouzan@gmail.com\n",
      "\t\tpriority\t: None\n",
      "\t\tstatus\t\t: None\n",
      "\t\tscheduling\t: 2021-08-12T22:31:00\n",
      "\t\tfits_file\t: m31-20210812-2231-60x60s-f85.fits\n",
      "\t\tnote_file\t: fits\n",
      "\t\tcalibration\t: 1\n",
      "\t- Target: \n",
      "\t\tname\t\t: m31\n",
      "\t\tclass\t\t: Galaxy\n",
      "\t\tRA\t\t: 10.684708333333331\n",
      "\t\tDEC\t\t: 41.26875\n",
      "\t\tnotes\t\t: None\n",
      "\t- Observing condiftions\n",
      "\t- Observing log\n",
      "\t- Sequence\ttitle: sequence\tlabel: 001\ttype: light\ttimeline_min: 59438.93819444445\ttimeline_max: 59438.97986111111\tcompoment: IR-CUT\n",
      "# Science Program\n",
      "\tscience_program_id\t:1000\n",
      "\ttitle\t\t\t:UT1 science program 2016-2023\n",
      "\tstatus\t\t\t:1\n",
      "\tcontact\t\t\t:dtouzan@gmail.com\n",
      "\tobserving_time\t\t:0.0\n",
      "\ttype\t\t\t:science\n",
      "\tdataset\t\t\t:dataset/archives\n",
      "\t+ Observation\n",
      "\t\tobservation_id\t: 758\n",
      "\t\ttitle\t\t: \n",
      "\t\tcollection\t: OT_library_GALAXY\n",
      "\t\tproposal_pi\t: dtouzan@gmail.com\n",
      "\t\tpriority\t: None\n",
      "\t\tstatus\t\t: None\n",
      "\t\tscheduling\t: 2022-09-17T20:20:00\n",
      "\t\tfits_file\t: M31-20220917-2020-3x180s-f42.fits\n",
      "\t\tnote_file\t: fits\n",
      "\t\tcalibration\t: 1\n",
      "\t- Target: \n",
      "\t\tname\t\t: M31\n",
      "\t\tclass\t\t: Galaxy\n",
      "\t\tRA\t\t: 10.684708333333331\n",
      "\t\tDEC\t\t: 41.26875\n",
      "\t\tnotes\t\t: None\n",
      "\t- Observing condiftions\n",
      "\t- Observing log\n",
      "\t- Sequence\ttitle: sequence\tlabel: 001\ttype: light\ttimeline_min: 59839.84722222222\ttimeline_max: 59839.85347222222\tcompoment: IR-CUT\n",
      "# Science Program\n",
      "\tscience_program_id\t:1000\n",
      "\ttitle\t\t\t:UT1 science program 2016-2023\n",
      "\tstatus\t\t\t:1\n",
      "\tcontact\t\t\t:dtouzan@gmail.com\n",
      "\tobserving_time\t\t:0.0\n",
      "\ttype\t\t\t:science\n",
      "\tdataset\t\t\t:dataset/archives\n",
      "\t+ Observation\n",
      "\t\tobservation_id\t: 759\n",
      "\t\ttitle\t\t: \n",
      "\t\tcollection\t: OT_library_GALAXY\n",
      "\t\tproposal_pi\t: dtouzan@gmail.com\n",
      "\t\tpriority\t: None\n",
      "\t\tstatus\t\t: None\n",
      "\t\tscheduling\t: 2022-09-17T20:45:00\n",
      "\t\tfits_file\t: M31-20220917-2045-3x180s-f42.fits\n",
      "\t\tnote_file\t: fits\n",
      "\t\tcalibration\t: 1\n",
      "\t- Target: \n",
      "\t\tname\t\t: M31\n",
      "\t\tclass\t\t: Galaxy\n",
      "\t\tRA\t\t: 10.684708333333331\n",
      "\t\tDEC\t\t: 41.26875\n",
      "\t\tnotes\t\t: None\n",
      "\t- Observing condiftions\n",
      "\t- Observing log\n",
      "\t- Sequence\ttitle: sequence\tlabel: 001\ttype: light\ttimeline_min: 59839.864583333336\ttimeline_max: 59839.870833333334\tcompoment: IR-CUT\n",
      "# Science Program\n",
      "\tscience_program_id\t:1000\n",
      "\ttitle\t\t\t:UT1 science program 2016-2023\n",
      "\tstatus\t\t\t:1\n",
      "\tcontact\t\t\t:dtouzan@gmail.com\n",
      "\tobserving_time\t\t:0.0\n",
      "\ttype\t\t\t:science\n",
      "\tdataset\t\t\t:dataset/archives\n",
      "\t+ Observation\n",
      "\t\tobservation_id\t: 760\n",
      "\t\ttitle\t\t: \n",
      "\t\tcollection\t: OT_library_GALAXY\n",
      "\t\tproposal_pi\t: dtouzan@gmail.com\n",
      "\t\tpriority\t: None\n",
      "\t\tstatus\t\t: None\n",
      "\t\tscheduling\t: 2022-09-17T22:22:00\n",
      "\t\tfits_file\t: M31-20220917-2222-3x180s-f42.fits\n",
      "\t\tnote_file\t: fits\n",
      "\t\tcalibration\t: 1\n",
      "\t- Target: \n",
      "\t\tname\t\t: M31\n",
      "\t\tclass\t\t: Galaxy\n",
      "\t\tRA\t\t: 10.684708333333331\n",
      "\t\tDEC\t\t: 41.26875\n",
      "\t\tnotes\t\t: None\n",
      "\t- Observing condiftions\n",
      "\t- Observing log\n",
      "\t- Sequence\ttitle: sequence\tlabel: 001\ttype: light\ttimeline_min: 59839.93194444444\ttimeline_max: 59839.93819444444\tcompoment: IR-CUT\n",
      "# Science Program\n",
      "\tscience_program_id\t:1000\n",
      "\ttitle\t\t\t:UT1 science program 2016-2023\n",
      "\tstatus\t\t\t:1\n",
      "\tcontact\t\t\t:dtouzan@gmail.com\n",
      "\tobserving_time\t\t:0.0\n",
      "\ttype\t\t\t:science\n",
      "\tdataset\t\t\t:dataset/archives\n",
      "\t+ Observation\n",
      "\t\tobservation_id\t: 761\n",
      "\t\ttitle\t\t: \n",
      "\t\tcollection\t: OT_library_GALAXY\n",
      "\t\tproposal_pi\t: dtouzan@gmail.com\n",
      "\t\tpriority\t: None\n",
      "\t\tstatus\t\t: None\n",
      "\t\tscheduling\t: 2022-09-17T23:06:00\n",
      "\t\tfits_file\t: M31-20220917-2306-3x180s-f42.fits\n",
      "\t\tnote_file\t: fits\n",
      "\t\tcalibration\t: 1\n",
      "\t- Target: \n",
      "\t\tname\t\t: M31\n",
      "\t\tclass\t\t: Galaxy\n",
      "\t\tRA\t\t: 10.684708333333331\n",
      "\t\tDEC\t\t: 41.26875\n",
      "\t\tnotes\t\t: None\n",
      "\t- Observing condiftions\n",
      "\t- Observing log\n",
      "\t- Sequence\ttitle: sequence\tlabel: 001\ttype: light\ttimeline_min: 59839.9625\ttimeline_max: 59839.96875\tcompoment: IR-CUT\n",
      "# Science Program\n",
      "\tscience_program_id\t:1000\n",
      "\ttitle\t\t\t:UT1 science program 2016-2023\n",
      "\tstatus\t\t\t:1\n",
      "\tcontact\t\t\t:dtouzan@gmail.com\n",
      "\tobserving_time\t\t:0.0\n",
      "\ttype\t\t\t:science\n",
      "\tdataset\t\t\t:dataset/archives\n",
      "\t+ Observation\n",
      "\t\tobservation_id\t: 886\n",
      "\t\ttitle\t\t: None\n",
      "\t\tcollection\t: OT_library_GALAXY\n",
      "\t\tproposal_pi\t: dtouzan@gmail.com\n",
      "\t\tpriority\t: None\n",
      "\t\tstatus\t\t: None\n",
      "\t\tscheduling\t: 2023-10-22T19:29:00\n",
      "\t\tfits_file\t: m31-20231022-1929-23x300s-f200.fits\n",
      "\t\tnote_file\t: fits\n",
      "\t\tcalibration\t: 1\n",
      "\t- Target: \n",
      "\t\tname\t\t: m31\n",
      "\t\tclass\t\t: Galaxy\n",
      "\t\tRA\t\t: 10.684708333333331\n",
      "\t\tDEC\t\t: 41.26875\n",
      "\t\tnotes\t\t: None\n",
      "\t- Observing condiftions\n",
      "\t- Observing log\n",
      "\t- Sequence\ttitle: sequence\tlabel: 001\ttype: light\ttimeline_min: 60239.81180555555\ttimeline_max: 60239.89166666666\tcompoment: IR-CUT\n"
     ]
    }
   ],
   "source": [
    "for data in data_interface.target_by_name('m31'):\n",
    "    data_interface.observation_print(data['observation_id'])"
   ]
  },
  {
   "cell_type": "code",
   "execution_count": null,
   "id": "7efe6c5e-e758-4e65-8a12-1926b9e8e972",
   "metadata": {},
   "outputs": [],
   "source": []
  },
  {
   "cell_type": "code",
   "execution_count": 4,
   "id": "a813050e-9b85-4981-aa04-de557927507a",
   "metadata": {},
   "outputs": [
    {
     "name": "stdout",
     "output_type": "stream",
     "text": [
      "# Science Program\n",
      "\tscience_program_id\t:1000\n",
      "\ttitle\t\t\t:UT1 science program 2016-2023\n",
      "\tstatus\t\t\t:1\n",
      "\tcontact\t\t\t:dtouzan@gmail.com\n",
      "\tobserving_time\t\t:0.0\n",
      "\ttype\t\t\t:science\n",
      "\tdataset\t\t\t:dataset/archives\n",
      "\t+ Observation\n",
      "\t\tobservation_id\t: 504\n",
      "\t\ttitle\t\t: \n",
      "\t\tcollection\t: OT_library_GALAXY\n",
      "\t\tproposal_pi\t: dtouzan@gmail.com\n",
      "\t\tpriority\t: None\n",
      "\t\tstatus\t\t: None\n",
      "\t\tscheduling\t: 2021-08-12T22:31:00\n",
      "\t\tfits_file\t: m31-20210812-2231-60x60s-f85.fits\n",
      "\t\tnote_file\t: fits\n",
      "\t\tcalibration\t: 1\n",
      "\t- Target: \n",
      "\t\tname\t\t: m31\n",
      "\t\tclass\t\t: Galaxy\n",
      "\t\tRA\t\t: 10.684708333333331\n",
      "\t\tDEC\t\t: 41.26875\n",
      "\t\tnotes\t\t: None\n",
      "\t- Observing condiftions\n",
      "\t- Observing log\n",
      "\t- Sequence\ttitle: sequence\tlabel: 001\ttype: light\ttimeline_min: 59438.93819444445\ttimeline_max: 59438.97986111111\tcompoment: IR-CUT\n"
     ]
    }
   ],
   "source": [
    "observation = data_interface.target_by_name('m31')[0]['observation_id']\n",
    "data_interface.observation_print(observation)"
   ]
  },
  {
   "cell_type": "code",
   "execution_count": 4,
   "id": "59ac8b8d-6d12-442c-bb46-58b3c9da904b",
   "metadata": {},
   "outputs": [
    {
     "data": {
      "text/plain": [
       "([{'observation_id': 28,\n",
       "   'name': '46_P',\n",
       "   'class': 'Comet',\n",
       "   'RA': 87.01749999999998,\n",
       "   'DEC': 49.97416666666667,\n",
       "   'notes': None},\n",
       "  {'observation_id': 29,\n",
       "   'name': '46_P',\n",
       "   'class': 'Comet',\n",
       "   'RA': 144.38916666666665,\n",
       "   'DEC': 46.4925,\n",
       "   'notes': None},\n",
       "  {'observation_id': 30,\n",
       "   'name': '46_P',\n",
       "   'class': 'Comet',\n",
       "   'RA': 148.57041666666666,\n",
       "   'DEC': 37.518055555555556,\n",
       "   'notes': None},\n",
       "  {'observation_id': 31,\n",
       "   'name': '46_P',\n",
       "   'class': 'Comet',\n",
       "   'RA': 148.76541666666662,\n",
       "   'DEC': 37.21888888888889,\n",
       "   'notes': None},\n",
       "  {'observation_id': 32,\n",
       "   'name': '46_P',\n",
       "   'class': 'Comet',\n",
       "   'RA': 150.05999999999997,\n",
       "   'DEC': 35.36388888888889,\n",
       "   'notes': None}],\n",
       " [(87.01749999999998, 49.97416666666667),\n",
       "  (144.38916666666665, 46.4925),\n",
       "  (148.57041666666666, 37.518055555555556),\n",
       "  (148.76541666666662, 37.21888888888889),\n",
       "  (150.05999999999997, 35.36388888888889)])"
      ]
     },
     "execution_count": 4,
     "metadata": {},
     "output_type": "execute_result"
    }
   ],
   "source": [
    "data_interface.target_by_name('46_P'), data_interface.target_coordinates('46_P')"
   ]
  },
  {
   "cell_type": "code",
   "execution_count": 5,
   "id": "14c0c5e8-9a4c-4789-91e1-175c60167b6c",
   "metadata": {},
   "outputs": [
    {
     "name": "stdout",
     "output_type": "stream",
     "text": [
      "# Science Program\n",
      "\tscience_program_id\t:1000\n",
      "\ttitle\t\t\t:UT1 science program 2016-2023\n",
      "\tstatus\t\t\t:1\n",
      "\tcontact\t\t\t:dtouzan@gmail.com\n",
      "\tobserving_time\t\t:0.0\n",
      "\ttype\t\t\t:science\n",
      "\tdataset\t\t\t:dataset/archives\n",
      "\t+ Observation\n",
      "\t\tobservation_id\t: 1\n",
      "\t\ttitle\t\t: HII in galaxy\n",
      "\t\tcollection\t: OT_Library_UT1\n",
      "\t\tproposal_pi\t: dtouzan@gmail.com\n",
      "\t\tpriority\t: None\n",
      "\t\tstatus\t\t: None\n",
      "\t\tscheduling\t: 2019-05-31T23:36:00\n",
      "\t\tfits_file\t: ngc5350-20190531-2336-1x300-f750.fits\n",
      "\t\tnote_file\t: fits\n",
      "\t\tcalibration\t: 1\n",
      "\t- Target: \n",
      "\t\tname\t\t: ngc5350\n",
      "\t\tclass\t\t: GinPair\n",
      "\t\tRA\t\t: 208.34009666666668\n",
      "\t\tDEC\t\t: 40.36394055555556\n",
      "\t\tnotes\t\t: \n",
      "\t- Observing condiftions\n",
      "\t\tsky_background\t\t: 100\n",
      "\t\tcloud_cover\t\t: 20\n",
      "\t\timage_quality\t\t: 100\n",
      "\t\twater_vapor\t\t: 60\n",
      "\t\televation_constraint\t: 80\n",
      "\t\ttimming_windows\t: ANY\n",
      "\t- Observing log\n",
      "\t\tlabel\t\t: default\n",
      "\t\tfilename\t: default_observinglog.txt\n",
      "\t\tcomment\t\t: default observing log file\n",
      "\t- Sequence\ttitle: sequence\tlabel: 001\ttype: light\ttimeline_min: 58634.98333333333\ttimeline_max: 58634.98680555555\tcompoment: IR-CUT\n"
     ]
    }
   ],
   "source": [
    "data_interface.observation_print(1)"
   ]
  },
  {
   "cell_type": "code",
   "execution_count": 3,
   "id": "8a13646e-7d54-4fb7-ba75-71396bfc08ce",
   "metadata": {},
   "outputs": [
    {
     "data": {
      "text/plain": [
       "[{'science_program_id': 1000,\n",
       "  'observation_id': 215,\n",
       "  'title': '',\n",
       "  'collection': 'OT_Library_HII',\n",
       "  'proposal_pi': 'dtouzan@gmail.com',\n",
       "  'priority': None,\n",
       "  'status': None,\n",
       "  'scheduling': '2020-01-14T21:30:00',\n",
       "  'fits_file': 'ic2162-20200114-2130-43x180-f1000.fits',\n",
       "  'note_file': 'fits',\n",
       "  'calibration': 1},\n",
       " {'science_program_id': 1000,\n",
       "  'observation_id': 216,\n",
       "  'title': '',\n",
       "  'collection': 'OT_Library_HII',\n",
       "  'proposal_pi': 'dtouzan@gmail.com',\n",
       "  'priority': None,\n",
       "  'status': None,\n",
       "  'scheduling': '2020-01-14T21:30:00',\n",
       "  'fits_file': 'ic2162-20200114-2130-22x180s-f1000.fits',\n",
       "  'note_file': 'fits',\n",
       "  'calibration': 1},\n",
       " {'science_program_id': 1000,\n",
       "  'observation_id': 223,\n",
       "  'title': '',\n",
       "  'collection': 'OT_Library_HII',\n",
       "  'proposal_pi': 'dtouzan@gmail.com',\n",
       "  'priority': None,\n",
       "  'status': None,\n",
       "  'scheduling': '2018-10-04T19:33:00',\n",
       "  'fits_file': 'lbn249-20181004-1933-38x60s-f1000.fits',\n",
       "  'note_file': 'fits',\n",
       "  'calibration': 1},\n",
       " {'science_program_id': 1000,\n",
       "  'observation_id': 252,\n",
       "  'title': '',\n",
       "  'collection': 'OT_Library_HII',\n",
       "  'proposal_pi': 'dtouzan@gmail.com',\n",
       "  'priority': None,\n",
       "  'status': None,\n",
       "  'scheduling': '2018-02-02T20:30:00',\n",
       "  'fits_file': 'm42-20180202-2030-5x30s-f945.fits',\n",
       "  'note_file': 'fits',\n",
       "  'calibration': 1},\n",
       " {'science_program_id': 1000,\n",
       "  'observation_id': 297,\n",
       "  'title': '',\n",
       "  'collection': 'OT_Library_HII',\n",
       "  'proposal_pi': 'dtouzan@gmail.com',\n",
       "  'priority': None,\n",
       "  'status': None,\n",
       "  'scheduling': '2019-12-02T20:09:00',\n",
       "  'fits_file': 'ngc604-20191202-2009-24x180s-f1000.fits',\n",
       "  'note_file': 'fits',\n",
       "  'calibration': 1},\n",
       " {'science_program_id': 1000,\n",
       "  'observation_id': 298,\n",
       "  'title': '',\n",
       "  'collection': 'OT_Library_HII',\n",
       "  'proposal_pi': 'dtouzan@gmail.com',\n",
       "  'priority': None,\n",
       "  'status': None,\n",
       "  'scheduling': '2019-12-02T20:08:00',\n",
       "  'fits_file': 'ngc604-20191202-2008-24x180s-f1000.fits',\n",
       "  'note_file': 'fits',\n",
       "  'calibration': 1},\n",
       " {'science_program_id': 1000,\n",
       "  'observation_id': 302,\n",
       "  'title': '',\n",
       "  'collection': 'OT_Library_HII',\n",
       "  'proposal_pi': 'dtouzan@gmail.com',\n",
       "  'priority': None,\n",
       "  'status': None,\n",
       "  'scheduling': '2019-12-30T20:14:00',\n",
       "  'fits_file': 'ngc1491-20191230-2014-14x180s-f1000.fits',\n",
       "  'note_file': 'fits',\n",
       "  'calibration': 1},\n",
       " {'science_program_id': 1000,\n",
       "  'observation_id': 318,\n",
       "  'title': '',\n",
       "  'collection': 'OT_Library_HII',\n",
       "  'proposal_pi': 'dtouzan@gmail.com',\n",
       "  'priority': None,\n",
       "  'status': None,\n",
       "  'scheduling': '2021-03-07T19:50:00',\n",
       "  'fits_file': 'ngc2238-20210307-1950-1x180s-f300.fits',\n",
       "  'note_file': 'fits',\n",
       "  'calibration': 1},\n",
       " {'science_program_id': 1000,\n",
       "  'observation_id': 319,\n",
       "  'title': '',\n",
       "  'collection': 'OT_Library_HII',\n",
       "  'proposal_pi': 'dtouzan@gmail.com',\n",
       "  'priority': None,\n",
       "  'status': None,\n",
       "  'scheduling': '2021-03-07T20:25:00',\n",
       "  'fits_file': 'ngc2238-20210307-2025-1x300s-f300.fits',\n",
       "  'note_file': 'fits',\n",
       "  'calibration': 1},\n",
       " {'science_program_id': 1000,\n",
       "  'observation_id': 397,\n",
       "  'title': '',\n",
       "  'collection': 'OT_Library_HII',\n",
       "  'proposal_pi': 'dtouzan@gmail.com',\n",
       "  'priority': None,\n",
       "  'status': None,\n",
       "  'scheduling': '2020-07-20T21:40:00',\n",
       "  'fits_file': 'LBN139-20200720-2140-20x180s-f1000.fits',\n",
       "  'note_file': 'fits',\n",
       "  'calibration': 1},\n",
       " {'science_program_id': 1000,\n",
       "  'observation_id': 398,\n",
       "  'title': '',\n",
       "  'collection': 'OT_Library_HII',\n",
       "  'proposal_pi': 'dtouzan@gmail.com',\n",
       "  'priority': None,\n",
       "  'status': None,\n",
       "  'scheduling': '2020-07-20T22:49:00',\n",
       "  'fits_file': 'LBN144-20200720-2249-21x180s-f1000.fits',\n",
       "  'note_file': 'fits',\n",
       "  'calibration': 1},\n",
       " {'science_program_id': 1000,\n",
       "  'observation_id': 515,\n",
       "  'title': '',\n",
       "  'collection': 'OT_Library_HII',\n",
       "  'proposal_pi': 'dtouzan@gmail.com',\n",
       "  'priority': None,\n",
       "  'status': None,\n",
       "  'scheduling': '2021-08-31T21:46:00',\n",
       "  'fits_file': 'ngc7822-20210831-2146-14x180s-f85.fits',\n",
       "  'note_file': 'fits',\n",
       "  'calibration': 1},\n",
       " {'science_program_id': 1000,\n",
       "  'observation_id': 527,\n",
       "  'title': '',\n",
       "  'collection': 'OT_Library_HII',\n",
       "  'proposal_pi': 'dtouzan@gmail.com',\n",
       "  'priority': None,\n",
       "  'status': None,\n",
       "  'scheduling': '2021-09-12T21:06:00',\n",
       "  'fits_file': 'ngc281-20210912-2106-15x60s-f200.fits',\n",
       "  'note_file': 'fits',\n",
       "  'calibration': 1},\n",
       " {'science_program_id': 1000,\n",
       "  'observation_id': 574,\n",
       "  'title': '',\n",
       "  'collection': 'OT_Library_HII',\n",
       "  'proposal_pi': 'dtouzan@gmail.com',\n",
       "  'priority': None,\n",
       "  'status': None,\n",
       "  'scheduling': '2021-10-27T20:01:00',\n",
       "  'fits_file': 'ngc7635-20211027-2001-12x300s-f750.fits',\n",
       "  'note_file': 'fits',\n",
       "  'calibration': 1},\n",
       " {'science_program_id': 1000,\n",
       "  'observation_id': 777,\n",
       "  'title': '',\n",
       "  'collection': 'OT_Library_HII',\n",
       "  'proposal_pi': 'dtouzan@gmail.com',\n",
       "  'priority': None,\n",
       "  'status': None,\n",
       "  'scheduling': '2022-10-02T21:22:00',\n",
       "  'fits_file': 'ngc7822-20221002-2122-12x300s-f85.fits',\n",
       "  'note_file': 'fits',\n",
       "  'calibration': 1},\n",
       " {'science_program_id': 1000,\n",
       "  'observation_id': 778,\n",
       "  'title': '',\n",
       "  'collection': 'OT_Library_HII',\n",
       "  'proposal_pi': 'dtouzan@gmail.com',\n",
       "  'priority': None,\n",
       "  'status': None,\n",
       "  'scheduling': '2022-10-07T19:50:00',\n",
       "  'fits_file': 'DWB111-20221007-1950-16x300s-f85.fits',\n",
       "  'note_file': 'fits',\n",
       "  'calibration': 1},\n",
       " {'science_program_id': 1000,\n",
       "  'observation_id': 788,\n",
       "  'title': '',\n",
       "  'collection': 'OT_Library_HII',\n",
       "  'proposal_pi': 'dtouzan@gmail.com',\n",
       "  'priority': None,\n",
       "  'status': None,\n",
       "  'scheduling': '2022-11-15T22:23:00',\n",
       "  'fits_file': 'ngc1499-20221115-2223-5x600s-f85.fits',\n",
       "  'note_file': 'fits',\n",
       "  'calibration': 1},\n",
       " {'science_program_id': 1000,\n",
       "  'observation_id': 789,\n",
       "  'title': '',\n",
       "  'collection': 'OT_Library_HII',\n",
       "  'proposal_pi': 'dtouzan@gmail.com',\n",
       "  'priority': None,\n",
       "  'status': None,\n",
       "  'scheduling': '2022-11-15T21:38:00',\n",
       "  'fits_file': 'ngc1499-20221115-2138-3x180s-f42.fits',\n",
       "  'note_file': 'fits',\n",
       "  'calibration': 1},\n",
       " {'science_program_id': 1000,\n",
       "  'observation_id': 818,\n",
       "  'title': '',\n",
       "  'collection': 'OT_Library_HII',\n",
       "  'proposal_pi': 'dtouzan@gmail.com',\n",
       "  'priority': None,\n",
       "  'status': None,\n",
       "  'scheduling': '2022-02-13T22:21:00',\n",
       "  'fits_file': 'ic447-20220213-2221-4x600s-f85.fits',\n",
       "  'note_file': 'fits',\n",
       "  'calibration': 1},\n",
       " {'science_program_id': 1000,\n",
       "  'observation_id': 887,\n",
       "  'title': 'None',\n",
       "  'collection': 'OT_Library_HII',\n",
       "  'proposal_pi': 'dtouzan@gmail.com',\n",
       "  'priority': None,\n",
       "  'status': None,\n",
       "  'scheduling': '2023-10-07T23:01:00',\n",
       "  'fits_file': 'ngc281-20231007-2301-15x300s-f200.fits',\n",
       "  'note_file': 'fits',\n",
       "  'calibration': 1},\n",
       " {'science_program_id': 1000,\n",
       "  'observation_id': 889,\n",
       "  'title': 'None',\n",
       "  'collection': 'OT_Library_HII',\n",
       "  'proposal_pi': 'dtouzan@gmail.com',\n",
       "  'priority': None,\n",
       "  'status': None,\n",
       "  'scheduling': '2023-10-08T20:35:00',\n",
       "  'fits_file': 'ngc7822-20231008-2035-12x300s-f85.fits',\n",
       "  'note_file': 'fits',\n",
       "  'calibration': 1}]"
      ]
     },
     "execution_count": 3,
     "metadata": {},
     "output_type": "execute_result"
    }
   ],
   "source": [
    "data_interface.observation_by_collection('OT_Library_GALAXY')\n"
   ]
  },
  {
   "cell_type": "code",
   "execution_count": null,
   "id": "49c8d0e1-4497-46ac-a951-788b36bcc41c",
   "metadata": {},
   "outputs": [],
   "source": []
  }
 ],
 "metadata": {
  "kernelspec": {
   "display_name": "Python 3 (ipykernel)",
   "language": "python",
   "name": "python3"
  },
  "language_info": {
   "codemirror_mode": {
    "name": "ipython",
    "version": 3
   },
   "file_extension": ".py",
   "mimetype": "text/x-python",
   "name": "python",
   "nbconvert_exporter": "python",
   "pygments_lexer": "ipython3",
   "version": "3.13.1"
  }
 },
 "nbformat": 4,
 "nbformat_minor": 5
}
